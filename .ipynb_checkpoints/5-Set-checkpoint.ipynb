{
 "cells": [
  {
   "cell_type": "code",
   "execution_count": 1,
   "id": "3edd0e55-66aa-4ec1-b22b-e4eb919a23ba",
   "metadata": {},
   "outputs": [],
   "source": [
    "#unique elements, unordered"
   ]
  },
  {
   "cell_type": "code",
   "execution_count": 2,
   "id": "7f2fc38c-828c-44a6-b106-6b07daa3685a",
   "metadata": {},
   "outputs": [],
   "source": [
    "myList=[10,20,30,10,20,40,10,20,40]"
   ]
  },
  {
   "cell_type": "code",
   "execution_count": 4,
   "id": "6d91e2e8-2482-4f94-8363-c07278bf46f7",
   "metadata": {},
   "outputs": [
    {
     "data": {
      "text/plain": [
       "9"
      ]
     },
     "execution_count": 4,
     "metadata": {},
     "output_type": "execute_result"
    }
   ],
   "source": [
    "len(myList)"
   ]
  },
  {
   "cell_type": "code",
   "execution_count": 5,
   "id": "ed518618-28a8-4d6f-bda7-19176e09d01c",
   "metadata": {},
   "outputs": [
    {
     "data": {
      "text/plain": [
       "[10, 20, 30, 10, 20, 40, 10, 20, 40]"
      ]
     },
     "execution_count": 5,
     "metadata": {},
     "output_type": "execute_result"
    }
   ],
   "source": [
    "myList"
   ]
  },
  {
   "cell_type": "code",
   "execution_count": 6,
   "id": "62a224b5-0f3c-4f54-9cca-84b1e42a083f",
   "metadata": {},
   "outputs": [],
   "source": [
    "mySet=set(myList)"
   ]
  },
  {
   "cell_type": "code",
   "execution_count": 7,
   "id": "d69e189d-1132-4fb9-a123-3f3c266435b1",
   "metadata": {},
   "outputs": [
    {
     "data": {
      "text/plain": [
       "{10, 20, 30, 40}"
      ]
     },
     "execution_count": 7,
     "metadata": {},
     "output_type": "execute_result"
    }
   ],
   "source": [
    "mySet"
   ]
  },
  {
   "cell_type": "code",
   "execution_count": 8,
   "id": "032df610-a07b-4b25-b3bc-a8471259a9c3",
   "metadata": {},
   "outputs": [],
   "source": [
    "mySet={10,20,30,10,20,40,10,20,40}"
   ]
  },
  {
   "cell_type": "code",
   "execution_count": 9,
   "id": "38e869ab-fc31-4822-828c-3eaa613ac4c6",
   "metadata": {},
   "outputs": [
    {
     "data": {
      "text/plain": [
       "{10, 20, 30, 40}"
      ]
     },
     "execution_count": 9,
     "metadata": {},
     "output_type": "execute_result"
    }
   ],
   "source": [
    "mySet"
   ]
  },
  {
   "cell_type": "code",
   "execution_count": 12,
   "id": "bb35ac3e-f7ae-4047-8d4c-8e746b7ee956",
   "metadata": {},
   "outputs": [],
   "source": [
    "mySet.add(50)"
   ]
  },
  {
   "cell_type": "code",
   "execution_count": 13,
   "id": "f506c243-2cff-4161-b845-28518c0aea7b",
   "metadata": {},
   "outputs": [
    {
     "data": {
      "text/plain": [
       "{10, 20, 30, 40, 50}"
      ]
     },
     "execution_count": 13,
     "metadata": {},
     "output_type": "execute_result"
    }
   ],
   "source": [
    "mySet"
   ]
  },
  {
   "cell_type": "code",
   "execution_count": 14,
   "id": "a6e667ec-7801-44e3-9ecc-a62bc62c541d",
   "metadata": {},
   "outputs": [],
   "source": [
    "mySet2={30,40,50,60,70}"
   ]
  },
  {
   "cell_type": "code",
   "execution_count": 15,
   "id": "11272554-6b2d-46c7-aa7a-ef32bae6dff3",
   "metadata": {},
   "outputs": [
    {
     "data": {
      "text/plain": [
       "{10, 20, 30, 40, 50}"
      ]
     },
     "execution_count": 15,
     "metadata": {},
     "output_type": "execute_result"
    }
   ],
   "source": [
    "mySet"
   ]
  },
  {
   "cell_type": "code",
   "execution_count": 16,
   "id": "d69a412b-b91c-4454-9fbf-81281a04ea69",
   "metadata": {},
   "outputs": [
    {
     "data": {
      "text/plain": [
       "{30, 40, 50, 60, 70}"
      ]
     },
     "execution_count": 16,
     "metadata": {},
     "output_type": "execute_result"
    }
   ],
   "source": [
    "mySet2"
   ]
  },
  {
   "cell_type": "code",
   "execution_count": 17,
   "id": "e1c73d75-0b2c-43af-8bdb-53d28223596b",
   "metadata": {},
   "outputs": [
    {
     "data": {
      "text/plain": [
       "{10, 20, 30, 40, 50, 60, 70}"
      ]
     },
     "execution_count": 17,
     "metadata": {},
     "output_type": "execute_result"
    }
   ],
   "source": [
    "mySet.union(mySet2)"
   ]
  },
  {
   "cell_type": "code",
   "execution_count": 18,
   "id": "835ce68e-3359-4d35-8364-c7505779ddff",
   "metadata": {},
   "outputs": [
    {
     "data": {
      "text/plain": [
       "{30, 40, 50}"
      ]
     },
     "execution_count": 18,
     "metadata": {},
     "output_type": "execute_result"
    }
   ],
   "source": [
    "mySet.intersection(mySet2)"
   ]
  },
  {
   "cell_type": "code",
   "execution_count": 19,
   "id": "2068afe3-070b-47c8-926e-91dbe097d24f",
   "metadata": {},
   "outputs": [],
   "source": [
    "countryList=[\"de\",\"fr\",\"tr\",\"fr\",\"tr\",\"tr\",\"de\",\"nl\",\"de\",\"tr\"]"
   ]
  },
  {
   "cell_type": "code",
   "execution_count": 20,
   "id": "a6392b03-0542-4f93-87e4-21f3f0169e4d",
   "metadata": {},
   "outputs": [
    {
     "data": {
      "text/plain": [
       "10"
      ]
     },
     "execution_count": 20,
     "metadata": {},
     "output_type": "execute_result"
    }
   ],
   "source": [
    "len(countryList)"
   ]
  },
  {
   "cell_type": "code",
   "execution_count": 21,
   "id": "072bf264-b709-4e01-8925-705857fbbc59",
   "metadata": {},
   "outputs": [
    {
     "data": {
      "text/plain": [
       "{'de', 'fr', 'nl', 'tr'}"
      ]
     },
     "execution_count": 21,
     "metadata": {},
     "output_type": "execute_result"
    }
   ],
   "source": [
    "set(countryList)"
   ]
  },
  {
   "cell_type": "code",
   "execution_count": 22,
   "id": "f0ed6ef6-b81d-4c7f-a064-d43ff55ceaa0",
   "metadata": {},
   "outputs": [
    {
     "data": {
      "text/plain": [
       "4"
      ]
     },
     "execution_count": 22,
     "metadata": {},
     "output_type": "execute_result"
    }
   ],
   "source": [
    "len(set(countryList))"
   ]
  },
  {
   "cell_type": "code",
   "execution_count": 23,
   "id": "092e78a5-ea50-4f46-a5f0-e6ee628cd472",
   "metadata": {},
   "outputs": [],
   "source": [
    "emptyList=[]"
   ]
  },
  {
   "cell_type": "code",
   "execution_count": 24,
   "id": "c59c82fc-0e02-4c4b-830f-0096012737d2",
   "metadata": {},
   "outputs": [],
   "source": [
    "emptyList.append(10)\n",
    "emptyList.append(20)\n",
    "emptyList.append(30)"
   ]
  },
  {
   "cell_type": "code",
   "execution_count": 25,
   "id": "2e4bd51a-b4b4-4c56-853c-c047d1096f58",
   "metadata": {},
   "outputs": [
    {
     "data": {
      "text/plain": [
       "[10, 20, 30]"
      ]
     },
     "execution_count": 25,
     "metadata": {},
     "output_type": "execute_result"
    }
   ],
   "source": [
    "emptyList"
   ]
  },
  {
   "cell_type": "code",
   "execution_count": 26,
   "id": "7379ff28-0933-4bd5-8beb-c9eb3b5df5c6",
   "metadata": {},
   "outputs": [],
   "source": [
    "emptySet={}"
   ]
  },
  {
   "cell_type": "code",
   "execution_count": 27,
   "id": "94281a18-ad37-4770-bb40-0a8cc51dec53",
   "metadata": {},
   "outputs": [
    {
     "data": {
      "text/plain": [
       "dict"
      ]
     },
     "execution_count": 27,
     "metadata": {},
     "output_type": "execute_result"
    }
   ],
   "source": [
    "type(emptySet)"
   ]
  },
  {
   "cell_type": "code",
   "execution_count": 28,
   "id": "b74b1b13-5cf0-4549-8fca-bdd31aebde91",
   "metadata": {},
   "outputs": [],
   "source": [
    "emptySet=set()"
   ]
  },
  {
   "cell_type": "code",
   "execution_count": 29,
   "id": "42d4f445-0fa3-4d9e-81d2-4b584223e940",
   "metadata": {},
   "outputs": [
    {
     "data": {
      "text/plain": [
       "set"
      ]
     },
     "execution_count": 29,
     "metadata": {},
     "output_type": "execute_result"
    }
   ],
   "source": [
    "type(emptySet)"
   ]
  },
  {
   "cell_type": "code",
   "execution_count": 30,
   "id": "3d89f6e5-514e-41f0-bbde-46d1b3277c21",
   "metadata": {},
   "outputs": [
    {
     "data": {
      "text/plain": [
       "0"
      ]
     },
     "execution_count": 30,
     "metadata": {},
     "output_type": "execute_result"
    }
   ],
   "source": [
    "len(emptySet)"
   ]
  },
  {
   "cell_type": "code",
   "execution_count": 31,
   "id": "c3918708-f631-47cd-8bbb-81137af154c3",
   "metadata": {},
   "outputs": [],
   "source": [
    "emptySet.add(10)\n",
    "emptySet.add(10)\n",
    "emptySet.add(10)\n",
    "emptySet.add(20)\n",
    "emptySet.add(30)"
   ]
  },
  {
   "cell_type": "code",
   "execution_count": 32,
   "id": "9087fb9c-cb41-4000-ab03-8b9bb513d4a5",
   "metadata": {},
   "outputs": [
    {
     "data": {
      "text/plain": [
       "{10, 20, 30}"
      ]
     },
     "execution_count": 32,
     "metadata": {},
     "output_type": "execute_result"
    }
   ],
   "source": [
    "emptySet"
   ]
  },
  {
   "cell_type": "code",
   "execution_count": 33,
   "id": "69ef31bd-0c86-4161-b235-9f11e75a79e6",
   "metadata": {},
   "outputs": [],
   "source": [
    "emptyList=list()"
   ]
  },
  {
   "cell_type": "code",
   "execution_count": 34,
   "id": "830a11e2-02a5-46a3-b6b6-7914080706fd",
   "metadata": {},
   "outputs": [],
   "source": [
    "emptyList.append(10)\n",
    "emptyList.append(20)\n",
    "emptyList.append(30)"
   ]
  },
  {
   "cell_type": "code",
   "execution_count": 35,
   "id": "c15a11ed-3ed7-4038-b73a-95589a12e36d",
   "metadata": {},
   "outputs": [
    {
     "data": {
      "text/plain": [
       "[10, 20, 30]"
      ]
     },
     "execution_count": 35,
     "metadata": {},
     "output_type": "execute_result"
    }
   ],
   "source": [
    "emptyList"
   ]
  },
  {
   "cell_type": "code",
   "execution_count": 36,
   "id": "1c3eda29-fefc-4f94-8b96-3e60a2cec98d",
   "metadata": {},
   "outputs": [],
   "source": [
    "emptyDictionary=dict()"
   ]
  },
  {
   "cell_type": "code",
   "execution_count": 37,
   "id": "f187df94-af29-4abc-a4f7-0eb71fc582f7",
   "metadata": {},
   "outputs": [],
   "source": [
    "emptyDictionary[\"a\"]=10\n",
    "emptyDictionary[\"b\"]=20"
   ]
  },
  {
   "cell_type": "code",
   "execution_count": 38,
   "id": "a91a672a-9514-41ab-92d4-298a4a08d79f",
   "metadata": {},
   "outputs": [
    {
     "data": {
      "text/plain": [
       "{'a': 10, 'b': 20}"
      ]
     },
     "execution_count": 38,
     "metadata": {},
     "output_type": "execute_result"
    }
   ],
   "source": [
    "emptyDictionary"
   ]
  }
 ],
 "metadata": {
  "kernelspec": {
   "display_name": "Python 3 (ipykernel)",
   "language": "python",
   "name": "python3"
  },
  "language_info": {
   "codemirror_mode": {
    "name": "ipython",
    "version": 3
   },
   "file_extension": ".py",
   "mimetype": "text/x-python",
   "name": "python",
   "nbconvert_exporter": "python",
   "pygments_lexer": "ipython3",
   "version": "3.12.7"
  }
 },
 "nbformat": 4,
 "nbformat_minor": 5
}
