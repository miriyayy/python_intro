{
 "cells": [
  {
   "cell_type": "code",
   "execution_count": 1,
   "id": "8085bbb0-67e4-4478-85c4-f4bd306bea41",
   "metadata": {},
   "outputs": [
    {
     "name": "stdout",
     "output_type": "stream",
     "text": [
      "Merhaba!\n"
     ]
    }
   ],
   "source": [
    "def mesaj():\n",
    "    print(\"Merhaba!\")    \n",
    "    \n",
    "mesaj()   "
   ]
  },
  {
   "cell_type": "code",
   "execution_count": 2,
   "id": "a0989ef5-54a3-47ed-8114-fe925de72947",
   "metadata": {},
   "outputs": [
    {
     "data": {
      "text/plain": [
       "[1, 4, 9]"
      ]
     },
     "execution_count": 2,
     "metadata": {},
     "output_type": "execute_result"
    }
   ],
   "source": [
    "a = [1,2,3]\n",
    "b = []\n",
    "for i in a:\n",
    "    b.append(i**2)\n",
    "b"
   ]
  },
  {
   "cell_type": "code",
   "execution_count": 3,
   "id": "bb1c2c15-7ef7-4f0e-9ba4-5719ef384ecc",
   "metadata": {},
   "outputs": [
    {
     "data": {
      "text/plain": [
       "\u001b[1;31mSignature:\u001b[0m \u001b[0mprint\u001b[0m\u001b[1;33m(\u001b[0m\u001b[1;33m*\u001b[0m\u001b[0margs\u001b[0m\u001b[1;33m,\u001b[0m \u001b[0msep\u001b[0m\u001b[1;33m=\u001b[0m\u001b[1;34m' '\u001b[0m\u001b[1;33m,\u001b[0m \u001b[0mend\u001b[0m\u001b[1;33m=\u001b[0m\u001b[1;34m'\\n'\u001b[0m\u001b[1;33m,\u001b[0m \u001b[0mfile\u001b[0m\u001b[1;33m=\u001b[0m\u001b[1;32mNone\u001b[0m\u001b[1;33m,\u001b[0m \u001b[0mflush\u001b[0m\u001b[1;33m=\u001b[0m\u001b[1;32mFalse\u001b[0m\u001b[1;33m)\u001b[0m\u001b[1;33m\u001b[0m\u001b[1;33m\u001b[0m\u001b[0m\n",
       "\u001b[1;31mDocstring:\u001b[0m\n",
       "Prints the values to a stream, or to sys.stdout by default.\n",
       "\n",
       "sep\n",
       "  string inserted between values, default a space.\n",
       "end\n",
       "  string appended after the last value, default a newline.\n",
       "file\n",
       "  a file-like object (stream); defaults to the current sys.stdout.\n",
       "flush\n",
       "  whether to forcibly flush the stream.\n",
       "\u001b[1;31mType:\u001b[0m      builtin_function_or_method"
      ]
     },
     "metadata": {},
     "output_type": "display_data"
    }
   ],
   "source": [
    "?print"
   ]
  },
  {
   "cell_type": "code",
   "execution_count": 4,
   "id": "cba21f49-f853-473d-9c08-cda57d96e9e3",
   "metadata": {},
   "outputs": [
    {
     "name": "stdout",
     "output_type": "stream",
     "text": [
      "10\n"
     ]
    }
   ],
   "source": [
    "def islem(x, y):\n",
    "    print(x + y)\n",
    " \n",
    "islem(1,9)\n",
    " "
   ]
  },
  {
   "cell_type": "code",
   "execution_count": 5,
   "id": "81adb293-178d-45ff-84f7-b11ae640c9ce",
   "metadata": {},
   "outputs": [
    {
     "name": "stdout",
     "output_type": "stream",
     "text": [
      "yes\n"
     ]
    }
   ],
   "source": [
    "if [1,2,3,4][1] == 2:\n",
    "    print(\"YES\".lower())\n",
    "else:\n",
    "    print(\"NO\")    "
   ]
  },
  {
   "cell_type": "code",
   "execution_count": 7,
   "id": "1dbb46a5-f0a0-45c3-9f4b-01fb58e8e8aa",
   "metadata": {},
   "outputs": [
    {
     "ename": "TypeError",
     "evalue": "islem() missing 1 required positional argument: 'y'",
     "output_type": "error",
     "traceback": [
      "\u001b[1;31m---------------------------------------------------------------------------\u001b[0m",
      "\u001b[1;31mTypeError\u001b[0m                                 Traceback (most recent call last)",
      "Cell \u001b[1;32mIn[7], line 4\u001b[0m\n\u001b[0;32m      1\u001b[0m \u001b[38;5;28;01mdef\u001b[39;00m \u001b[38;5;21mislem\u001b[39m(x, y):\n\u001b[0;32m      2\u001b[0m     \u001b[38;5;28mprint\u001b[39m(x \u001b[38;5;241m-\u001b[39m y)\n\u001b[1;32m----> 4\u001b[0m islem(\u001b[38;5;241m3\u001b[39m)\n",
      "\u001b[1;31mTypeError\u001b[0m: islem() missing 1 required positional argument: 'y'"
     ]
    }
   ],
   "source": [
    "def islem(x, y):\n",
    "    print(x - y)\n",
    "\n",
    "islem(3)"
   ]
  },
  {
   "cell_type": "code",
   "execution_count": 8,
   "id": "acaaed15-89cc-4d8f-880e-17f8d1cd4b5b",
   "metadata": {},
   "outputs": [
    {
     "name": "stdout",
     "output_type": "stream",
     "text": [
      "0\n",
      "0\n",
      "19.5\n"
     ]
    }
   ],
   "source": [
    "urun_fiyatlari = [19,29,39]\n",
    " \n",
    "for i in urun_fiyatlari:\n",
    "    if i >= 30:\n",
    "        print(i/2)\n",
    "    else:\n",
    "        print(i*0)"
   ]
  },
  {
   "cell_type": "code",
   "execution_count": 9,
   "id": "8e2e1809-dead-4799-886d-a9c62c0db613",
   "metadata": {},
   "outputs": [
    {
     "name": "stdout",
     "output_type": "stream",
     "text": [
      "*12*\n"
     ]
    }
   ],
   "source": [
    "A = 12    \n",
    "if type(A) == str:\n",
    "    A = A.strip(\"*\")\n",
    "    print(A)    \n",
    "else:\n",
    "    A  = \"*\" + str(A) + \"*\"\n",
    "    print(A.strip())"
   ]
  },
  {
   "cell_type": "code",
   "execution_count": 10,
   "id": "ff188fdf-809c-4741-8c0b-15a0ef56f7f8",
   "metadata": {},
   "outputs": [
    {
     "name": "stdout",
     "output_type": "stream",
     "text": [
      "a\n",
      "11\n"
     ]
    }
   ],
   "source": [
    "for i in [\"a\",11]:\n",
    "    print(i)"
   ]
  },
  {
   "cell_type": "code",
   "execution_count": 11,
   "id": "80462728-0049-43bb-ab05-6601e049efe0",
   "metadata": {},
   "outputs": [
    {
     "name": "stdout",
     "output_type": "stream",
     "text": [
      "A\n"
     ]
    }
   ],
   "source": [
    "A = \"*A*\"    \n",
    "if type(A) == str:\n",
    "    A = A.strip(\"*\")\n",
    "    print(A)"
   ]
  },
  {
   "cell_type": "code",
   "execution_count": 12,
   "id": "f67d770b-2656-4879-8f0e-18014d4c6cfd",
   "metadata": {},
   "outputs": [
    {
     "name": "stdout",
     "output_type": "stream",
     "text": [
      "['ala', 'vela', 'asak']\n"
     ]
    }
   ],
   "source": [
    "A = []\n",
    "for i in [\"ali\",\"veli\",\"isik\"]:\n",
    "    A.append(i.replace(\"i\",\"a\"))\n",
    "print(A)"
   ]
  },
  {
   "cell_type": "code",
   "execution_count": 13,
   "id": "7f514be3-dc49-4414-a232-687cad6a4acc",
   "metadata": {},
   "outputs": [
    {
     "data": {
      "text/plain": [
       "[3, 9, 15]"
      ]
     },
     "execution_count": 13,
     "metadata": {},
     "output_type": "execute_result"
    }
   ],
   "source": [
    "A = [[1,2],[3,4],[5,6]]\n",
    "list(map(lambda x: x[0]*3, A))"
   ]
  },
  {
   "cell_type": "code",
   "execution_count": 14,
   "id": "30dc0366-ff3c-4871-b8cf-158c2b39d29f",
   "metadata": {},
   "outputs": [
    {
     "name": "stdout",
     "output_type": "stream",
     "text": [
      "[1, 4, 9, 16]\n"
     ]
    }
   ],
   "source": [
    "liste = [1,2,3,4]\n",
    "A = []\n",
    "\n",
    "for i in liste:\n",
    "    A.append(i**2)\n",
    "\n",
    "print(A)"
   ]
  },
  {
   "cell_type": "code",
   "execution_count": 15,
   "id": "cef0d3d9-7f95-4e0c-a33d-950c7385adce",
   "metadata": {},
   "outputs": [
    {
     "data": {
      "text/plain": [
       "[]"
      ]
     },
     "execution_count": 15,
     "metadata": {},
     "output_type": "execute_result"
    }
   ],
   "source": [
    "class BolumSorulari():\n",
    "    fonksiyonlar = []\n",
    "    OOP = []\n",
    "\n",
    "BolumSorulari.OOP"
   ]
  },
  {
   "cell_type": "code",
   "execution_count": 16,
   "id": "c4b714e9-0454-42cc-aaf2-66086dfee66e",
   "metadata": {},
   "outputs": [
    {
     "name": "stdout",
     "output_type": "stream",
     "text": [
      "[1.0, 2.0, 3.0, 4.0, 5.0]\n"
     ]
    }
   ],
   "source": [
    "A = [1,2,3,4,5]\n",
    "\n",
    "if type(A) == ():\n",
    "    print(\"islem gecersiz\")\n",
    "else:\n",
    "    print(list(map(lambda x: x/1, A)))"
   ]
  },
  {
   "cell_type": "code",
   "execution_count": 17,
   "id": "e71b44d5-b3a0-41be-b1d4-f2b919a0c99c",
   "metadata": {},
   "outputs": [
    {
     "data": {
      "text/plain": [
       "[20, 10, 30]"
      ]
     },
     "execution_count": 17,
     "metadata": {},
     "output_type": "execute_result"
    }
   ],
   "source": [
    "liste = [\"a\",20,10,30,\"b\"]\n",
    "list(filter(lambda x: type(x) == int, liste))"
   ]
  },
  {
   "cell_type": "code",
   "execution_count": 18,
   "id": "65f0d64f-7798-4a33-95f9-94c2e9ac3dca",
   "metadata": {},
   "outputs": [
    {
     "name": "stdout",
     "output_type": "stream",
     "text": [
      "['ali hi', 'veli hi', 'isik hi']\n"
     ]
    }
   ],
   "source": [
    "A = [\"ali\",\"veli\",\"isik\"]\n",
    "B = [1,2,3]\n",
    "AB = [A, B]\n",
    "\n",
    "for i in AB:\n",
    "    if type(i[0]) == str:\n",
    "        print(list(map(lambda x: x + \" hi\", i)))  \n",
    " "
   ]
  },
  {
   "cell_type": "code",
   "execution_count": 19,
   "id": "c5483b6e-12c8-4b1a-b7a8-103a754a3d6a",
   "metadata": {},
   "outputs": [
    {
     "data": {
      "text/plain": [
       "['pazartesi']"
      ]
     },
     "execution_count": 19,
     "metadata": {},
     "output_type": "execute_result"
    }
   ],
   "source": [
    "list(filter(lambda x: len(x) > 8, [\"pazartesi\",\"sali\",\"carsamba\",\"persembe\",\"cuma\"]))"
   ]
  },
  {
   "cell_type": "code",
   "execution_count": 20,
   "id": "29d6431a-0e7b-4293-87f7-bf0fc1395a1b",
   "metadata": {},
   "outputs": [
    {
     "data": {
      "text/plain": [
       "'a4a'"
      ]
     },
     "execution_count": 20,
     "metadata": {},
     "output_type": "execute_result"
    }
   ],
   "source": [
    "from functools import reduce\n",
    "reduce(lambda a,b: a+b, [\"a\",\"4\",\"a\"])"
   ]
  },
  {
   "cell_type": "code",
   "execution_count": 21,
   "id": "39582693-3598-4e4e-9229-703a3d27c508",
   "metadata": {},
   "outputs": [
    {
     "data": {
      "text/plain": [
       "array([3, 3, 3])"
      ]
     },
     "execution_count": 21,
     "metadata": {},
     "output_type": "execute_result"
    }
   ],
   "source": [
    "import numpy as np\n",
    "a = np.array([1,1,1])\n",
    "b = np.array([2])\n",
    "\n",
    "a+b\n",
    " "
   ]
  },
  {
   "cell_type": "code",
   "execution_count": 22,
   "id": "9bc03505-f93b-406a-b944-83a7dc94d5c8",
   "metadata": {},
   "outputs": [
    {
     "data": {
      "text/plain": [
       "['ALI', 'VELI', 'ISIK']"
      ]
     },
     "execution_count": 22,
     "metadata": {},
     "output_type": "execute_result"
    }
   ],
   "source": [
    "list(map(lambda x: x.upper(), [\"Ali\",\"Veli\",\"isik\"]))"
   ]
  },
  {
   "cell_type": "code",
   "execution_count": 23,
   "id": "a0507ec4-736c-47c4-976f-1d883da3bdd6",
   "metadata": {},
   "outputs": [
    {
     "data": {
      "text/plain": [
       "'VBO'"
      ]
     },
     "execution_count": 23,
     "metadata": {},
     "output_type": "execute_result"
    }
   ],
   "source": [
    "from functools import reduce\n",
    "A = [\"Veri\",\"Bilimi\",\"Okulu\"]\n",
    "reduce(lambda a,b: a+b, list(map(lambda x: x[0], A)))"
   ]
  },
  {
   "cell_type": "code",
   "execution_count": 24,
   "id": "a931143f-150b-476d-a338-cc5b8d3cced5",
   "metadata": {},
   "outputs": [
    {
     "name": "stdout",
     "output_type": "stream",
     "text": [
      "[-2, -1, 0]\n"
     ]
    }
   ],
   "source": [
    "A = [\"ali\",\"veli\",\"isik\"]\n",
    "B = [1,2,3]\n",
    "AB = [A,B]\n",
    "\n",
    "\n",
    "for i in AB:\n",
    "    if type(i[0]) == int:\n",
    "        print(list(map(lambda x: x-3, i)))\n",
    " "
   ]
  },
  {
   "cell_type": "code",
   "execution_count": 25,
   "id": "3d40d8a9-d286-4135-b2cf-bdc41ae3b2dd",
   "metadata": {},
   "outputs": [
    {
     "data": {
      "text/plain": [
       "[3.0, 4.0, 5.0]"
      ]
     },
     "execution_count": 25,
     "metadata": {},
     "output_type": "execute_result"
    }
   ],
   "source": [
    "list(map(lambda x: x/10, filter(lambda x: x > 20, [10,20,30,40,50])))"
   ]
  },
  {
   "cell_type": "code",
   "execution_count": null,
   "id": "f2975d7c-026a-4f8f-a336-66d4d3a62115",
   "metadata": {},
   "outputs": [],
   "source": []
  }
 ],
 "metadata": {
  "kernelspec": {
   "display_name": "Python 3 (ipykernel)",
   "language": "python",
   "name": "python3"
  },
  "language_info": {
   "codemirror_mode": {
    "name": "ipython",
    "version": 3
   },
   "file_extension": ".py",
   "mimetype": "text/x-python",
   "name": "python",
   "nbconvert_exporter": "python",
   "pygments_lexer": "ipython3",
   "version": "3.12.7"
  }
 },
 "nbformat": 4,
 "nbformat_minor": 5
}
