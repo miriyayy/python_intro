{
 "cells": [
  {
   "cell_type": "code",
   "execution_count": 1,
   "id": "c249631c-07c2-45c4-b4d2-b5c85d31dc9a",
   "metadata": {},
   "outputs": [
    {
     "data": {
      "text/plain": [
       "True"
      ]
     },
     "execution_count": 1,
     "metadata": {},
     "output_type": "execute_result"
    }
   ],
   "source": [
    "True"
   ]
  },
  {
   "cell_type": "code",
   "execution_count": 2,
   "id": "a13c3e4e-8488-455b-a14f-bb67392d86ba",
   "metadata": {},
   "outputs": [
    {
     "data": {
      "text/plain": [
       "False"
      ]
     },
     "execution_count": 2,
     "metadata": {},
     "output_type": "execute_result"
    }
   ],
   "source": [
    "False"
   ]
  },
  {
   "cell_type": "code",
   "execution_count": 3,
   "id": "3810b424-3dc1-4852-b93f-07ddc56cd0df",
   "metadata": {},
   "outputs": [],
   "source": [
    "myBoolean= True"
   ]
  },
  {
   "cell_type": "code",
   "execution_count": 4,
   "id": "82880445-57d6-4f1b-a6ec-5813461145c8",
   "metadata": {},
   "outputs": [
    {
     "data": {
      "text/plain": [
       "bool"
      ]
     },
     "execution_count": 4,
     "metadata": {},
     "output_type": "execute_result"
    }
   ],
   "source": [
    "type(myBoolean)"
   ]
  },
  {
   "cell_type": "code",
   "execution_count": 5,
   "id": "059e27a6-f69d-40c8-91d2-0c3cb014718c",
   "metadata": {},
   "outputs": [],
   "source": [
    "myBoolean= False"
   ]
  },
  {
   "cell_type": "code",
   "execution_count": 6,
   "id": "49147be0-77ee-4662-bfef-1f31684794ff",
   "metadata": {},
   "outputs": [
    {
     "data": {
      "text/plain": [
       "True"
      ]
     },
     "execution_count": 6,
     "metadata": {},
     "output_type": "execute_result"
    }
   ],
   "source": [
    "5>3"
   ]
  },
  {
   "cell_type": "code",
   "execution_count": 7,
   "id": "bb6d786c-84b4-456a-a078-9cf3602a32fe",
   "metadata": {},
   "outputs": [
    {
     "data": {
      "text/plain": [
       "False"
      ]
     },
     "execution_count": 7,
     "metadata": {},
     "output_type": "execute_result"
    }
   ],
   "source": [
    "3>5"
   ]
  },
  {
   "cell_type": "code",
   "execution_count": 8,
   "id": "c674e1f0-3d26-4a8c-9808-b2f6c958dd4b",
   "metadata": {},
   "outputs": [
    {
     "data": {
      "text/plain": [
       "False"
      ]
     },
     "execution_count": 8,
     "metadata": {},
     "output_type": "execute_result"
    }
   ],
   "source": [
    "2<1"
   ]
  },
  {
   "cell_type": "code",
   "execution_count": 9,
   "id": "1d2a22ba-d485-4bb5-b88b-022c107a74a9",
   "metadata": {},
   "outputs": [
    {
     "name": "stdin",
     "output_type": "stream",
     "text": [
      "pls enter age: 22\n"
     ]
    }
   ],
   "source": [
    "age=input(\"pls enter age:\")"
   ]
  },
  {
   "cell_type": "code",
   "execution_count": 12,
   "id": "28198410-699c-4d0c-b51a-34ddb40a1e2c",
   "metadata": {},
   "outputs": [
    {
     "data": {
      "text/plain": [
       "'22'"
      ]
     },
     "execution_count": 12,
     "metadata": {},
     "output_type": "execute_result"
    }
   ],
   "source": [
    "age"
   ]
  },
  {
   "cell_type": "code",
   "execution_count": 13,
   "id": "cf06b3ea-f229-4257-ab6f-383379395cb9",
   "metadata": {},
   "outputs": [
    {
     "data": {
      "text/plain": [
       "True"
      ]
     },
     "execution_count": 13,
     "metadata": {},
     "output_type": "execute_result"
    }
   ],
   "source": [
    "int(age)>18"
   ]
  },
  {
   "cell_type": "code",
   "execution_count": null,
   "id": "f75be564-2ccc-4391-ad6a-f0c1cf650ab6",
   "metadata": {},
   "outputs": [],
   "source": []
  }
 ],
 "metadata": {
  "kernelspec": {
   "display_name": "Python 3 (ipykernel)",
   "language": "python",
   "name": "python3"
  },
  "language_info": {
   "codemirror_mode": {
    "name": "ipython",
    "version": 3
   },
   "file_extension": ".py",
   "mimetype": "text/x-python",
   "name": "python",
   "nbconvert_exporter": "python",
   "pygments_lexer": "ipython3",
   "version": "3.12.7"
  }
 },
 "nbformat": 4,
 "nbformat_minor": 5
}
