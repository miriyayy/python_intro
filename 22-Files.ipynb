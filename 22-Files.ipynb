{
 "cells": [
  {
   "cell_type": "code",
   "execution_count": 1,
   "id": "aa268d65-6e29-4cea-a202-0ddf7b6ae822",
   "metadata": {},
   "outputs": [
    {
     "name": "stdout",
     "output_type": "stream",
     "text": [
      "Writing myfile.txt\n"
     ]
    }
   ],
   "source": [
    "%%writefile myfile.txt\n",
    "test 1 \n",
    "test 2\n",
    "test 3"
   ]
  },
  {
   "cell_type": "code",
   "execution_count": 2,
   "id": "446b1abb-97c1-49f1-bf4e-9175f294e221",
   "metadata": {},
   "outputs": [],
   "source": [
    "myFile= open(\"myfile.txt\")"
   ]
  },
  {
   "cell_type": "code",
   "execution_count": 3,
   "id": "cb7718bb-13bc-4dec-92b0-aeedf1c1c6e2",
   "metadata": {},
   "outputs": [
    {
     "data": {
      "text/plain": [
       "_io.TextIOWrapper"
      ]
     },
     "execution_count": 3,
     "metadata": {},
     "output_type": "execute_result"
    }
   ],
   "source": [
    "type(myFile)"
   ]
  },
  {
   "cell_type": "code",
   "execution_count": 4,
   "id": "061daf6e-1dea-4ad2-a43c-ca2235572620",
   "metadata": {},
   "outputs": [
    {
     "data": {
      "text/plain": [
       "'test 1 \\ntest 2\\ntest 3\\n'"
      ]
     },
     "execution_count": 4,
     "metadata": {},
     "output_type": "execute_result"
    }
   ],
   "source": [
    "myFile.read()"
   ]
  },
  {
   "cell_type": "code",
   "execution_count": 5,
   "id": "11cf855a-1e33-4982-a772-34a5861577b2",
   "metadata": {},
   "outputs": [
    {
     "data": {
      "text/plain": [
       "''"
      ]
     },
     "execution_count": 5,
     "metadata": {},
     "output_type": "execute_result"
    }
   ],
   "source": [
    "myFile.read()"
   ]
  },
  {
   "cell_type": "code",
   "execution_count": 6,
   "id": "0619f3ba-4940-4ed9-b481-9ceeddb8bf42",
   "metadata": {},
   "outputs": [
    {
     "data": {
      "text/plain": [
       "0"
      ]
     },
     "execution_count": 6,
     "metadata": {},
     "output_type": "execute_result"
    }
   ],
   "source": [
    "myFile.seek(0)"
   ]
  },
  {
   "cell_type": "code",
   "execution_count": 7,
   "id": "c5e33f71-e504-4509-9c2a-2964817dc32d",
   "metadata": {},
   "outputs": [
    {
     "data": {
      "text/plain": [
       "'test 1 \\ntest 2\\ntest 3\\n'"
      ]
     },
     "execution_count": 7,
     "metadata": {},
     "output_type": "execute_result"
    }
   ],
   "source": [
    "myFile.read()"
   ]
  },
  {
   "cell_type": "code",
   "execution_count": 8,
   "id": "2aae7ae0-fef1-4f77-849d-dbb0e52e335b",
   "metadata": {},
   "outputs": [
    {
     "data": {
      "text/plain": [
       "''"
      ]
     },
     "execution_count": 8,
     "metadata": {},
     "output_type": "execute_result"
    }
   ],
   "source": [
    "myFile.read()"
   ]
  },
  {
   "cell_type": "code",
   "execution_count": 9,
   "id": "7be64667-6f30-4bb9-9cad-df0fc1bb3338",
   "metadata": {},
   "outputs": [],
   "source": [
    "myFile.close()"
   ]
  },
  {
   "cell_type": "code",
   "execution_count": 11,
   "id": "757f1a6f-5efb-4e23-921e-5e234b26a73f",
   "metadata": {},
   "outputs": [],
   "source": [
    "with open(\"myfile.txt\") as myFile:\n",
    "    myContent=myFile.read()"
   ]
  },
  {
   "cell_type": "code",
   "execution_count": 12,
   "id": "edd5192a-7969-418f-a5f4-6d2fe91eaff4",
   "metadata": {},
   "outputs": [
    {
     "data": {
      "text/plain": [
       "'test 1 \\ntest 2\\ntest 3\\n'"
      ]
     },
     "execution_count": 12,
     "metadata": {},
     "output_type": "execute_result"
    }
   ],
   "source": [
    "myContent"
   ]
  },
  {
   "cell_type": "code",
   "execution_count": 13,
   "id": "a5dbd143-d399-42d4-b239-91d7904fe2b4",
   "metadata": {},
   "outputs": [
    {
     "data": {
      "text/plain": [
       "'test 1 \\ntest 2\\ntest 3\\n'"
      ]
     },
     "execution_count": 13,
     "metadata": {},
     "output_type": "execute_result"
    }
   ],
   "source": [
    "myContent"
   ]
  },
  {
   "cell_type": "code",
   "execution_count": 14,
   "id": "493a61bc-24b0-4553-ac06-6ea782df2c6b",
   "metadata": {},
   "outputs": [],
   "source": [
    "with open (\"myfile.txt\", mode=\"w\") as myNewFile:\n",
    "    myNewFile.write(\"test 4\")"
   ]
  },
  {
   "cell_type": "code",
   "execution_count": 15,
   "id": "740805bc-2c63-4829-80dd-bb414b25ae90",
   "metadata": {},
   "outputs": [
    {
     "data": {
      "text/plain": [
       "<_io.TextIOWrapper name='myfile.txt' mode='w' encoding='cp1254'>"
      ]
     },
     "execution_count": 15,
     "metadata": {},
     "output_type": "execute_result"
    }
   ],
   "source": [
    "myNewFile"
   ]
  },
  {
   "cell_type": "code",
   "execution_count": 16,
   "id": "21cd8c66-378a-4530-8ec5-933bccbf198d",
   "metadata": {},
   "outputs": [],
   "source": [
    "with open (\"myfile.txt\", mode=\"r\") as myFile2:\n",
    "    myContent=myFile2.read()"
   ]
  },
  {
   "cell_type": "code",
   "execution_count": 17,
   "id": "73c19811-daf6-4414-ba2a-900bb627b299",
   "metadata": {},
   "outputs": [
    {
     "data": {
      "text/plain": [
       "'test 4'"
      ]
     },
     "execution_count": 17,
     "metadata": {},
     "output_type": "execute_result"
    }
   ],
   "source": [
    "myContent"
   ]
  },
  {
   "cell_type": "markdown",
   "id": "28a25bdf-b0e0-403d-a8cd-76a10e238b1d",
   "metadata": {},
   "source": [
    "# w -> write , r-> read , a -> append"
   ]
  },
  {
   "cell_type": "code",
   "execution_count": 33,
   "id": "a7de5fe0-9fc5-42a1-8dad-e132b258804f",
   "metadata": {},
   "outputs": [],
   "source": [
    "with open (\"myfile.txt\", mode=\"a\") as myNewFile3:\n",
    "    myNewFile3.write(\"test 5 \")"
   ]
  },
  {
   "cell_type": "code",
   "execution_count": 34,
   "id": "a557b5ff-b526-4e0c-95dd-b5b48ab7dcb2",
   "metadata": {},
   "outputs": [],
   "source": [
    "with open (\"myfile.txt\", mode=\"r\") as myNewFile4:\n",
    "    myContent=myNewFile4.read()"
   ]
  },
  {
   "cell_type": "code",
   "execution_count": 35,
   "id": "6e281bb0-a0d1-4848-9a16-25c47b2406fe",
   "metadata": {},
   "outputs": [
    {
     "data": {
      "text/plain": [
       "'test 4 test 5 '"
      ]
     },
     "execution_count": 35,
     "metadata": {},
     "output_type": "execute_result"
    }
   ],
   "source": [
    "myContent"
   ]
  },
  {
   "cell_type": "code",
   "execution_count": null,
   "id": "03c2c43f-cc10-406d-8c51-eef874884319",
   "metadata": {},
   "outputs": [],
   "source": []
  }
 ],
 "metadata": {
  "kernelspec": {
   "display_name": "Python 3 (ipykernel)",
   "language": "python",
   "name": "python3"
  },
  "language_info": {
   "codemirror_mode": {
    "name": "ipython",
    "version": 3
   },
   "file_extension": ".py",
   "mimetype": "text/x-python",
   "name": "python",
   "nbconvert_exporter": "python",
   "pygments_lexer": "ipython3",
   "version": "3.12.7"
  }
 },
 "nbformat": 4,
 "nbformat_minor": 5
}
