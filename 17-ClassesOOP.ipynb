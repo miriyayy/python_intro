{
 "cells": [
  {
   "cell_type": "code",
   "execution_count": 1,
   "id": "3b0de5e6-efd0-4318-999c-431c521892e7",
   "metadata": {},
   "outputs": [],
   "source": [
    "atilName=\"Atil\""
   ]
  },
  {
   "cell_type": "code",
   "execution_count": 2,
   "id": "bffb4490-f60e-43b4-a76d-3620e65ac410",
   "metadata": {},
   "outputs": [],
   "source": [
    "atilAge=90"
   ]
  },
  {
   "cell_type": "code",
   "execution_count": 3,
   "id": "f111733f-9dff-41e4-82e2-4ba18288c51c",
   "metadata": {},
   "outputs": [],
   "source": [
    "atilGender=\"Male\""
   ]
  },
  {
   "cell_type": "code",
   "execution_count": 4,
   "id": "4fc9d0d5-1331-490f-928b-d1e550bf516b",
   "metadata": {},
   "outputs": [],
   "source": [
    "atlasName=\"Atlas\""
   ]
  },
  {
   "cell_type": "code",
   "execution_count": 5,
   "id": "a8886aee-ebb5-4ea0-97a7-45980cb22953",
   "metadata": {},
   "outputs": [],
   "source": [
    "atlasAge=10"
   ]
  },
  {
   "cell_type": "code",
   "execution_count": 6,
   "id": "a04bcb81-ac42-4470-bcbd-0bdc594595a2",
   "metadata": {},
   "outputs": [],
   "source": [
    "atlasGender=\"Male\""
   ]
  },
  {
   "cell_type": "code",
   "execution_count": 101,
   "id": "6c37f385-582b-4b00-a7d3-f8b99854eadc",
   "metadata": {},
   "outputs": [],
   "source": [
    "class Person():\n",
    "    #property\n",
    "    #name=\"\"\n",
    "    #age=0\n",
    "    #gender=\"\"\n",
    "    job=\"Developer\"\n",
    "    \n",
    "    #initializer\n",
    "    def __init__(self,name,age,gender):\n",
    "        self.name=name\n",
    "        self.age=age\n",
    "        self.gender=gender\n",
    "    #method   \n",
    "    def printName(self):\n",
    "        print(self.name)\n",
    "        "
   ]
  },
  {
   "cell_type": "code",
   "execution_count": 102,
   "id": "f76e18f6-44c2-4174-bba8-877c175fc27c",
   "metadata": {},
   "outputs": [],
   "source": [
    "atil=Person(\"Atil\",35,\"Male\")"
   ]
  },
  {
   "cell_type": "code",
   "execution_count": 103,
   "id": "f57855b9-f685-46c2-a355-c1f606480182",
   "metadata": {},
   "outputs": [
    {
     "data": {
      "text/plain": [
       "__main__.Person"
      ]
     },
     "execution_count": 103,
     "metadata": {},
     "output_type": "execute_result"
    }
   ],
   "source": [
    "type(atil)"
   ]
  },
  {
   "cell_type": "code",
   "execution_count": 104,
   "id": "4a480aeb-ade8-4d57-ab8b-9ffa3d80590a",
   "metadata": {},
   "outputs": [
    {
     "data": {
      "text/plain": [
       "'Atil'"
      ]
     },
     "execution_count": 104,
     "metadata": {},
     "output_type": "execute_result"
    }
   ],
   "source": [
    "atil.name"
   ]
  },
  {
   "cell_type": "code",
   "execution_count": 105,
   "id": "6a165d92-ee3d-4178-8eec-a91414f09f45",
   "metadata": {},
   "outputs": [
    {
     "data": {
      "text/plain": [
       "35"
      ]
     },
     "execution_count": 105,
     "metadata": {},
     "output_type": "execute_result"
    }
   ],
   "source": [
    "atil.age"
   ]
  },
  {
   "cell_type": "code",
   "execution_count": 106,
   "id": "1fc5fc50-4ceb-4443-ba6f-0c8de9c93cfe",
   "metadata": {},
   "outputs": [
    {
     "data": {
      "text/plain": [
       "'Male'"
      ]
     },
     "execution_count": 106,
     "metadata": {},
     "output_type": "execute_result"
    }
   ],
   "source": [
    "atil.gender"
   ]
  },
  {
   "cell_type": "code",
   "execution_count": 107,
   "id": "3384c484-24bf-4fcd-b63c-e0819780223e",
   "metadata": {},
   "outputs": [
    {
     "data": {
      "text/plain": [
       "<bound method Person.printName of <__main__.Person object at 0x0000022986924AD0>>"
      ]
     },
     "execution_count": 107,
     "metadata": {},
     "output_type": "execute_result"
    }
   ],
   "source": [
    "atil.printName"
   ]
  },
  {
   "cell_type": "code",
   "execution_count": 110,
   "id": "8d2b363f-4c2b-4f62-8f68-feee5bee4b16",
   "metadata": {},
   "outputs": [
    {
     "data": {
      "text/plain": [
       "'Devoloper'"
      ]
     },
     "execution_count": 110,
     "metadata": {},
     "output_type": "execute_result"
    }
   ],
   "source": [
    "atil.job"
   ]
  },
  {
   "cell_type": "code",
   "execution_count": 111,
   "id": "1cf85bdb-29dc-4724-8edd-67ea82433c22",
   "metadata": {},
   "outputs": [],
   "source": [
    "atil.job=\"instructor\""
   ]
  },
  {
   "cell_type": "code",
   "execution_count": 112,
   "id": "84d606c9-af05-4951-81c8-2591ffca0fc6",
   "metadata": {},
   "outputs": [
    {
     "data": {
      "text/plain": [
       "'instructor'"
      ]
     },
     "execution_count": 112,
     "metadata": {},
     "output_type": "execute_result"
    }
   ],
   "source": [
    "atil.job"
   ]
  },
  {
   "cell_type": "code",
   "execution_count": 49,
   "id": "b8617c9a-eab5-4370-bcfa-32e595a3a5f1",
   "metadata": {},
   "outputs": [],
   "source": [
    "class Dog():\n",
    "    \n",
    "    year = 7\n",
    "    \n",
    "    def __init__(self,age=5):\n",
    "        self.age = age\n",
    "        self.dogHumanAge = age * self.year\n",
    "        print(\"dog instance\")\n",
    "        \n",
    "    def humanAge(self):\n",
    "        return self.age * Dog.year #Dog.year -> self.year"
   ]
  },
  {
   "cell_type": "code",
   "execution_count": 50,
   "id": "b64a79c3-e7d7-4b74-a8e4-204f57e63ff6",
   "metadata": {},
   "outputs": [
    {
     "name": "stdout",
     "output_type": "stream",
     "text": [
      "dog instance\n"
     ]
    }
   ],
   "source": [
    "myDog=Dog(3)"
   ]
  },
  {
   "cell_type": "code",
   "execution_count": 51,
   "id": "31017c5c-2c7e-47c4-a46a-323f2260861c",
   "metadata": {},
   "outputs": [
    {
     "data": {
      "text/plain": [
       "3"
      ]
     },
     "execution_count": 51,
     "metadata": {},
     "output_type": "execute_result"
    }
   ],
   "source": [
    "myDog.age"
   ]
  },
  {
   "cell_type": "code",
   "execution_count": 52,
   "id": "ddae20d3-0d82-4b64-8b4b-4dceb01eb430",
   "metadata": {},
   "outputs": [
    {
     "data": {
      "text/plain": [
       "21"
      ]
     },
     "execution_count": 52,
     "metadata": {},
     "output_type": "execute_result"
    }
   ],
   "source": [
    "myDog.humanAge()"
   ]
  },
  {
   "cell_type": "code",
   "execution_count": 53,
   "id": "d933a368-6ec8-4c53-9cb8-0480383b4cfb",
   "metadata": {},
   "outputs": [
    {
     "data": {
      "text/plain": [
       "21"
      ]
     },
     "execution_count": 53,
     "metadata": {},
     "output_type": "execute_result"
    }
   ],
   "source": [
    "myDog.dogHumanAge"
   ]
  },
  {
   "cell_type": "code",
   "execution_count": 54,
   "id": "e239581a-4033-4cc9-bc59-6b1b17b87b28",
   "metadata": {},
   "outputs": [
    {
     "name": "stdout",
     "output_type": "stream",
     "text": [
      "dog instance\n"
     ]
    }
   ],
   "source": [
    "barley=Dog()"
   ]
  },
  {
   "cell_type": "code",
   "execution_count": 55,
   "id": "4651f8bc-c630-4375-ba95-a07bb657c5c4",
   "metadata": {},
   "outputs": [
    {
     "data": {
      "text/plain": [
       "35"
      ]
     },
     "execution_count": 55,
     "metadata": {},
     "output_type": "execute_result"
    }
   ],
   "source": [
    "barley.dogHumanAge"
   ]
  },
  {
   "cell_type": "code",
   "execution_count": null,
   "id": "943d40c4-c8b6-440d-8829-968383a03c8f",
   "metadata": {},
   "outputs": [],
   "source": []
  }
 ],
 "metadata": {
  "kernelspec": {
   "display_name": "Python 3 (ipykernel)",
   "language": "python",
   "name": "python3"
  },
  "language_info": {
   "codemirror_mode": {
    "name": "ipython",
    "version": 3
   },
   "file_extension": ".py",
   "mimetype": "text/x-python",
   "name": "python",
   "nbconvert_exporter": "python",
   "pygments_lexer": "ipython3",
   "version": "3.12.7"
  }
 },
 "nbformat": 4,
 "nbformat_minor": 5
}
