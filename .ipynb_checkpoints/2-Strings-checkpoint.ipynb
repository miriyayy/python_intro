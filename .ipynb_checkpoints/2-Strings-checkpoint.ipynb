{
 "cells": [
  {
   "cell_type": "code",
   "execution_count": 2,
   "id": "e497d4a1-97be-4396-8cff-90e5d5e8cc0b",
   "metadata": {},
   "outputs": [
    {
     "data": {
      "text/plain": [
       "'hello world'"
      ]
     },
     "execution_count": 2,
     "metadata": {},
     "output_type": "execute_result"
    }
   ],
   "source": [
    "\"hello world\""
   ]
  },
  {
   "cell_type": "code",
   "execution_count": 5,
   "id": "474ed259-b1d2-4431-bdce-f9a39f697e4d",
   "metadata": {},
   "outputs": [
    {
     "name": "stdout",
     "output_type": "stream",
     "text": [
      "hello python\n"
     ]
    }
   ],
   "source": [
    "print(\"hello python\")"
   ]
  },
  {
   "cell_type": "code",
   "execution_count": 6,
   "id": "3c338545-7cb5-4e38-8870-df7705904963",
   "metadata": {},
   "outputs": [],
   "source": [
    "name=\"atıl\""
   ]
  },
  {
   "cell_type": "code",
   "execution_count": 7,
   "id": "6b080ff3-ea70-4cc7-8383-5a7b5957d7a7",
   "metadata": {},
   "outputs": [
    {
     "data": {
      "text/plain": [
       "str"
      ]
     },
     "execution_count": 7,
     "metadata": {},
     "output_type": "execute_result"
    }
   ],
   "source": [
    "type(name)"
   ]
  },
  {
   "cell_type": "code",
   "execution_count": 8,
   "id": "39c3c3e1-f0d2-4c44-8166-9c9f0c72d529",
   "metadata": {},
   "outputs": [
    {
     "data": {
      "text/plain": [
       "'atil restaurant'"
      ]
     },
     "execution_count": 8,
     "metadata": {},
     "output_type": "execute_result"
    }
   ],
   "source": [
    "'atil restaurant'"
   ]
  },
  {
   "cell_type": "code",
   "execution_count": 9,
   "id": "cdf9e409-7e44-4ce6-8d09-219c2d210860",
   "metadata": {},
   "outputs": [
    {
     "data": {
      "text/plain": [
       "\"atil's restaurant\""
      ]
     },
     "execution_count": 9,
     "metadata": {},
     "output_type": "execute_result"
    }
   ],
   "source": [
    "\"atil's restaurant\""
   ]
  },
  {
   "cell_type": "code",
   "execution_count": 11,
   "id": "0fe8ecd3-edb7-44f6-a9d8-5ac747e4dc43",
   "metadata": {},
   "outputs": [],
   "source": [
    "name=\"atil\""
   ]
  },
  {
   "cell_type": "code",
   "execution_count": 12,
   "id": "662cc4c8-eef1-4f2d-a72e-d501f6709920",
   "metadata": {},
   "outputs": [
    {
     "data": {
      "text/plain": [
       "str"
      ]
     },
     "execution_count": 12,
     "metadata": {},
     "output_type": "execute_result"
    }
   ],
   "source": [
    "type(name)"
   ]
  },
  {
   "cell_type": "code",
   "execution_count": 13,
   "id": "fc240285-af32-419d-b8af-b999007d1667",
   "metadata": {},
   "outputs": [],
   "source": [
    "name=\"miray mutlu\""
   ]
  },
  {
   "cell_type": "code",
   "execution_count": 14,
   "id": "77225ee5-c438-423c-97ba-2540e06177bf",
   "metadata": {},
   "outputs": [
    {
     "data": {
      "text/plain": [
       "'Miray mutlu'"
      ]
     },
     "execution_count": 14,
     "metadata": {},
     "output_type": "execute_result"
    }
   ],
   "source": [
    "name.capitalize()"
   ]
  },
  {
   "cell_type": "code",
   "execution_count": 15,
   "id": "b7e0d306-5f69-4967-8e85-969f97aa9de9",
   "metadata": {},
   "outputs": [
    {
     "data": {
      "text/plain": [
       "<function str.capitalize()>"
      ]
     },
     "execution_count": 15,
     "metadata": {},
     "output_type": "execute_result"
    }
   ],
   "source": [
    "name.capitalize"
   ]
  },
  {
   "cell_type": "code",
   "execution_count": 16,
   "id": "6c1538bd-101a-45a3-a734-ad3796a0515f",
   "metadata": {},
   "outputs": [],
   "source": [
    "x=10"
   ]
  },
  {
   "cell_type": "code",
   "execution_count": 19,
   "id": "8dd662b5-66d1-4f78-a204-89892dbca67b",
   "metadata": {},
   "outputs": [],
   "source": [
    "x=8"
   ]
  },
  {
   "cell_type": "code",
   "execution_count": 20,
   "id": "300e93ae-38b2-40c7-94ba-839efb8d72b1",
   "metadata": {},
   "outputs": [
    {
     "data": {
      "text/plain": [
       "'miray mutlu'"
      ]
     },
     "execution_count": 20,
     "metadata": {},
     "output_type": "execute_result"
    }
   ],
   "source": [
    "name"
   ]
  },
  {
   "cell_type": "code",
   "execution_count": 21,
   "id": "433746fd-c025-4c1b-a5f4-839109ac9a7a",
   "metadata": {},
   "outputs": [
    {
     "name": "stdout",
     "output_type": "stream",
     "text": [
      "Help on built-in function count:\n",
      "\n",
      "count(...) method of builtins.str instance\n",
      "    S.count(sub[, start[, end]]) -> int\n",
      "\n",
      "    Return the number of non-overlapping occurrences of substring sub in\n",
      "    string S[start:end].  Optional arguments start and end are\n",
      "    interpreted as in slice notation.\n",
      "\n"
     ]
    }
   ],
   "source": [
    "help(name.count)"
   ]
  },
  {
   "cell_type": "code",
   "execution_count": 22,
   "id": "9ec9acce-dad0-4b5a-9979-aacf3d08b471",
   "metadata": {},
   "outputs": [
    {
     "name": "stdout",
     "output_type": "stream",
     "text": [
      "Help on built-in function capitalize:\n",
      "\n",
      "capitalize() method of builtins.str instance\n",
      "    Return a capitalized version of the string.\n",
      "\n",
      "    More specifically, make the first character have upper case and the rest lower\n",
      "    case.\n",
      "\n"
     ]
    }
   ],
   "source": [
    "help(name.capitalize)"
   ]
  },
  {
   "cell_type": "code",
   "execution_count": 24,
   "id": "40e092b0-9a04-4f52-9704-6d109f952691",
   "metadata": {},
   "outputs": [
    {
     "data": {
      "text/plain": [
       "1"
      ]
     },
     "execution_count": 24,
     "metadata": {},
     "output_type": "execute_result"
    }
   ],
   "source": [
    "name.count(\"a\")"
   ]
  },
  {
   "cell_type": "code",
   "execution_count": 25,
   "id": "8bff40d2-ec83-4a89-99e6-e1591f2126fc",
   "metadata": {},
   "outputs": [
    {
     "data": {
      "text/plain": [
       "0"
      ]
     },
     "execution_count": 25,
     "metadata": {},
     "output_type": "execute_result"
    }
   ],
   "source": [
    "name.count(\"b\")"
   ]
  },
  {
   "cell_type": "code",
   "execution_count": 26,
   "id": "7bf64df0-1c3d-40c0-93a4-eaf765ec93d1",
   "metadata": {},
   "outputs": [
    {
     "data": {
      "text/plain": [
       "'MIRAY MUTLU'"
      ]
     },
     "execution_count": 26,
     "metadata": {},
     "output_type": "execute_result"
    }
   ],
   "source": [
    "name.upper()"
   ]
  },
  {
   "cell_type": "code",
   "execution_count": 27,
   "id": "70ea09f3-ae89-492c-be6e-ad767ec6757d",
   "metadata": {},
   "outputs": [
    {
     "data": {
      "text/plain": [
       "'miray mutlu'"
      ]
     },
     "execution_count": 27,
     "metadata": {},
     "output_type": "execute_result"
    }
   ],
   "source": [
    "name"
   ]
  },
  {
   "cell_type": "code",
   "execution_count": 28,
   "id": "555b1ba9-b4ba-4cd6-a3fb-df47711b14e6",
   "metadata": {},
   "outputs": [],
   "source": [
    "x=10\n",
    "y=5"
   ]
  },
  {
   "cell_type": "code",
   "execution_count": 29,
   "id": "06305396-4f4e-42d6-bace-2a04528bba29",
   "metadata": {},
   "outputs": [
    {
     "data": {
      "text/plain": [
       "15"
      ]
     },
     "execution_count": 29,
     "metadata": {},
     "output_type": "execute_result"
    }
   ],
   "source": [
    "x+y"
   ]
  },
  {
   "cell_type": "code",
   "execution_count": 30,
   "id": "6e04d36a-ae8b-4f4f-9c03-ace980e6aefa",
   "metadata": {},
   "outputs": [],
   "source": [
    "z=x+y"
   ]
  },
  {
   "cell_type": "code",
   "execution_count": 31,
   "id": "d1d0bb58-6f4d-4a09-9a64-61597f35f75f",
   "metadata": {},
   "outputs": [
    {
     "data": {
      "text/plain": [
       "15"
      ]
     },
     "execution_count": 31,
     "metadata": {},
     "output_type": "execute_result"
    }
   ],
   "source": [
    "z"
   ]
  },
  {
   "cell_type": "code",
   "execution_count": 33,
   "id": "62e2c84e-2d21-499b-8c7f-db3aa5cf6591",
   "metadata": {},
   "outputs": [],
   "source": [
    "nameUpper=name.upper()"
   ]
  },
  {
   "cell_type": "code",
   "execution_count": 34,
   "id": "6931c07f-1f0d-4f6c-aae9-2b6b8981bd05",
   "metadata": {},
   "outputs": [
    {
     "data": {
      "text/plain": [
       "'MIRAY MUTLU'"
      ]
     },
     "execution_count": 34,
     "metadata": {},
     "output_type": "execute_result"
    }
   ],
   "source": [
    "nameUpper"
   ]
  },
  {
   "cell_type": "code",
   "execution_count": 35,
   "id": "05c825d6-4319-42bb-a59a-dc99a264cef1",
   "metadata": {},
   "outputs": [
    {
     "data": {
      "text/plain": [
       "'miray mutlu'"
      ]
     },
     "execution_count": 35,
     "metadata": {},
     "output_type": "execute_result"
    }
   ],
   "source": [
    "name"
   ]
  },
  {
   "cell_type": "code",
   "execution_count": 36,
   "id": "b68ac804-9e3d-4be9-b821-16811997a45a",
   "metadata": {},
   "outputs": [
    {
     "name": "stdout",
     "output_type": "stream",
     "text": [
      "MIRAY MUTLU\n"
     ]
    }
   ],
   "source": [
    "print(name.upper())"
   ]
  },
  {
   "cell_type": "code",
   "execution_count": 38,
   "id": "28a2efc5-8aeb-471b-86bb-5687a15f763e",
   "metadata": {},
   "outputs": [
    {
     "name": "stdout",
     "output_type": "stream",
     "text": [
      "Help on built-in function upper:\n",
      "\n",
      "upper() method of builtins.str instance\n",
      "    Return a copy of the string converted to uppercase.\n",
      "\n"
     ]
    }
   ],
   "source": [
    "help(name.upper)"
   ]
  },
  {
   "cell_type": "code",
   "execution_count": 39,
   "id": "f574fc57-44b6-4869-bf0c-06c458d1d5d9",
   "metadata": {},
   "outputs": [
    {
     "data": {
      "text/plain": [
       "11"
      ]
     },
     "execution_count": 39,
     "metadata": {},
     "output_type": "execute_result"
    }
   ],
   "source": [
    "len(name) #lenght"
   ]
  },
  {
   "cell_type": "code",
   "execution_count": 40,
   "id": "18af9fd0-af58-406b-99cf-7ce41ee8c6d1",
   "metadata": {},
   "outputs": [
    {
     "name": "stdout",
     "output_type": "stream",
     "text": [
      "miray mutlu\n"
     ]
    }
   ],
   "source": [
    "print(\"miray mutlu\")"
   ]
  },
  {
   "cell_type": "code",
   "execution_count": 41,
   "id": "21a2d355-bdf1-4fb8-805c-b786359d5263",
   "metadata": {},
   "outputs": [
    {
     "name": "stdout",
     "output_type": "stream",
     "text": [
      "miray \n",
      "mutlu\n"
     ]
    }
   ],
   "source": [
    "print(\"miray \\nmutlu\")"
   ]
  },
  {
   "cell_type": "code",
   "execution_count": 42,
   "id": "7f675aca-9338-45fe-8609-80e40f3b60ca",
   "metadata": {},
   "outputs": [],
   "source": [
    "#\\n - new line"
   ]
  },
  {
   "cell_type": "code",
   "execution_count": 43,
   "id": "e2d5905c-fc24-4978-84e6-958ca73545fb",
   "metadata": {},
   "outputs": [],
   "source": [
    "#escape characters"
   ]
  },
  {
   "cell_type": "code",
   "execution_count": 44,
   "id": "7ecdab38-e6c9-4d51-89ec-315fdd1a91ca",
   "metadata": {},
   "outputs": [
    {
     "name": "stdout",
     "output_type": "stream",
     "text": [
      "miray \tmutlu\n"
     ]
    }
   ],
   "source": [
    "print(\"miray \\tmutlu\")"
   ]
  },
  {
   "cell_type": "markdown",
   "id": "d8c34b0e-c792-4875-87e7-271352a622e4",
   "metadata": {},
   "source": [
    "index"
   ]
  },
  {
   "cell_type": "code",
   "execution_count": 45,
   "id": "75765206-73ae-4b95-943c-33de0a23d450",
   "metadata": {},
   "outputs": [],
   "source": [
    "myString=\"hello python\""
   ]
  },
  {
   "cell_type": "code",
   "execution_count": 47,
   "id": "74870ede-cde3-479a-b9ec-ac2d105a2f59",
   "metadata": {},
   "outputs": [
    {
     "data": {
      "text/plain": [
       "'o'"
      ]
     },
     "execution_count": 47,
     "metadata": {},
     "output_type": "execute_result"
    }
   ],
   "source": [
    "myString[4]"
   ]
  },
  {
   "cell_type": "code",
   "execution_count": 48,
   "id": "fd88fdea-0dda-4676-a037-80093834b512",
   "metadata": {},
   "outputs": [
    {
     "data": {
      "text/plain": [
       "'h'"
      ]
     },
     "execution_count": 48,
     "metadata": {},
     "output_type": "execute_result"
    }
   ],
   "source": [
    "myString[0]"
   ]
  },
  {
   "cell_type": "code",
   "execution_count": 51,
   "id": "ca2806cd-b84e-4c9e-8eea-b49896c0827f",
   "metadata": {},
   "outputs": [
    {
     "data": {
      "text/plain": [
       "'n'"
      ]
     },
     "execution_count": 51,
     "metadata": {},
     "output_type": "execute_result"
    }
   ],
   "source": [
    "myString[11]"
   ]
  },
  {
   "cell_type": "code",
   "execution_count": 52,
   "id": "585fc772-91e8-437e-a5fb-2ebfe56d44bb",
   "metadata": {},
   "outputs": [
    {
     "data": {
      "text/plain": [
       "'hello python'"
      ]
     },
     "execution_count": 52,
     "metadata": {},
     "output_type": "execute_result"
    }
   ],
   "source": [
    "myString"
   ]
  },
  {
   "cell_type": "code",
   "execution_count": 53,
   "id": "852897b8-21c0-4052-8ebd-ceb7b8619fad",
   "metadata": {},
   "outputs": [],
   "source": [
    "myString=\"miray mutlu\""
   ]
  },
  {
   "cell_type": "code",
   "execution_count": 54,
   "id": "31406b8d-5707-42a6-839c-23d3c5592d8a",
   "metadata": {},
   "outputs": [
    {
     "data": {
      "text/plain": [
       "'m'"
      ]
     },
     "execution_count": 54,
     "metadata": {},
     "output_type": "execute_result"
    }
   ],
   "source": [
    "myString[0]"
   ]
  },
  {
   "cell_type": "code",
   "execution_count": 56,
   "id": "36b5bf0e-851d-4a06-a9ea-9bcf56400ee5",
   "metadata": {},
   "outputs": [
    {
     "data": {
      "text/plain": [
       "'u'"
      ]
     },
     "execution_count": 56,
     "metadata": {},
     "output_type": "execute_result"
    }
   ],
   "source": [
    "myString[10]"
   ]
  },
  {
   "cell_type": "code",
   "execution_count": 57,
   "id": "a8f56d0e-7c0f-499f-8bec-d4a139c7aa11",
   "metadata": {},
   "outputs": [
    {
     "data": {
      "text/plain": [
       "11"
      ]
     },
     "execution_count": 57,
     "metadata": {},
     "output_type": "execute_result"
    }
   ],
   "source": [
    "len(myString)"
   ]
  },
  {
   "cell_type": "code",
   "execution_count": 58,
   "id": "edda34da-ae12-47d9-8c08-b942fb772244",
   "metadata": {},
   "outputs": [
    {
     "data": {
      "text/plain": [
       "10"
      ]
     },
     "execution_count": 58,
     "metadata": {},
     "output_type": "execute_result"
    }
   ],
   "source": [
    "len(myString)-1"
   ]
  },
  {
   "cell_type": "code",
   "execution_count": 59,
   "id": "a29d477a-4ca7-4ab4-878a-b9791f635f2d",
   "metadata": {},
   "outputs": [],
   "source": [
    "myName=\"james hetfield\""
   ]
  },
  {
   "cell_type": "code",
   "execution_count": 60,
   "id": "1bc0c1cc-b91c-4553-8dce-b786e745c75f",
   "metadata": {},
   "outputs": [
    {
     "data": {
      "text/plain": [
       "13"
      ]
     },
     "execution_count": 60,
     "metadata": {},
     "output_type": "execute_result"
    }
   ],
   "source": [
    "len(myName)-1"
   ]
  },
  {
   "cell_type": "code",
   "execution_count": 61,
   "id": "7464ed38-37bf-4d88-8002-48e1c9ddf0e1",
   "metadata": {},
   "outputs": [
    {
     "data": {
      "text/plain": [
       "'d'"
      ]
     },
     "execution_count": 61,
     "metadata": {},
     "output_type": "execute_result"
    }
   ],
   "source": [
    "myName[13]"
   ]
  },
  {
   "cell_type": "code",
   "execution_count": 62,
   "id": "d1c04417-a9bd-4642-af67-4e6f19ba30db",
   "metadata": {},
   "outputs": [
    {
     "data": {
      "text/plain": [
       "'d'"
      ]
     },
     "execution_count": 62,
     "metadata": {},
     "output_type": "execute_result"
    }
   ],
   "source": [
    "myName[len(myName)-1]"
   ]
  },
  {
   "cell_type": "code",
   "execution_count": 63,
   "id": "85464009-826e-484d-bd7e-a9e39f743777",
   "metadata": {},
   "outputs": [
    {
     "data": {
      "text/plain": [
       "'d'"
      ]
     },
     "execution_count": 63,
     "metadata": {},
     "output_type": "execute_result"
    }
   ],
   "source": [
    "myName[-1]"
   ]
  },
  {
   "cell_type": "code",
   "execution_count": 64,
   "id": "e2da3b05-2d6e-4c9f-8e58-a52df68b97dc",
   "metadata": {},
   "outputs": [
    {
     "data": {
      "text/plain": [
       "'l'"
      ]
     },
     "execution_count": 64,
     "metadata": {},
     "output_type": "execute_result"
    }
   ],
   "source": [
    "myName[-2]"
   ]
  },
  {
   "cell_type": "code",
   "execution_count": 65,
   "id": "ff8477eb-2580-4791-aa21-64602d523f83",
   "metadata": {},
   "outputs": [],
   "source": [
    "barcode=\"ABCDE123456789\""
   ]
  },
  {
   "cell_type": "code",
   "execution_count": 66,
   "id": "a36b5e67-f334-4db6-9e6a-13d69d24b01a",
   "metadata": {},
   "outputs": [
    {
     "data": {
      "text/plain": [
       "'A'"
      ]
     },
     "execution_count": 66,
     "metadata": {},
     "output_type": "execute_result"
    }
   ],
   "source": [
    "barcode[0]"
   ]
  },
  {
   "cell_type": "code",
   "execution_count": 67,
   "id": "4f19ca91-f0c7-4331-973c-996afc4c0198",
   "metadata": {},
   "outputs": [
    {
     "data": {
      "text/plain": [
       "'B'"
      ]
     },
     "execution_count": 67,
     "metadata": {},
     "output_type": "execute_result"
    }
   ],
   "source": [
    "barcode[1]"
   ]
  },
  {
   "cell_type": "code",
   "execution_count": 68,
   "id": "7577e114-d9a0-4138-be62-0aa9cede07b1",
   "metadata": {},
   "outputs": [
    {
     "data": {
      "text/plain": [
       "'C'"
      ]
     },
     "execution_count": 68,
     "metadata": {},
     "output_type": "execute_result"
    }
   ],
   "source": [
    "barcode[2]"
   ]
  },
  {
   "cell_type": "code",
   "execution_count": 69,
   "id": "efcf2275-e732-41fe-9ff1-98146038a0ca",
   "metadata": {},
   "outputs": [
    {
     "data": {
      "text/plain": [
       "'AB'"
      ]
     },
     "execution_count": 69,
     "metadata": {},
     "output_type": "execute_result"
    }
   ],
   "source": [
    "\"A\"+\"B\""
   ]
  },
  {
   "cell_type": "code",
   "execution_count": 70,
   "id": "5a41eb8b-d185-4c79-8e00-f9df1968c4e2",
   "metadata": {},
   "outputs": [],
   "source": [
    "name=\"miray\""
   ]
  },
  {
   "cell_type": "code",
   "execution_count": 71,
   "id": "5febe963-cc4f-436c-8874-0fc62cbe090a",
   "metadata": {},
   "outputs": [],
   "source": [
    "surname=\"mutlu\""
   ]
  },
  {
   "cell_type": "code",
   "execution_count": 76,
   "id": "8488f949-a705-4ade-8d52-99700f51c4bd",
   "metadata": {},
   "outputs": [],
   "source": [
    "fullname=name+\" \"+surname"
   ]
  },
  {
   "cell_type": "code",
   "execution_count": 77,
   "id": "5b74b994-a50e-426b-979c-89079b4871eb",
   "metadata": {},
   "outputs": [
    {
     "data": {
      "text/plain": [
       "'miray mutlu'"
      ]
     },
     "execution_count": 77,
     "metadata": {},
     "output_type": "execute_result"
    }
   ],
   "source": [
    "fullname"
   ]
  },
  {
   "cell_type": "code",
   "execution_count": 78,
   "id": "11ede3da-e94a-470a-8c1e-ae0c4d96ec2d",
   "metadata": {},
   "outputs": [
    {
     "data": {
      "text/plain": [
       "'miray mutlumiray mutlumiray mutlumiray mutlumiray mutlu'"
      ]
     },
     "execution_count": 78,
     "metadata": {},
     "output_type": "execute_result"
    }
   ],
   "source": [
    "fullname*5"
   ]
  },
  {
   "cell_type": "code",
   "execution_count": 79,
   "id": "59effef4-9f28-4cc6-b538-787d9c7411fd",
   "metadata": {},
   "outputs": [
    {
     "data": {
      "text/plain": [
       "'aaaaaaaaaaaaaaaaaaaaaaaaaaaaaaaaaaaaaaaaaaaaaaaaaaaaaaaaaaaaaaaaaaaaaaaaaaaaaaaaaaaaaaaaaaaaaaaaaaaa'"
      ]
     },
     "execution_count": 79,
     "metadata": {},
     "output_type": "execute_result"
    }
   ],
   "source": [
    "100*\"a\""
   ]
  },
  {
   "cell_type": "code",
   "execution_count": 82,
   "id": "459014f7-ed22-4a26-8ba8-2f99bad7e1ff",
   "metadata": {},
   "outputs": [
    {
     "data": {
      "text/plain": [
       "'ABCDE123456789'"
      ]
     },
     "execution_count": 82,
     "metadata": {},
     "output_type": "execute_result"
    }
   ],
   "source": [
    "barcode"
   ]
  },
  {
   "cell_type": "code",
   "execution_count": 83,
   "id": "960d194a-fc93-43ae-812e-82277add8f52",
   "metadata": {},
   "outputs": [
    {
     "data": {
      "text/plain": [
       "'ABC'"
      ]
     },
     "execution_count": 83,
     "metadata": {},
     "output_type": "execute_result"
    }
   ],
   "source": [
    "barcode[0]+ barcode[1]+ barcode[2]"
   ]
  },
  {
   "cell_type": "code",
   "execution_count": 84,
   "id": "e9a81a5d-0796-49cf-8a29-c16ea729e462",
   "metadata": {},
   "outputs": [],
   "source": [
    "#slicing, starting index, stopping index, stepping index"
   ]
  },
  {
   "cell_type": "code",
   "execution_count": 85,
   "id": "21d62cac-f79d-4955-88ac-f5da83d1ecc8",
   "metadata": {},
   "outputs": [
    {
     "data": {
      "text/plain": [
       "'ABCDE123456789'"
      ]
     },
     "execution_count": 85,
     "metadata": {},
     "output_type": "execute_result"
    }
   ],
   "source": [
    "barcode"
   ]
  },
  {
   "cell_type": "code",
   "execution_count": 86,
   "id": "3838473d-f260-44de-ad79-87fcb9705aa0",
   "metadata": {},
   "outputs": [
    {
     "data": {
      "text/plain": [
       "'ABCDE123456789'"
      ]
     },
     "execution_count": 86,
     "metadata": {},
     "output_type": "execute_result"
    }
   ],
   "source": [
    "barcode[::]"
   ]
  },
  {
   "cell_type": "code",
   "execution_count": 87,
   "id": "b8094d2c-9c55-4de0-a9b2-511c99a6df1d",
   "metadata": {},
   "outputs": [],
   "source": [
    "#barcode[starting index: stopping index:]"
   ]
  },
  {
   "cell_type": "code",
   "execution_count": 88,
   "id": "51bcdc46-56d7-4d3b-a44a-dfaebef35581",
   "metadata": {},
   "outputs": [
    {
     "data": {
      "text/plain": [
       "'DE123456789'"
      ]
     },
     "execution_count": 88,
     "metadata": {},
     "output_type": "execute_result"
    }
   ],
   "source": [
    "barcode[3::]"
   ]
  },
  {
   "cell_type": "code",
   "execution_count": 89,
   "id": "c16e6add-f5bd-4668-8696-b27209463939",
   "metadata": {},
   "outputs": [
    {
     "data": {
      "text/plain": [
       "'ABC'"
      ]
     },
     "execution_count": 89,
     "metadata": {},
     "output_type": "execute_result"
    }
   ],
   "source": [
    "barcode[:3:]"
   ]
  },
  {
   "cell_type": "code",
   "execution_count": 90,
   "id": "bb8da458-0238-4704-a094-103e768860b8",
   "metadata": {},
   "outputs": [
    {
     "data": {
      "text/plain": [
       "'ABCDE'"
      ]
     },
     "execution_count": 90,
     "metadata": {},
     "output_type": "execute_result"
    }
   ],
   "source": [
    "barcode[:5:]"
   ]
  },
  {
   "cell_type": "code",
   "execution_count": 91,
   "id": "fc01107a-32e0-469c-ad66-61b688174ea0",
   "metadata": {},
   "outputs": [
    {
     "data": {
      "text/plain": [
       "'ABCDE123456789'"
      ]
     },
     "execution_count": 91,
     "metadata": {},
     "output_type": "execute_result"
    }
   ],
   "source": [
    "barcode"
   ]
  },
  {
   "cell_type": "code",
   "execution_count": 93,
   "id": "def97b50-7a08-470e-b7c7-e3f4c80224a3",
   "metadata": {},
   "outputs": [
    {
     "data": {
      "text/plain": [
       "'ACE2468'"
      ]
     },
     "execution_count": 93,
     "metadata": {},
     "output_type": "execute_result"
    }
   ],
   "source": [
    "barcode[::2]"
   ]
  },
  {
   "cell_type": "code",
   "execution_count": 94,
   "id": "ea896e34-0387-4ca2-8efe-22f742ecb82c",
   "metadata": {},
   "outputs": [
    {
     "data": {
      "text/plain": [
       "'AD258'"
      ]
     },
     "execution_count": 94,
     "metadata": {},
     "output_type": "execute_result"
    }
   ],
   "source": [
    "barcode[::3]"
   ]
  },
  {
   "cell_type": "code",
   "execution_count": 95,
   "id": "24b8d528-1ed7-4bb7-a3df-394480081742",
   "metadata": {},
   "outputs": [
    {
     "data": {
      "text/plain": [
       "'ABCDE123456789'"
      ]
     },
     "execution_count": 95,
     "metadata": {},
     "output_type": "execute_result"
    }
   ],
   "source": [
    "barcode[::]"
   ]
  },
  {
   "cell_type": "code",
   "execution_count": 97,
   "id": "0e7227a8-4f2a-4f12-8f50-071e62fb8e07",
   "metadata": {},
   "outputs": [
    {
     "data": {
      "text/plain": [
       "'DE'"
      ]
     },
     "execution_count": 97,
     "metadata": {},
     "output_type": "execute_result"
    }
   ],
   "source": [
    "barcode[3:5:]"
   ]
  },
  {
   "cell_type": "code",
   "execution_count": 98,
   "id": "b1cb33f5-5606-47ee-aa50-07ad26b828ef",
   "metadata": {},
   "outputs": [
    {
     "data": {
      "text/plain": [
       "'DE'"
      ]
     },
     "execution_count": 98,
     "metadata": {},
     "output_type": "execute_result"
    }
   ],
   "source": [
    "barcode[3:5]"
   ]
  },
  {
   "cell_type": "code",
   "execution_count": 99,
   "id": "c86e6f12-0531-45e6-9778-af08aa521e51",
   "metadata": {},
   "outputs": [
    {
     "data": {
      "text/plain": [
       "'BD13'"
      ]
     },
     "execution_count": 99,
     "metadata": {},
     "output_type": "execute_result"
    }
   ],
   "source": [
    "barcode[1:9:2]"
   ]
  },
  {
   "cell_type": "code",
   "execution_count": 100,
   "id": "5f9401f3-fba9-47b5-b8a8-ab564880f834",
   "metadata": {},
   "outputs": [
    {
     "data": {
      "text/plain": [
       "'987654321EDCBA'"
      ]
     },
     "execution_count": 100,
     "metadata": {},
     "output_type": "execute_result"
    }
   ],
   "source": [
    "barcode[::-1]"
   ]
  },
  {
   "cell_type": "code",
   "execution_count": 101,
   "id": "b508a826-7f98-4355-aae4-4932b3d50524",
   "metadata": {},
   "outputs": [
    {
     "data": {
      "text/plain": [
       "'ABCDE123456789'"
      ]
     },
     "execution_count": 101,
     "metadata": {},
     "output_type": "execute_result"
    }
   ],
   "source": [
    "barcode"
   ]
  },
  {
   "cell_type": "code",
   "execution_count": 102,
   "id": "d9eec17e-ff89-44e2-9e2e-b0901c58c91a",
   "metadata": {},
   "outputs": [],
   "source": [
    "name=\"miray mutlu\""
   ]
  },
  {
   "cell_type": "code",
   "execution_count": 103,
   "id": "1dba4110-5ade-4904-a9c6-f84ae87ac2cd",
   "metadata": {},
   "outputs": [
    {
     "name": "stdout",
     "output_type": "stream",
     "text": [
      "Help on built-in function index:\n",
      "\n",
      "index(...) method of builtins.str instance\n",
      "    S.index(sub[, start[, end]]) -> int\n",
      "\n",
      "    Return the lowest index in S where substring sub is found,\n",
      "    such that sub is contained within S[start:end].  Optional\n",
      "    arguments start and end are interpreted as in slice notation.\n",
      "\n",
      "    Raises ValueError when the substring is not found.\n",
      "\n"
     ]
    }
   ],
   "source": [
    "help(name.index)"
   ]
  },
  {
   "cell_type": "code",
   "execution_count": 106,
   "id": "96e5676b-660c-4148-b427-6dc564831845",
   "metadata": {},
   "outputs": [
    {
     "data": {
      "text/plain": [
       "4"
      ]
     },
     "execution_count": 106,
     "metadata": {},
     "output_type": "execute_result"
    }
   ],
   "source": [
    "name.index(\"y\")"
   ]
  },
  {
   "cell_type": "code",
   "execution_count": 107,
   "id": "dcbb2295-b469-4b72-881e-af02925c67b3",
   "metadata": {},
   "outputs": [
    {
     "data": {
      "text/plain": [
       "['miray', 'mutlu']"
      ]
     },
     "execution_count": 107,
     "metadata": {},
     "output_type": "execute_result"
    }
   ],
   "source": [
    "name.split()"
   ]
  },
  {
   "cell_type": "code",
   "execution_count": 108,
   "id": "048a33a7-7fda-47aa-b445-3b08d0d2b727",
   "metadata": {},
   "outputs": [
    {
     "data": {
      "text/plain": [
       "list"
      ]
     },
     "execution_count": 108,
     "metadata": {},
     "output_type": "execute_result"
    }
   ],
   "source": [
    "type(name.split())"
   ]
  },
  {
   "cell_type": "code",
   "execution_count": null,
   "id": "07b52834-dcc5-449f-8d68-f348c83de7dc",
   "metadata": {},
   "outputs": [],
   "source": []
  }
 ],
 "metadata": {
  "kernelspec": {
   "display_name": "Python 3 (ipykernel)",
   "language": "python",
   "name": "python3"
  },
  "language_info": {
   "codemirror_mode": {
    "name": "ipython",
    "version": 3
   },
   "file_extension": ".py",
   "mimetype": "text/x-python",
   "name": "python",
   "nbconvert_exporter": "python",
   "pygments_lexer": "ipython3",
   "version": "3.12.7"
  }
 },
 "nbformat": 4,
 "nbformat_minor": 5
}
