{
 "cells": [
  {
   "cell_type": "code",
   "execution_count": 19,
   "id": "940c34fd-fe0f-4719-b41e-b1af6e9a1d88",
   "metadata": {},
   "outputs": [
    {
     "name": "stdin",
     "output_type": "stream",
     "text": [
      "enter age :  22\n"
     ]
    }
   ],
   "source": [
    "age = input(\"enter age : \")"
   ]
  },
  {
   "cell_type": "code",
   "execution_count": 20,
   "id": "36b111f9-24f8-4704-b51c-633f75e2cc76",
   "metadata": {},
   "outputs": [
    {
     "data": {
      "text/plain": [
       "'22'"
      ]
     },
     "execution_count": 20,
     "metadata": {},
     "output_type": "execute_result"
    }
   ],
   "source": [
    "age"
   ]
  },
  {
   "cell_type": "code",
   "execution_count": 21,
   "id": "e48fbe72-378f-4546-941e-b0bd35b01118",
   "metadata": {},
   "outputs": [
    {
     "data": {
      "text/plain": [
       "44"
      ]
     },
     "execution_count": 21,
     "metadata": {},
     "output_type": "execute_result"
    }
   ],
   "source": [
    "int(age)*2"
   ]
  },
  {
   "cell_type": "code",
   "execution_count": 17,
   "id": "ab6dd53e-cd2c-413b-b70f-6d293c20032e",
   "metadata": {},
   "outputs": [],
   "source": [
    "# try- except"
   ]
  },
  {
   "cell_type": "code",
   "execution_count": 30,
   "id": "e36bd1ea-6e8a-4835-b09a-daced0ebef31",
   "metadata": {},
   "outputs": [
    {
     "name": "stdin",
     "output_type": "stream",
     "text": [
      "enter age :  atil\n"
     ]
    },
    {
     "name": "stdout",
     "output_type": "stream",
     "text": [
      "enter your age!!!\n",
      "finally\n"
     ]
    },
    {
     "name": "stdin",
     "output_type": "stream",
     "text": [
      "enter age :  35\n"
     ]
    },
    {
     "name": "stdout",
     "output_type": "stream",
     "text": [
      "70\n",
      "else executed\n",
      "finally\n"
     ]
    }
   ],
   "source": [
    "while True:\n",
    "    try:\n",
    "        myAge= int(input(\"enter age : \"))\n",
    "        print(myAge*2)\n",
    "        #break\n",
    "    except:\n",
    "        print(\"enter your age!!!\")\n",
    "    else:\n",
    "        print(\"else executed\")\n",
    "        break\n",
    "    finally:\n",
    "        print(\"finally\")"
   ]
  },
  {
   "cell_type": "code",
   "execution_count": null,
   "id": "8107425f-b5c9-4ac5-9bca-6c017db1365f",
   "metadata": {},
   "outputs": [],
   "source": []
  },
  {
   "cell_type": "code",
   "execution_count": null,
   "id": "a2008de6-5f94-43cc-b390-258e9f783720",
   "metadata": {},
   "outputs": [],
   "source": []
  }
 ],
 "metadata": {
  "kernelspec": {
   "display_name": "Python 3 (ipykernel)",
   "language": "python",
   "name": "python3"
  },
  "language_info": {
   "codemirror_mode": {
    "name": "ipython",
    "version": 3
   },
   "file_extension": ".py",
   "mimetype": "text/x-python",
   "name": "python",
   "nbconvert_exporter": "python",
   "pygments_lexer": "ipython3",
   "version": "3.12.7"
  }
 },
 "nbformat": 4,
 "nbformat_minor": 5
}
