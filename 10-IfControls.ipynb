{
 "cells": [
  {
   "cell_type": "code",
   "execution_count": 2,
   "id": "b006d98c-729c-45db-8101-3c8756a2edbc",
   "metadata": {},
   "outputs": [],
   "source": [
    "x=5\n",
    "y=2"
   ]
  },
  {
   "cell_type": "code",
   "execution_count": 3,
   "id": "8160a47a-f8bd-4b2b-ae15-b569a1b49f20",
   "metadata": {},
   "outputs": [
    {
     "data": {
      "text/plain": [
       "True"
      ]
     },
     "execution_count": 3,
     "metadata": {},
     "output_type": "execute_result"
    }
   ],
   "source": [
    "x>y"
   ]
  },
  {
   "cell_type": "code",
   "execution_count": 4,
   "id": "1cbb0e05-f3a1-4691-b110-ff148ab3c4b0",
   "metadata": {},
   "outputs": [
    {
     "data": {
      "text/plain": [
       "False"
      ]
     },
     "execution_count": 4,
     "metadata": {},
     "output_type": "execute_result"
    }
   ],
   "source": [
    "x<y"
   ]
  },
  {
   "cell_type": "code",
   "execution_count": 5,
   "id": "19fe892c-59a2-4484-a9cd-aee5b7e90949",
   "metadata": {},
   "outputs": [
    {
     "data": {
      "text/plain": [
       "True"
      ]
     },
     "execution_count": 5,
     "metadata": {},
     "output_type": "execute_result"
    }
   ],
   "source": [
    "y<x"
   ]
  },
  {
   "cell_type": "code",
   "execution_count": 6,
   "id": "c419ef6e-ee39-4fa8-8bb4-e26e6796bcb1",
   "metadata": {},
   "outputs": [],
   "source": [
    "y=5"
   ]
  },
  {
   "cell_type": "code",
   "execution_count": 7,
   "id": "62dff7d7-ae7f-4fa2-ad56-844ed6d44584",
   "metadata": {},
   "outputs": [
    {
     "data": {
      "text/plain": [
       "True"
      ]
     },
     "execution_count": 7,
     "metadata": {},
     "output_type": "execute_result"
    }
   ],
   "source": [
    "x>=y"
   ]
  },
  {
   "cell_type": "code",
   "execution_count": 8,
   "id": "f2ea08c3-9d14-43f7-9f2d-e42c49e5747b",
   "metadata": {},
   "outputs": [
    {
     "data": {
      "text/plain": [
       "True"
      ]
     },
     "execution_count": 8,
     "metadata": {},
     "output_type": "execute_result"
    }
   ],
   "source": [
    "y>=x\n"
   ]
  },
  {
   "cell_type": "code",
   "execution_count": 9,
   "id": "7bb700e7-ce2a-4b20-ac8d-9013f876b8e0",
   "metadata": {},
   "outputs": [
    {
     "data": {
      "text/plain": [
       "True"
      ]
     },
     "execution_count": 9,
     "metadata": {},
     "output_type": "execute_result"
    }
   ],
   "source": [
    "x>=5.0\n"
   ]
  },
  {
   "cell_type": "code",
   "execution_count": 10,
   "id": "a60a9648-db2d-4540-9a83-ad6ebbb5e05b",
   "metadata": {},
   "outputs": [
    {
     "data": {
      "text/plain": [
       "False"
      ]
     },
     "execution_count": 10,
     "metadata": {},
     "output_type": "execute_result"
    }
   ],
   "source": [
    "x>=5.001"
   ]
  },
  {
   "cell_type": "code",
   "execution_count": 11,
   "id": "df6d0989-b530-4563-b9b6-469fc20b4654",
   "metadata": {},
   "outputs": [],
   "source": [
    "x=10"
   ]
  },
  {
   "cell_type": "code",
   "execution_count": 12,
   "id": "758b9195-e0ba-443f-a433-9ce3e0bfc354",
   "metadata": {},
   "outputs": [],
   "source": [
    "y=8"
   ]
  },
  {
   "cell_type": "code",
   "execution_count": 13,
   "id": "2713ef1b-0133-4318-bf31-5d19a9245439",
   "metadata": {},
   "outputs": [
    {
     "data": {
      "text/plain": [
       "10"
      ]
     },
     "execution_count": 13,
     "metadata": {},
     "output_type": "execute_result"
    }
   ],
   "source": [
    "x"
   ]
  },
  {
   "cell_type": "code",
   "execution_count": 14,
   "id": "1da4e77f-b663-4ff4-a645-98f8c7a6ea84",
   "metadata": {},
   "outputs": [
    {
     "data": {
      "text/plain": [
       "8"
      ]
     },
     "execution_count": 14,
     "metadata": {},
     "output_type": "execute_result"
    }
   ],
   "source": [
    "y"
   ]
  },
  {
   "cell_type": "code",
   "execution_count": 15,
   "id": "7e0f7396-beb1-4a5f-a2e4-235cb071b567",
   "metadata": {},
   "outputs": [],
   "source": [
    "x=y"
   ]
  },
  {
   "cell_type": "code",
   "execution_count": 16,
   "id": "58c18fe4-f67d-4927-a1ef-f7e83e313e01",
   "metadata": {},
   "outputs": [
    {
     "data": {
      "text/plain": [
       "8"
      ]
     },
     "execution_count": 16,
     "metadata": {},
     "output_type": "execute_result"
    }
   ],
   "source": [
    "x"
   ]
  },
  {
   "cell_type": "code",
   "execution_count": 17,
   "id": "0ddcd321-2ff0-49fd-aae4-601b3e1f9c83",
   "metadata": {},
   "outputs": [
    {
     "data": {
      "text/plain": [
       "8"
      ]
     },
     "execution_count": 17,
     "metadata": {},
     "output_type": "execute_result"
    }
   ],
   "source": [
    "y"
   ]
  },
  {
   "cell_type": "code",
   "execution_count": 18,
   "id": "b11b0830-a724-46a2-9ee6-7323659d77fc",
   "metadata": {},
   "outputs": [],
   "source": [
    "x=10"
   ]
  },
  {
   "cell_type": "code",
   "execution_count": 19,
   "id": "947ef37f-144c-4d1b-bdd4-f309d8663b4c",
   "metadata": {},
   "outputs": [
    {
     "data": {
      "text/plain": [
       "False"
      ]
     },
     "execution_count": 19,
     "metadata": {},
     "output_type": "execute_result"
    }
   ],
   "source": [
    "x==y"
   ]
  },
  {
   "cell_type": "code",
   "execution_count": 20,
   "id": "f4c23943-e64e-4d1a-94b5-2c76ed14f52f",
   "metadata": {},
   "outputs": [
    {
     "data": {
      "text/plain": [
       "True"
      ]
     },
     "execution_count": 20,
     "metadata": {},
     "output_type": "execute_result"
    }
   ],
   "source": [
    "x!=y"
   ]
  },
  {
   "cell_type": "code",
   "execution_count": 21,
   "id": "4cf73bc2-3ab5-4d2e-a0cf-49074b2f02e4",
   "metadata": {},
   "outputs": [
    {
     "data": {
      "text/plain": [
       "True"
      ]
     },
     "execution_count": 21,
     "metadata": {},
     "output_type": "execute_result"
    }
   ],
   "source": [
    "2>1 and 3>2"
   ]
  },
  {
   "cell_type": "code",
   "execution_count": 22,
   "id": "dad36ffe-fc4e-481e-92cf-289e5e8aecf7",
   "metadata": {},
   "outputs": [
    {
     "data": {
      "text/plain": [
       "False"
      ]
     },
     "execution_count": 22,
     "metadata": {},
     "output_type": "execute_result"
    }
   ],
   "source": [
    "2>1 and 3<2"
   ]
  },
  {
   "cell_type": "code",
   "execution_count": 23,
   "id": "4fd5f695-bae6-4485-a346-40d99d01ce34",
   "metadata": {},
   "outputs": [
    {
     "data": {
      "text/plain": [
       "True"
      ]
     },
     "execution_count": 23,
     "metadata": {},
     "output_type": "execute_result"
    }
   ],
   "source": [
    "True and True"
   ]
  },
  {
   "cell_type": "code",
   "execution_count": 24,
   "id": "b091dc91-a058-4d58-958a-5dac2b92a9f7",
   "metadata": {},
   "outputs": [
    {
     "data": {
      "text/plain": [
       "False"
      ]
     },
     "execution_count": 24,
     "metadata": {},
     "output_type": "execute_result"
    }
   ],
   "source": [
    "True and False"
   ]
  },
  {
   "cell_type": "code",
   "execution_count": 26,
   "id": "ad57d692-8665-4538-9b77-32f4a6d54527",
   "metadata": {},
   "outputs": [
    {
     "data": {
      "text/plain": [
       "False"
      ]
     },
     "execution_count": 26,
     "metadata": {},
     "output_type": "execute_result"
    }
   ],
   "source": [
    "False and False"
   ]
  },
  {
   "cell_type": "code",
   "execution_count": 27,
   "id": "71136b90-00ff-46f0-a623-86dcd0daa2da",
   "metadata": {},
   "outputs": [
    {
     "data": {
      "text/plain": [
       "True"
      ]
     },
     "execution_count": 27,
     "metadata": {},
     "output_type": "execute_result"
    }
   ],
   "source": [
    "2>1 or 3<2"
   ]
  },
  {
   "cell_type": "code",
   "execution_count": 28,
   "id": "cfb8678c-d2d5-42cb-aa5f-5ed6da0201bb",
   "metadata": {},
   "outputs": [
    {
     "data": {
      "text/plain": [
       "False"
      ]
     },
     "execution_count": 28,
     "metadata": {},
     "output_type": "execute_result"
    }
   ],
   "source": [
    "1>2 or 3<2"
   ]
  },
  {
   "cell_type": "code",
   "execution_count": 29,
   "id": "2ae38310-b8db-4a3f-86ba-be9eb2aecc89",
   "metadata": {},
   "outputs": [
    {
     "data": {
      "text/plain": [
       "False"
      ]
     },
     "execution_count": 29,
     "metadata": {},
     "output_type": "execute_result"
    }
   ],
   "source": [
    "not 1==1"
   ]
  },
  {
   "cell_type": "code",
   "execution_count": 30,
   "id": "ba45d921-5e1f-4a02-a62a-6576b2b5161e",
   "metadata": {},
   "outputs": [
    {
     "data": {
      "text/plain": [
       "True"
      ]
     },
     "execution_count": 30,
     "metadata": {},
     "output_type": "execute_result"
    }
   ],
   "source": [
    "10 in [10,20,30]"
   ]
  },
  {
   "cell_type": "code",
   "execution_count": 31,
   "id": "60030216-b6a6-46bc-b5b0-fcb653e7732d",
   "metadata": {},
   "outputs": [
    {
     "data": {
      "text/plain": [
       "True"
      ]
     },
     "execution_count": 31,
     "metadata": {},
     "output_type": "execute_result"
    }
   ],
   "source": [
    "5 not in [10,20,30]"
   ]
  },
  {
   "cell_type": "code",
   "execution_count": 32,
   "id": "f5f5d83d-e43f-4da3-9323-1e2c224d8009",
   "metadata": {},
   "outputs": [
    {
     "data": {
      "text/plain": [
       "False"
      ]
     },
     "execution_count": 32,
     "metadata": {},
     "output_type": "execute_result"
    }
   ],
   "source": [
    "5 in [10,20,30]"
   ]
  },
  {
   "cell_type": "code",
   "execution_count": 33,
   "id": "64a4f377-baf1-4233-ace2-2e273bc1e2cd",
   "metadata": {},
   "outputs": [
    {
     "data": {
      "text/plain": [
       "True"
      ]
     },
     "execution_count": 33,
     "metadata": {},
     "output_type": "execute_result"
    }
   ],
   "source": [
    "10 in {10,20,30}"
   ]
  },
  {
   "cell_type": "code",
   "execution_count": 34,
   "id": "3aeb26e5-95e4-42ca-b39e-761c042c1345",
   "metadata": {},
   "outputs": [],
   "source": [
    "my_dictionary={\"a\":10,\"b\":20, \"c\":30}"
   ]
  },
  {
   "cell_type": "code",
   "execution_count": 36,
   "id": "b5786077-f80e-46a3-a8fa-bab17b874108",
   "metadata": {},
   "outputs": [
    {
     "data": {
      "text/plain": [
       "True"
      ]
     },
     "execution_count": 36,
     "metadata": {},
     "output_type": "execute_result"
    }
   ],
   "source": [
    "10 in my_dictionary.values()"
   ]
  },
  {
   "cell_type": "code",
   "execution_count": 37,
   "id": "1a5d08d9-6378-492c-aad6-bd58e55f332c",
   "metadata": {},
   "outputs": [
    {
     "data": {
      "text/plain": [
       "True"
      ]
     },
     "execution_count": 37,
     "metadata": {},
     "output_type": "execute_result"
    }
   ],
   "source": [
    "\"b\" in my_dictionary.keys()"
   ]
  },
  {
   "cell_type": "code",
   "execution_count": 38,
   "id": "6897b6fc-a29a-4280-ac2f-aa5b6137f6cd",
   "metadata": {},
   "outputs": [
    {
     "data": {
      "text/plain": [
       "True"
      ]
     },
     "execution_count": 38,
     "metadata": {},
     "output_type": "execute_result"
    }
   ],
   "source": [
    "10 in (10,20,30)"
   ]
  },
  {
   "cell_type": "code",
   "execution_count": 48,
   "id": "eeff7322-9da2-4d53-8a5b-f23a52d5ef5e",
   "metadata": {},
   "outputs": [],
   "source": [
    "my_superhero=\"Batman\""
   ]
  },
  {
   "cell_type": "code",
   "execution_count": 49,
   "id": "64a3ee4f-24f5-48c1-9c75-235b42fd7476",
   "metadata": {},
   "outputs": [
    {
     "data": {
      "text/plain": [
       "True"
      ]
     },
     "execution_count": 49,
     "metadata": {},
     "output_type": "execute_result"
    }
   ],
   "source": [
    "my_superhero==\"Batman\""
   ]
  },
  {
   "cell_type": "code",
   "execution_count": 50,
   "id": "c9a954a8-6eb7-4905-a7f7-e7b07b76b9aa",
   "metadata": {},
   "outputs": [
    {
     "data": {
      "text/plain": [
       "False"
      ]
     },
     "execution_count": 50,
     "metadata": {},
     "output_type": "execute_result"
    }
   ],
   "source": [
    "my_superhero==\"Superman\""
   ]
  },
  {
   "cell_type": "code",
   "execution_count": 51,
   "id": "60d5a253-0392-4c0a-b2f5-a9e8cb72241a",
   "metadata": {},
   "outputs": [
    {
     "name": "stdout",
     "output_type": "stream",
     "text": [
      "batmann\n",
      "atil samancioglu\n",
      "hello python\n"
     ]
    }
   ],
   "source": [
    "if my_superhero==\"Batman\":\n",
    "    #indentation\n",
    "    print(\"batmann\")\n",
    "    print(\"atil samancioglu\")\n",
    "#########-----------################\n",
    "print(\"hello python\")"
   ]
  },
  {
   "cell_type": "code",
   "execution_count": 54,
   "id": "84e703f1-0217-4cfc-97c6-8e10af0e41b9",
   "metadata": {},
   "outputs": [],
   "source": [
    "if 3>4:\n",
    "    print (\"hello world\")\n",
    "    print(\"atil\")"
   ]
  },
  {
   "cell_type": "code",
   "execution_count": 62,
   "id": "e02d6fd8-b6b3-4ba3-b03b-f9148e783d4c",
   "metadata": {},
   "outputs": [
    {
     "name": "stdin",
     "output_type": "stream",
     "text": [
      "enter superhero:  Wonder Woman\n"
     ]
    }
   ],
   "source": [
    "my_superhero=input(\"enter superhero: \")"
   ]
  },
  {
   "cell_type": "code",
   "execution_count": 64,
   "id": "3fffd4b1-2eb5-4977-a4ad-4cf73d3b7e36",
   "metadata": {},
   "outputs": [
    {
     "name": "stdout",
     "output_type": "stream",
     "text": [
      ":(\n"
     ]
    }
   ],
   "source": [
    "if my_superhero==\"Superman\":\n",
    "    print(\"superman\")\n",
    "elif my_superhero==\"Batman\":\n",
    "    print(\"batman\")\n",
    "elif my_superhero==\"Aquaman\":\n",
    "    print(\"aquaman\")\n",
    "elif my_superhero==\"Ironman\":\n",
    "    print(\"ironman\")\n",
    "else:\n",
    "    print(\":(\")\n",
    "    \n",
    "    "
   ]
  },
  {
   "cell_type": "code",
   "execution_count": 74,
   "id": "7cff05ee-2609-4023-85df-c1fd58b3459f",
   "metadata": {},
   "outputs": [],
   "source": [
    "my_age=100"
   ]
  },
  {
   "cell_type": "code",
   "execution_count": 75,
   "id": "e2a6eb1c-1839-4465-93ed-afbd9de9cc65",
   "metadata": {},
   "outputs": [
    {
     "name": "stdout",
     "output_type": "stream",
     "text": [
      "age>40\n"
     ]
    }
   ],
   "source": [
    "if my_age<=18:\n",
    "    print(\"age<18\")\n",
    "elif my_age>18 and my_age<=30:\n",
    "    print(\"18-age-30\")\n",
    "elif my_age>30 and my_age<=40:\n",
    "    print(\"30-age-40\")\n",
    "else:\n",
    "    print(\"age>40\")"
   ]
  },
  {
   "cell_type": "code",
   "execution_count": 80,
   "id": "8508c713-5722-449e-ac20-3966cb234d63",
   "metadata": {},
   "outputs": [
    {
     "name": "stdin",
     "output_type": "stream",
     "text": [
      "enter superhero: Batman\n"
     ]
    }
   ],
   "source": [
    "my_superhero=input(\"enter superhero:\")"
   ]
  },
  {
   "cell_type": "code",
   "execution_count": 81,
   "id": "4b311272-0e42-4cee-b87d-15ab15bcc075",
   "metadata": {},
   "outputs": [],
   "source": [
    "my_superhero_list=[\"Spider Man\", \"Iron Man\", \"Thor\", \"Black Widow\"]"
   ]
  },
  {
   "cell_type": "code",
   "execution_count": 82,
   "id": "d7e332d7-8dac-47ef-8f9a-9c88a5acb4c5",
   "metadata": {},
   "outputs": [
    {
     "name": "stdout",
     "output_type": "stream",
     "text": [
      ":(\n"
     ]
    }
   ],
   "source": [
    "if my_superhero in my_superhero_list:\n",
    "    print(\":)\")\n",
    "else:\n",
    "    print(\":(\")"
   ]
  },
  {
   "cell_type": "code",
   "execution_count": null,
   "id": "135d5bde-3553-40eb-a93b-c0700a657066",
   "metadata": {},
   "outputs": [],
   "source": []
  }
 ],
 "metadata": {
  "kernelspec": {
   "display_name": "Python 3 (ipykernel)",
   "language": "python",
   "name": "python3"
  },
  "language_info": {
   "codemirror_mode": {
    "name": "ipython",
    "version": 3
   },
   "file_extension": ".py",
   "mimetype": "text/x-python",
   "name": "python",
   "nbconvert_exporter": "python",
   "pygments_lexer": "ipython3",
   "version": "3.12.7"
  }
 },
 "nbformat": 4,
 "nbformat_minor": 5
}
