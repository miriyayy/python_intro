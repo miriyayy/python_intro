{
 "cells": [
  {
   "cell_type": "code",
   "execution_count": 1,
   "id": "2e0a199d-8cf4-4e44-80d5-8357305e0c55",
   "metadata": {},
   "outputs": [],
   "source": [
    "myString=\"hello python\""
   ]
  },
  {
   "cell_type": "code",
   "execution_count": 2,
   "id": "947a3dcf-8341-45b5-b5f0-3de1be63fb00",
   "metadata": {},
   "outputs": [
    {
     "data": {
      "text/plain": [
       "['hello', 'python']"
      ]
     },
     "execution_count": 2,
     "metadata": {},
     "output_type": "execute_result"
    }
   ],
   "source": [
    "myString.split()"
   ]
  },
  {
   "cell_type": "code",
   "execution_count": 3,
   "id": "67718194-0ef9-4c16-846b-93aa47f5b8a7",
   "metadata": {},
   "outputs": [
    {
     "data": {
      "text/plain": [
       "list"
      ]
     },
     "execution_count": 3,
     "metadata": {},
     "output_type": "execute_result"
    }
   ],
   "source": [
    "type(myString.split())"
   ]
  },
  {
   "cell_type": "code",
   "execution_count": 4,
   "id": "b0eb259a-a6fb-4055-b5b4-1337d3dc2f2c",
   "metadata": {},
   "outputs": [],
   "source": [
    "#list"
   ]
  },
  {
   "cell_type": "code",
   "execution_count": 5,
   "id": "ff6ab66f-1f17-4c35-8864-1eddbc1ea5f7",
   "metadata": {},
   "outputs": [
    {
     "data": {
      "text/plain": [
       "'hello python'"
      ]
     },
     "execution_count": 5,
     "metadata": {},
     "output_type": "execute_result"
    }
   ],
   "source": [
    "myString"
   ]
  },
  {
   "cell_type": "code",
   "execution_count": 6,
   "id": "dc542c38-358a-418e-8a71-c7a52a26c50c",
   "metadata": {},
   "outputs": [
    {
     "data": {
      "text/plain": [
       "'h'"
      ]
     },
     "execution_count": 6,
     "metadata": {},
     "output_type": "execute_result"
    }
   ],
   "source": [
    "myString[0]"
   ]
  },
  {
   "cell_type": "code",
   "execution_count": 7,
   "id": "bd3e205b-3dac-449a-bd92-9784656a66b9",
   "metadata": {},
   "outputs": [],
   "source": [
    "#myString[0]=\"a\""
   ]
  },
  {
   "cell_type": "code",
   "execution_count": 8,
   "id": "a706d9cf-5e14-4406-b879-83f99698b1ec",
   "metadata": {},
   "outputs": [],
   "source": [
    "#immutable-immutability"
   ]
  },
  {
   "cell_type": "code",
   "execution_count": 9,
   "id": "84260e04-d311-47e4-91f0-6ab7267be06d",
   "metadata": {},
   "outputs": [],
   "source": [
    "myString=\"atil\""
   ]
  },
  {
   "cell_type": "markdown",
   "id": "fc1c9b3e-e59b-4af5-bb1c-5b03bb3c2726",
   "metadata": {},
   "source": [
    "list"
   ]
  },
  {
   "cell_type": "code",
   "execution_count": 10,
   "id": "0c960c40-c964-4bd8-884f-3a5b4e60e53b",
   "metadata": {},
   "outputs": [],
   "source": [
    "myList=[10,20,30]"
   ]
  },
  {
   "cell_type": "code",
   "execution_count": 11,
   "id": "d188c992-8144-4007-b70b-ed50ccc2319a",
   "metadata": {},
   "outputs": [
    {
     "data": {
      "text/plain": [
       "list"
      ]
     },
     "execution_count": 11,
     "metadata": {},
     "output_type": "execute_result"
    }
   ],
   "source": [
    "type(myList)"
   ]
  },
  {
   "cell_type": "code",
   "execution_count": 12,
   "id": "795f5385-6ce3-462a-a331-d8d34bc5f789",
   "metadata": {},
   "outputs": [],
   "source": [
    "x=10\n",
    "y=20\n",
    "z=30"
   ]
  },
  {
   "cell_type": "code",
   "execution_count": 13,
   "id": "88600113-135a-45a0-a259-37616a47c048",
   "metadata": {},
   "outputs": [],
   "source": [
    "myList=[x,y,z]"
   ]
  },
  {
   "cell_type": "code",
   "execution_count": 14,
   "id": "b4f21ac7-ae27-4f02-b281-0134374ce1f0",
   "metadata": {},
   "outputs": [
    {
     "data": {
      "text/plain": [
       "[10, 20, 30]"
      ]
     },
     "execution_count": 14,
     "metadata": {},
     "output_type": "execute_result"
    }
   ],
   "source": [
    "myList"
   ]
  },
  {
   "cell_type": "code",
   "execution_count": 15,
   "id": "646b7fd4-f5d6-4b31-a04e-835c3fc5b31e",
   "metadata": {},
   "outputs": [
    {
     "data": {
      "text/plain": [
       "list"
      ]
     },
     "execution_count": 15,
     "metadata": {},
     "output_type": "execute_result"
    }
   ],
   "source": [
    "type(myList)"
   ]
  },
  {
   "cell_type": "code",
   "execution_count": 16,
   "id": "838a25aa-d688-4c41-bff8-13f82160ff43",
   "metadata": {},
   "outputs": [],
   "source": [
    "myList=[10,20,30,40,50,60,70]"
   ]
  },
  {
   "cell_type": "code",
   "execution_count": 17,
   "id": "f23e6b8f-2d33-42fb-804f-10ec4f66df65",
   "metadata": {},
   "outputs": [
    {
     "data": {
      "text/plain": [
       "int"
      ]
     },
     "execution_count": 17,
     "metadata": {},
     "output_type": "execute_result"
    }
   ],
   "source": [
    "type(myList[0])"
   ]
  },
  {
   "cell_type": "code",
   "execution_count": 18,
   "id": "e60a14d5-437d-4f22-a3b5-9a86333068b9",
   "metadata": {},
   "outputs": [
    {
     "data": {
      "text/plain": [
       "10"
      ]
     },
     "execution_count": 18,
     "metadata": {},
     "output_type": "execute_result"
    }
   ],
   "source": [
    "myList[0]"
   ]
  },
  {
   "cell_type": "code",
   "execution_count": 19,
   "id": "9408ffc4-6251-4db2-a4f0-9f7eecf40038",
   "metadata": {},
   "outputs": [],
   "source": [
    "myList[0]=100"
   ]
  },
  {
   "cell_type": "code",
   "execution_count": 20,
   "id": "adb8accb-96b3-4729-9ec3-334003410626",
   "metadata": {},
   "outputs": [],
   "source": [
    "#mutable, mutability"
   ]
  },
  {
   "cell_type": "code",
   "execution_count": 21,
   "id": "fb0808eb-78d8-4ad3-ae67-69fa2c2c1aac",
   "metadata": {},
   "outputs": [
    {
     "data": {
      "text/plain": [
       "[100, 20, 30, 40, 50, 60, 70]"
      ]
     },
     "execution_count": 21,
     "metadata": {},
     "output_type": "execute_result"
    }
   ],
   "source": [
    "myList"
   ]
  },
  {
   "cell_type": "code",
   "execution_count": 22,
   "id": "ce652667-5cdf-4aaf-9703-bafe466e6a45",
   "metadata": {},
   "outputs": [
    {
     "data": {
      "text/plain": [
       "7"
      ]
     },
     "execution_count": 22,
     "metadata": {},
     "output_type": "execute_result"
    }
   ],
   "source": [
    "len(myList)"
   ]
  },
  {
   "cell_type": "code",
   "execution_count": 24,
   "id": "5110f5ed-6593-4c82-bc8e-5e2aef94cf1b",
   "metadata": {},
   "outputs": [
    {
     "data": {
      "text/plain": [
       "70"
      ]
     },
     "execution_count": 24,
     "metadata": {},
     "output_type": "execute_result"
    }
   ],
   "source": [
    "myList[len(myList)-1]"
   ]
  },
  {
   "cell_type": "code",
   "execution_count": 25,
   "id": "5a4dbdaa-38f6-471e-890f-5e3a32feeddd",
   "metadata": {},
   "outputs": [
    {
     "data": {
      "text/plain": [
       "70"
      ]
     },
     "execution_count": 25,
     "metadata": {},
     "output_type": "execute_result"
    }
   ],
   "source": [
    "myList[-1]"
   ]
  },
  {
   "cell_type": "code",
   "execution_count": 26,
   "id": "32e701d8-03e2-4c1e-8160-43e224439a40",
   "metadata": {},
   "outputs": [
    {
     "data": {
      "text/plain": [
       "60"
      ]
     },
     "execution_count": 26,
     "metadata": {},
     "output_type": "execute_result"
    }
   ],
   "source": [
    "myList[-2]"
   ]
  },
  {
   "cell_type": "code",
   "execution_count": 27,
   "id": "e671462f-10b9-4187-8b72-34207f4cabf7",
   "metadata": {},
   "outputs": [
    {
     "data": {
      "text/plain": [
       "[100, 20, 30, 40, 50, 60, 70]"
      ]
     },
     "execution_count": 27,
     "metadata": {},
     "output_type": "execute_result"
    }
   ],
   "source": [
    "myList"
   ]
  },
  {
   "cell_type": "code",
   "execution_count": 30,
   "id": "81c31fb5-4107-4678-b7e9-34f16ea5a0ab",
   "metadata": {},
   "outputs": [],
   "source": [
    "myList.append(1)"
   ]
  },
  {
   "cell_type": "code",
   "execution_count": 31,
   "id": "7e74c408-7b8d-49fd-b0a2-a0293d63d0c5",
   "metadata": {},
   "outputs": [
    {
     "data": {
      "text/plain": [
       "[100, 20, 30, 40, 50, 60, 70, 80, 1]"
      ]
     },
     "execution_count": 31,
     "metadata": {},
     "output_type": "execute_result"
    }
   ],
   "source": [
    "myList"
   ]
  },
  {
   "cell_type": "code",
   "execution_count": 32,
   "id": "10b7922f-eab1-4585-a04d-ee74a88321c0",
   "metadata": {},
   "outputs": [
    {
     "data": {
      "text/plain": [
       "9"
      ]
     },
     "execution_count": 32,
     "metadata": {},
     "output_type": "execute_result"
    }
   ],
   "source": [
    "len(myList)"
   ]
  },
  {
   "cell_type": "code",
   "execution_count": 33,
   "id": "50567678-b7f9-4f07-970d-fffd34bcab67",
   "metadata": {},
   "outputs": [
    {
     "data": {
      "text/plain": [
       "1"
      ]
     },
     "execution_count": 33,
     "metadata": {},
     "output_type": "execute_result"
    }
   ],
   "source": [
    "myList.count(20)\n"
   ]
  },
  {
   "cell_type": "code",
   "execution_count": 34,
   "id": "1a1c112d-0774-49a9-b441-d8fef6797d10",
   "metadata": {},
   "outputs": [
    {
     "data": {
      "text/plain": [
       "0"
      ]
     },
     "execution_count": 34,
     "metadata": {},
     "output_type": "execute_result"
    }
   ],
   "source": [
    "myList.count(25)"
   ]
  },
  {
   "cell_type": "code",
   "execution_count": 35,
   "id": "5486030d-c84b-45ba-a6a2-7b1530347c56",
   "metadata": {},
   "outputs": [
    {
     "data": {
      "text/plain": [
       "3"
      ]
     },
     "execution_count": 35,
     "metadata": {},
     "output_type": "execute_result"
    }
   ],
   "source": [
    "myList.index(40)"
   ]
  },
  {
   "cell_type": "code",
   "execution_count": 36,
   "id": "b44af3e1-837a-4cb9-bce5-be9ff10144c2",
   "metadata": {},
   "outputs": [
    {
     "name": "stdout",
     "output_type": "stream",
     "text": [
      "Help on built-in function insert:\n",
      "\n",
      "insert(index, object, /) method of builtins.list instance\n",
      "    Insert object before index.\n",
      "\n"
     ]
    }
   ],
   "source": [
    "help(myList.insert)"
   ]
  },
  {
   "cell_type": "code",
   "execution_count": 37,
   "id": "e0ad740c-08dd-4bf8-b144-61ee367ff5f2",
   "metadata": {},
   "outputs": [
    {
     "data": {
      "text/plain": [
       "[100, 20, 30, 40, 50, 60, 70, 80, 1]"
      ]
     },
     "execution_count": 37,
     "metadata": {},
     "output_type": "execute_result"
    }
   ],
   "source": [
    "myList"
   ]
  },
  {
   "cell_type": "code",
   "execution_count": 38,
   "id": "141c233e-4c12-4422-a286-d4de34dab284",
   "metadata": {},
   "outputs": [],
   "source": [
    "myList.insert(2,35)"
   ]
  },
  {
   "cell_type": "code",
   "execution_count": 39,
   "id": "9608a06a-30e3-4fb8-9cf7-65f7976c15ba",
   "metadata": {},
   "outputs": [
    {
     "data": {
      "text/plain": [
       "[100, 20, 35, 30, 40, 50, 60, 70, 80, 1]"
      ]
     },
     "execution_count": 39,
     "metadata": {},
     "output_type": "execute_result"
    }
   ],
   "source": [
    "myList"
   ]
  },
  {
   "cell_type": "code",
   "execution_count": 40,
   "id": "29df149b-7060-4b4c-96be-0491260f44b2",
   "metadata": {},
   "outputs": [
    {
     "data": {
      "text/plain": [
       "1"
      ]
     },
     "execution_count": 40,
     "metadata": {},
     "output_type": "execute_result"
    }
   ],
   "source": [
    "myList.pop()"
   ]
  },
  {
   "cell_type": "code",
   "execution_count": 41,
   "id": "23f26119-d501-4b70-964c-2d87ff4fd774",
   "metadata": {},
   "outputs": [
    {
     "data": {
      "text/plain": [
       "[100, 20, 35, 30, 40, 50, 60, 70, 80]"
      ]
     },
     "execution_count": 41,
     "metadata": {},
     "output_type": "execute_result"
    }
   ],
   "source": [
    "myList"
   ]
  },
  {
   "cell_type": "code",
   "execution_count": 42,
   "id": "58896a55-fb35-40cd-b620-596ac30a473d",
   "metadata": {},
   "outputs": [],
   "source": [
    "myList.remove(40)"
   ]
  },
  {
   "cell_type": "code",
   "execution_count": 43,
   "id": "62d6d925-bac9-4932-b678-58218a77bb2a",
   "metadata": {},
   "outputs": [
    {
     "data": {
      "text/plain": [
       "[100, 20, 35, 30, 50, 60, 70, 80]"
      ]
     },
     "execution_count": 43,
     "metadata": {},
     "output_type": "execute_result"
    }
   ],
   "source": [
    "myList"
   ]
  },
  {
   "cell_type": "code",
   "execution_count": 44,
   "id": "54764e07-03a8-4e84-9d67-297733018eb1",
   "metadata": {},
   "outputs": [],
   "source": [
    "myList.reverse()"
   ]
  },
  {
   "cell_type": "code",
   "execution_count": 45,
   "id": "4746358d-d1f5-4954-bebb-71a26921c586",
   "metadata": {},
   "outputs": [
    {
     "data": {
      "text/plain": [
       "[80, 70, 60, 50, 30, 35, 20, 100]"
      ]
     },
     "execution_count": 45,
     "metadata": {},
     "output_type": "execute_result"
    }
   ],
   "source": [
    "myList"
   ]
  },
  {
   "cell_type": "code",
   "execution_count": 46,
   "id": "871a3aba-6936-4e14-b411-22a6f3c3be67",
   "metadata": {},
   "outputs": [],
   "source": [
    "myList.sort()"
   ]
  },
  {
   "cell_type": "code",
   "execution_count": 47,
   "id": "5dd7aad0-b46e-49f3-9af7-726d7d81438d",
   "metadata": {},
   "outputs": [
    {
     "data": {
      "text/plain": [
       "[20, 30, 35, 50, 60, 70, 80, 100]"
      ]
     },
     "execution_count": 47,
     "metadata": {},
     "output_type": "execute_result"
    }
   ],
   "source": [
    "myList"
   ]
  },
  {
   "cell_type": "code",
   "execution_count": 48,
   "id": "2cf6f256-eb41-464e-8f77-f12c762ee545",
   "metadata": {},
   "outputs": [
    {
     "name": "stdin",
     "output_type": "stream",
     "text": [
      "enter x 10\n"
     ]
    }
   ],
   "source": [
    "x=input(\"enter x\")"
   ]
  },
  {
   "cell_type": "code",
   "execution_count": 49,
   "id": "7bee3d44-02eb-47a1-a637-329402b44058",
   "metadata": {},
   "outputs": [
    {
     "data": {
      "text/plain": [
       "'10'"
      ]
     },
     "execution_count": 49,
     "metadata": {},
     "output_type": "execute_result"
    }
   ],
   "source": [
    "x"
   ]
  },
  {
   "cell_type": "code",
   "execution_count": 50,
   "id": "e6b11936-0734-430e-a79a-ea12ce69a39c",
   "metadata": {},
   "outputs": [
    {
     "data": {
      "text/plain": [
       "str"
      ]
     },
     "execution_count": 50,
     "metadata": {},
     "output_type": "execute_result"
    }
   ],
   "source": [
    "type(x)"
   ]
  },
  {
   "cell_type": "code",
   "execution_count": 51,
   "id": "7cbf045a-8ca6-4069-ad63-5054c41c5e5f",
   "metadata": {},
   "outputs": [
    {
     "name": "stdin",
     "output_type": "stream",
     "text": [
      "enter y: 20\n"
     ]
    }
   ],
   "source": [
    "y=input(\"enter y:\")\n"
   ]
  },
  {
   "cell_type": "code",
   "execution_count": 52,
   "id": "34521c20-f4d3-4bad-873e-8b89aacda9fe",
   "metadata": {},
   "outputs": [
    {
     "name": "stdin",
     "output_type": "stream",
     "text": [
      "enter z: 30\n"
     ]
    }
   ],
   "source": [
    "z=input (\"enter z:\")"
   ]
  },
  {
   "cell_type": "code",
   "execution_count": 53,
   "id": "9fcd81ea-7170-4cbf-a47c-c4363564cc8f",
   "metadata": {},
   "outputs": [],
   "source": [
    "inputList=[]"
   ]
  },
  {
   "cell_type": "code",
   "execution_count": 54,
   "id": "49520fe3-4bdc-4107-8738-34bf52fcacd2",
   "metadata": {},
   "outputs": [
    {
     "data": {
      "text/plain": [
       "list"
      ]
     },
     "execution_count": 54,
     "metadata": {},
     "output_type": "execute_result"
    }
   ],
   "source": [
    "type(inputList)"
   ]
  },
  {
   "cell_type": "code",
   "execution_count": 55,
   "id": "4ff85fae-8703-4ac1-8075-a90a35937cec",
   "metadata": {},
   "outputs": [
    {
     "data": {
      "text/plain": [
       "[]"
      ]
     },
     "execution_count": 55,
     "metadata": {},
     "output_type": "execute_result"
    }
   ],
   "source": [
    "inputList"
   ]
  },
  {
   "cell_type": "code",
   "execution_count": 56,
   "id": "fdaea5ce-7792-4a69-b20c-e50116f1f118",
   "metadata": {},
   "outputs": [
    {
     "data": {
      "text/plain": [
       "0"
      ]
     },
     "execution_count": 56,
     "metadata": {},
     "output_type": "execute_result"
    }
   ],
   "source": [
    "len(inputList)"
   ]
  },
  {
   "cell_type": "code",
   "execution_count": 57,
   "id": "e97a2a16-65ec-416c-a82c-41875b645bcc",
   "metadata": {},
   "outputs": [],
   "source": [
    "inputList.append(x)\n",
    "inputList.append(y)\n",
    "inputList.append(z)"
   ]
  },
  {
   "cell_type": "code",
   "execution_count": 58,
   "id": "9d70cac1-961f-4583-9e2e-6940e5c8046e",
   "metadata": {},
   "outputs": [
    {
     "data": {
      "text/plain": [
       "['10', '20', '30']"
      ]
     },
     "execution_count": 58,
     "metadata": {},
     "output_type": "execute_result"
    }
   ],
   "source": [
    "inputList"
   ]
  },
  {
   "cell_type": "code",
   "execution_count": 60,
   "id": "40282a86-223f-47f1-aecc-1a5a7124b04a",
   "metadata": {},
   "outputs": [
    {
     "data": {
      "text/plain": [
       "'20'"
      ]
     },
     "execution_count": 60,
     "metadata": {},
     "output_type": "execute_result"
    }
   ],
   "source": [
    "inputList[1]"
   ]
  },
  {
   "cell_type": "code",
   "execution_count": 62,
   "id": "be69ebe4-11b2-493a-9971-80f3b722fed9",
   "metadata": {},
   "outputs": [
    {
     "data": {
      "text/plain": [
       "'2020'"
      ]
     },
     "execution_count": 62,
     "metadata": {},
     "output_type": "execute_result"
    }
   ],
   "source": [
    "inputList[1]*2"
   ]
  },
  {
   "cell_type": "code",
   "execution_count": 63,
   "id": "48b7fbde-d850-4cbb-8c2b-d1eb20007661",
   "metadata": {},
   "outputs": [
    {
     "data": {
      "text/plain": [
       "str"
      ]
     },
     "execution_count": 63,
     "metadata": {},
     "output_type": "execute_result"
    }
   ],
   "source": [
    "type(inputList[1])"
   ]
  },
  {
   "cell_type": "code",
   "execution_count": 64,
   "id": "355e72e8-53a6-418a-8fbc-07563acd5549",
   "metadata": {},
   "outputs": [],
   "source": [
    "myInteger=50"
   ]
  },
  {
   "cell_type": "code",
   "execution_count": 65,
   "id": "8e4f686f-60cd-4fec-aba3-cc1c0e2f660e",
   "metadata": {},
   "outputs": [
    {
     "data": {
      "text/plain": [
       "'50'"
      ]
     },
     "execution_count": 65,
     "metadata": {},
     "output_type": "execute_result"
    }
   ],
   "source": [
    "str(myInteger)"
   ]
  },
  {
   "cell_type": "code",
   "execution_count": 66,
   "id": "3ccb1a85-467a-4a79-9fef-b5a16ba150ea",
   "metadata": {},
   "outputs": [],
   "source": [
    "myString=\"40\""
   ]
  },
  {
   "cell_type": "code",
   "execution_count": 67,
   "id": "389c5c0a-816b-46b7-ae65-01f7a59cf8c9",
   "metadata": {},
   "outputs": [
    {
     "data": {
      "text/plain": [
       "40"
      ]
     },
     "execution_count": 67,
     "metadata": {},
     "output_type": "execute_result"
    }
   ],
   "source": [
    "int(myString)"
   ]
  },
  {
   "cell_type": "code",
   "execution_count": 68,
   "id": "ef80ce09-5d75-41fd-b2ab-ed3c02e2d635",
   "metadata": {},
   "outputs": [
    {
     "data": {
      "text/plain": [
       "40.0"
      ]
     },
     "execution_count": 68,
     "metadata": {},
     "output_type": "execute_result"
    }
   ],
   "source": [
    "float(myString)"
   ]
  },
  {
   "cell_type": "code",
   "execution_count": 69,
   "id": "c6e14f4c-fbc0-4325-8e5a-2fd0a8908597",
   "metadata": {},
   "outputs": [],
   "source": [
    "myString=\"python\""
   ]
  },
  {
   "cell_type": "code",
   "execution_count": 71,
   "id": "29ffe55d-5d59-4921-8527-647d7e2fd8df",
   "metadata": {},
   "outputs": [],
   "source": [
    "#int(myString)"
   ]
  },
  {
   "cell_type": "code",
   "execution_count": 73,
   "id": "b86b0ca1-1042-4d0b-88d5-71ec6c13a9f4",
   "metadata": {},
   "outputs": [],
   "source": [
    "#float(myString)"
   ]
  },
  {
   "cell_type": "code",
   "execution_count": 74,
   "id": "dcb3ab0e-2348-4cce-94d3-7f3ad71e66c5",
   "metadata": {},
   "outputs": [
    {
     "data": {
      "text/plain": [
       "['10', '20', '30']"
      ]
     },
     "execution_count": 74,
     "metadata": {},
     "output_type": "execute_result"
    }
   ],
   "source": [
    "inputList"
   ]
  },
  {
   "cell_type": "code",
   "execution_count": 75,
   "id": "3c402f1d-2760-446a-8be5-207a244197f3",
   "metadata": {},
   "outputs": [
    {
     "data": {
      "text/plain": [
       "40"
      ]
     },
     "execution_count": 75,
     "metadata": {},
     "output_type": "execute_result"
    }
   ],
   "source": [
    "int(inputList[1])*2"
   ]
  },
  {
   "cell_type": "code",
   "execution_count": 76,
   "id": "ece17818-1bb0-4c56-b506-770def649c4e",
   "metadata": {},
   "outputs": [
    {
     "data": {
      "text/plain": [
       "['10', '20', '30']"
      ]
     },
     "execution_count": 76,
     "metadata": {},
     "output_type": "execute_result"
    }
   ],
   "source": [
    "inputList"
   ]
  },
  {
   "cell_type": "code",
   "execution_count": 77,
   "id": "28e60f79-3690-4eb7-b6b3-5207c8f762b2",
   "metadata": {},
   "outputs": [
    {
     "data": {
      "text/plain": [
       "\"['10', '20', '30']\""
      ]
     },
     "execution_count": 77,
     "metadata": {},
     "output_type": "execute_result"
    }
   ],
   "source": [
    "str(inputList)"
   ]
  },
  {
   "cell_type": "code",
   "execution_count": 78,
   "id": "712fd816-d738-4d05-a628-9c5fc6b7db2b",
   "metadata": {},
   "outputs": [
    {
     "data": {
      "text/plain": [
       "['10', '20', '30']"
      ]
     },
     "execution_count": 78,
     "metadata": {},
     "output_type": "execute_result"
    }
   ],
   "source": [
    "inputList"
   ]
  },
  {
   "cell_type": "code",
   "execution_count": 80,
   "id": "64e259d0-3c68-45d4-9604-e7421a623e60",
   "metadata": {},
   "outputs": [],
   "source": [
    "nameList=[\"atil\",\"atlas\",\"a\",\"b\"]"
   ]
  },
  {
   "cell_type": "code",
   "execution_count": 81,
   "id": "f0fe2471-9c4a-47bd-9ced-befe54c33f4f",
   "metadata": {},
   "outputs": [
    {
     "data": {
      "text/plain": [
       "list"
      ]
     },
     "execution_count": 81,
     "metadata": {},
     "output_type": "execute_result"
    }
   ],
   "source": [
    "type(nameList)"
   ]
  },
  {
   "cell_type": "code",
   "execution_count": 82,
   "id": "3619b3a5-a726-4a01-bc78-32c6a21bf482",
   "metadata": {},
   "outputs": [],
   "source": [
    "floatList=[3.12,2.5,10.2,100,123]"
   ]
  },
  {
   "cell_type": "code",
   "execution_count": 83,
   "id": "d07f5732-aef2-40fe-8eb5-d37441aef82a",
   "metadata": {},
   "outputs": [
    {
     "data": {
      "text/plain": [
       "list"
      ]
     },
     "execution_count": 83,
     "metadata": {},
     "output_type": "execute_result"
    }
   ],
   "source": [
    "type(floatList)"
   ]
  },
  {
   "cell_type": "code",
   "execution_count": 84,
   "id": "6f4e9047-2010-45f3-b7e1-40562590316e",
   "metadata": {},
   "outputs": [],
   "source": [
    "mixedList=[\"atil\",100,3.14]"
   ]
  },
  {
   "cell_type": "code",
   "execution_count": 85,
   "id": "307985af-b729-497f-b9fb-17f29c372b69",
   "metadata": {},
   "outputs": [
    {
     "data": {
      "text/plain": [
       "list"
      ]
     },
     "execution_count": 85,
     "metadata": {},
     "output_type": "execute_result"
    }
   ],
   "source": [
    "type(mixedList)"
   ]
  },
  {
   "cell_type": "code",
   "execution_count": 86,
   "id": "7324e731-3404-47ce-98a5-88cc15b9807a",
   "metadata": {},
   "outputs": [],
   "source": [
    "list1=[10,20,30]\n",
    "list2=[40,50,60]"
   ]
  },
  {
   "cell_type": "code",
   "execution_count": 87,
   "id": "2707a5c1-e534-4ee0-9d95-940548f6a559",
   "metadata": {},
   "outputs": [
    {
     "data": {
      "text/plain": [
       "[10, 20, 30, 40, 50, 60]"
      ]
     },
     "execution_count": 87,
     "metadata": {},
     "output_type": "execute_result"
    }
   ],
   "source": [
    "list1+list2"
   ]
  },
  {
   "cell_type": "code",
   "execution_count": 88,
   "id": "79dafa6f-2fb4-4d69-a587-6d72f3d085bd",
   "metadata": {},
   "outputs": [
    {
     "data": {
      "text/plain": [
       "[10, 20, 30, 10, 20, 30]"
      ]
     },
     "execution_count": 88,
     "metadata": {},
     "output_type": "execute_result"
    }
   ],
   "source": [
    "list1*2"
   ]
  },
  {
   "cell_type": "code",
   "execution_count": 90,
   "id": "63aea4e2-6292-43fb-a5f8-7a21134feaff",
   "metadata": {},
   "outputs": [],
   "source": [
    "#list1/5\n"
   ]
  },
  {
   "cell_type": "code",
   "execution_count": 91,
   "id": "0293cc59-502e-4417-8c6b-32ef4d6d7c33",
   "metadata": {},
   "outputs": [
    {
     "data": {
      "text/plain": [
       "['atil', 100, 3.14]"
      ]
     },
     "execution_count": 91,
     "metadata": {},
     "output_type": "execute_result"
    }
   ],
   "source": [
    "mixedList"
   ]
  },
  {
   "cell_type": "code",
   "execution_count": 93,
   "id": "9d0229d6-f853-4380-87ff-63da49895397",
   "metadata": {},
   "outputs": [
    {
     "data": {
      "text/plain": [
       "int"
      ]
     },
     "execution_count": 93,
     "metadata": {},
     "output_type": "execute_result"
    }
   ],
   "source": [
    "type(mixedList[1])"
   ]
  },
  {
   "cell_type": "code",
   "execution_count": 94,
   "id": "a573c1e4-3e63-46d4-8627-22712fa02e6f",
   "metadata": {},
   "outputs": [
    {
     "data": {
      "text/plain": [
       "str"
      ]
     },
     "execution_count": 94,
     "metadata": {},
     "output_type": "execute_result"
    }
   ],
   "source": [
    "type(mixedList[0])"
   ]
  },
  {
   "cell_type": "code",
   "execution_count": 95,
   "id": "75ffae5a-cfcb-4c0a-be02-1e997e053eef",
   "metadata": {},
   "outputs": [
    {
     "data": {
      "text/plain": [
       "float"
      ]
     },
     "execution_count": 95,
     "metadata": {},
     "output_type": "execute_result"
    }
   ],
   "source": [
    "type(mixedList[2])"
   ]
  },
  {
   "cell_type": "code",
   "execution_count": 96,
   "id": "dfc38126-87bf-4e1f-90b2-e6b5af103ca1",
   "metadata": {},
   "outputs": [],
   "source": [
    "#nestedList"
   ]
  },
  {
   "cell_type": "code",
   "execution_count": 97,
   "id": "a06e8994-130b-4359-b7a5-56bfe8822cb5",
   "metadata": {},
   "outputs": [],
   "source": [
    "myNestedList=[10,20,3.14,\"atil\",[1,2,3]]"
   ]
  },
  {
   "cell_type": "code",
   "execution_count": 98,
   "id": "9e603feb-556e-4f32-8280-010e7ddcdc8e",
   "metadata": {},
   "outputs": [
    {
     "data": {
      "text/plain": [
       "10"
      ]
     },
     "execution_count": 98,
     "metadata": {},
     "output_type": "execute_result"
    }
   ],
   "source": [
    "myNestedList[0]"
   ]
  },
  {
   "cell_type": "code",
   "execution_count": 99,
   "id": "5ea25ef4-087a-4b87-aff7-c5d0320c7e29",
   "metadata": {},
   "outputs": [
    {
     "data": {
      "text/plain": [
       "20"
      ]
     },
     "execution_count": 99,
     "metadata": {},
     "output_type": "execute_result"
    }
   ],
   "source": [
    "myNestedList[1]"
   ]
  },
  {
   "cell_type": "code",
   "execution_count": 100,
   "id": "293920ac-afc5-4458-98b0-d77fff29726f",
   "metadata": {},
   "outputs": [
    {
     "data": {
      "text/plain": [
       "3.14"
      ]
     },
     "execution_count": 100,
     "metadata": {},
     "output_type": "execute_result"
    }
   ],
   "source": [
    "myNestedList[2]"
   ]
  },
  {
   "cell_type": "code",
   "execution_count": 101,
   "id": "4cacea96-9f6f-4e7c-9fe5-98508c082f23",
   "metadata": {},
   "outputs": [
    {
     "data": {
      "text/plain": [
       "'atil'"
      ]
     },
     "execution_count": 101,
     "metadata": {},
     "output_type": "execute_result"
    }
   ],
   "source": [
    "myNestedList[3]"
   ]
  },
  {
   "cell_type": "code",
   "execution_count": 102,
   "id": "9c03a45b-6410-4f70-bf16-c06b3dc2010b",
   "metadata": {},
   "outputs": [
    {
     "data": {
      "text/plain": [
       "[1, 2, 3]"
      ]
     },
     "execution_count": 102,
     "metadata": {},
     "output_type": "execute_result"
    }
   ],
   "source": [
    "myNestedList[4]"
   ]
  },
  {
   "cell_type": "code",
   "execution_count": 103,
   "id": "fa0ff53e-c174-4807-99dd-73f747b186c1",
   "metadata": {},
   "outputs": [],
   "source": [
    "x=myNestedList[0]"
   ]
  },
  {
   "cell_type": "code",
   "execution_count": 104,
   "id": "8b6a64e3-ed71-44e4-9d88-bcf1b1c28913",
   "metadata": {},
   "outputs": [
    {
     "data": {
      "text/plain": [
       "10"
      ]
     },
     "execution_count": 104,
     "metadata": {},
     "output_type": "execute_result"
    }
   ],
   "source": [
    "x"
   ]
  },
  {
   "cell_type": "code",
   "execution_count": 105,
   "id": "a88a8aaa-05f7-45f8-b367-42d0baae47e6",
   "metadata": {},
   "outputs": [],
   "source": [
    "smallList=myNestedList[4]"
   ]
  },
  {
   "cell_type": "code",
   "execution_count": 106,
   "id": "90bacb2f-e7e3-419d-b56c-f8ced17c90d5",
   "metadata": {},
   "outputs": [
    {
     "data": {
      "text/plain": [
       "[1, 2, 3]"
      ]
     },
     "execution_count": 106,
     "metadata": {},
     "output_type": "execute_result"
    }
   ],
   "source": [
    "smallList"
   ]
  },
  {
   "cell_type": "code",
   "execution_count": 107,
   "id": "ecd88f9c-db4a-46bf-ad8b-7d4a242332cc",
   "metadata": {},
   "outputs": [
    {
     "data": {
      "text/plain": [
       "list"
      ]
     },
     "execution_count": 107,
     "metadata": {},
     "output_type": "execute_result"
    }
   ],
   "source": [
    "type(smallList)"
   ]
  },
  {
   "cell_type": "code",
   "execution_count": 108,
   "id": "438350c0-400c-45c9-a023-df1f439a3848",
   "metadata": {},
   "outputs": [
    {
     "data": {
      "text/plain": [
       "[10, 20, 3.14, 'atil', [1, 2, 3]]"
      ]
     },
     "execution_count": 108,
     "metadata": {},
     "output_type": "execute_result"
    }
   ],
   "source": [
    "myNestedList"
   ]
  },
  {
   "cell_type": "code",
   "execution_count": 113,
   "id": "3b55bf41-fd8c-4fbc-a5a5-021a5244a5f7",
   "metadata": {},
   "outputs": [
    {
     "data": {
      "text/plain": [
       "[1, 2, 3]"
      ]
     },
     "execution_count": 113,
     "metadata": {},
     "output_type": "execute_result"
    }
   ],
   "source": [
    "myNestedList[4]"
   ]
  },
  {
   "cell_type": "code",
   "execution_count": 116,
   "id": "20f704df-3ffa-4276-89e9-5ee4ac5c9c3b",
   "metadata": {},
   "outputs": [
    {
     "data": {
      "text/plain": [
       "3"
      ]
     },
     "execution_count": 116,
     "metadata": {},
     "output_type": "execute_result"
    }
   ],
   "source": [
    "myNestedList[4][2]"
   ]
  },
  {
   "cell_type": "code",
   "execution_count": 117,
   "id": "fa7bfd2f-5b90-444c-83d6-e5f23fe80613",
   "metadata": {},
   "outputs": [],
   "source": [
    "lastList=[\"a\",\"b\",[\"c\",\"d\",\"e\"],\"f\"]"
   ]
  },
  {
   "cell_type": "code",
   "execution_count": 118,
   "id": "6200a18c-e972-4fab-bf91-b74a654b5440",
   "metadata": {},
   "outputs": [
    {
     "data": {
      "text/plain": [
       "4"
      ]
     },
     "execution_count": 118,
     "metadata": {},
     "output_type": "execute_result"
    }
   ],
   "source": [
    "len(lastList)"
   ]
  },
  {
   "cell_type": "code",
   "execution_count": 120,
   "id": "1f0dfff5-c463-41bf-a3d5-ecd528e114c9",
   "metadata": {},
   "outputs": [
    {
     "data": {
      "text/plain": [
       "'d'"
      ]
     },
     "execution_count": 120,
     "metadata": {},
     "output_type": "execute_result"
    }
   ],
   "source": [
    "lastList[2][1]"
   ]
  },
  {
   "cell_type": "code",
   "execution_count": 121,
   "id": "d3db8cde-e102-4fe8-9022-372dc0d7c5a7",
   "metadata": {},
   "outputs": [],
   "source": [
    "firstList=[10,20,30,40,50,60,70]"
   ]
  },
  {
   "cell_type": "code",
   "execution_count": 122,
   "id": "a345670c-bb1f-4d45-accd-0a279cfd18b5",
   "metadata": {},
   "outputs": [
    {
     "data": {
      "text/plain": [
       "[10, 20, 30, 40, 50, 60, 70]"
      ]
     },
     "execution_count": 122,
     "metadata": {},
     "output_type": "execute_result"
    }
   ],
   "source": [
    "firstList[::]"
   ]
  },
  {
   "cell_type": "code",
   "execution_count": 123,
   "id": "86755070-6a8f-46e2-8c04-87adad486816",
   "metadata": {},
   "outputs": [
    {
     "data": {
      "text/plain": [
       "[30, 40, 50, 60, 70]"
      ]
     },
     "execution_count": 123,
     "metadata": {},
     "output_type": "execute_result"
    }
   ],
   "source": [
    "firstList[2::]"
   ]
  },
  {
   "cell_type": "code",
   "execution_count": 124,
   "id": "9b005c8c-a545-4c0e-b373-8f788c4492e2",
   "metadata": {},
   "outputs": [
    {
     "data": {
      "text/plain": [
       "[10, 20, 30, 40, 50]"
      ]
     },
     "execution_count": 124,
     "metadata": {},
     "output_type": "execute_result"
    }
   ],
   "source": [
    "firstList[:5:]"
   ]
  },
  {
   "cell_type": "code",
   "execution_count": 125,
   "id": "81a2dbfe-f055-46ee-9bd8-165b6013c4dc",
   "metadata": {},
   "outputs": [
    {
     "data": {
      "text/plain": [
       "[10, 30, 50, 70]"
      ]
     },
     "execution_count": 125,
     "metadata": {},
     "output_type": "execute_result"
    }
   ],
   "source": [
    "firstList[::2]"
   ]
  },
  {
   "cell_type": "code",
   "execution_count": 126,
   "id": "1b3fc7ea-f972-4688-b47b-01a10e78fd0e",
   "metadata": {},
   "outputs": [
    {
     "data": {
      "text/plain": [
       "[20, 40, 60]"
      ]
     },
     "execution_count": 126,
     "metadata": {},
     "output_type": "execute_result"
    }
   ],
   "source": [
    "firstList[1:6:2]"
   ]
  },
  {
   "cell_type": "code",
   "execution_count": null,
   "id": "a5161b0c-a151-4127-8f92-25ff510c415f",
   "metadata": {},
   "outputs": [],
   "source": []
  }
 ],
 "metadata": {
  "kernelspec": {
   "display_name": "Python 3 (ipykernel)",
   "language": "python",
   "name": "python3"
  },
  "language_info": {
   "codemirror_mode": {
    "name": "ipython",
    "version": 3
   },
   "file_extension": ".py",
   "mimetype": "text/x-python",
   "name": "python",
   "nbconvert_exporter": "python",
   "pygments_lexer": "ipython3",
   "version": "3.12.7"
  }
 },
 "nbformat": 4,
 "nbformat_minor": 5
}
