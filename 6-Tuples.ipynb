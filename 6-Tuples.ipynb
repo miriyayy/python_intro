{
 "cells": [
  {
   "cell_type": "code",
   "execution_count": 1,
   "id": "8d845a30-c751-4001-9fc2-88a0691f2172",
   "metadata": {},
   "outputs": [],
   "source": [
    "myList=[10,\"a\",\"b\",3.14]"
   ]
  },
  {
   "cell_type": "code",
   "execution_count": 2,
   "id": "ab1a3d97-5f38-487d-b995-6a75389035a0",
   "metadata": {},
   "outputs": [
    {
     "data": {
      "text/plain": [
       "10"
      ]
     },
     "execution_count": 2,
     "metadata": {},
     "output_type": "execute_result"
    }
   ],
   "source": [
    "myList[0]"
   ]
  },
  {
   "cell_type": "code",
   "execution_count": 3,
   "id": "679e049f-7df0-4b1b-9fec-b7fd35de2fae",
   "metadata": {},
   "outputs": [],
   "source": [
    "myList[0]=100"
   ]
  },
  {
   "cell_type": "code",
   "execution_count": 4,
   "id": "278f4fc5-1c30-4cc2-94a6-089fb30ad5a5",
   "metadata": {},
   "outputs": [
    {
     "data": {
      "text/plain": [
       "[100, 'a', 'b', 3.14]"
      ]
     },
     "execution_count": 4,
     "metadata": {},
     "output_type": "execute_result"
    }
   ],
   "source": [
    "myList"
   ]
  },
  {
   "cell_type": "code",
   "execution_count": 5,
   "id": "4f75f39d-32b4-48ff-b766-46023932fd9c",
   "metadata": {},
   "outputs": [],
   "source": [
    "#tuple"
   ]
  },
  {
   "cell_type": "code",
   "execution_count": 7,
   "id": "60f9520c-6243-44ea-9a59-bba9aa1a63dc",
   "metadata": {},
   "outputs": [],
   "source": [
    "myTuple=(10,\"a\",\"b\",3.14)"
   ]
  },
  {
   "cell_type": "code",
   "execution_count": 8,
   "id": "231a6bf0-d87c-4959-bec5-ed3ff7543099",
   "metadata": {},
   "outputs": [
    {
     "data": {
      "text/plain": [
       "tuple"
      ]
     },
     "execution_count": 8,
     "metadata": {},
     "output_type": "execute_result"
    }
   ],
   "source": [
    "type(myTuple)"
   ]
  },
  {
   "cell_type": "code",
   "execution_count": 9,
   "id": "0ddfe421-22b2-4610-8ef4-968c99139f1e",
   "metadata": {},
   "outputs": [
    {
     "data": {
      "text/plain": [
       "10"
      ]
     },
     "execution_count": 9,
     "metadata": {},
     "output_type": "execute_result"
    }
   ],
   "source": [
    "myTuple[0]"
   ]
  },
  {
   "cell_type": "code",
   "execution_count": 11,
   "id": "7662c0f6-9301-4ff0-bd08-0fb636467a7e",
   "metadata": {},
   "outputs": [],
   "source": [
    "#myTuple[0]=100"
   ]
  },
  {
   "cell_type": "code",
   "execution_count": 12,
   "id": "6361f174-fe2c-4d0a-948d-ffeb67c5d331",
   "metadata": {},
   "outputs": [],
   "source": [
    "#immutability"
   ]
  },
  {
   "cell_type": "code",
   "execution_count": 13,
   "id": "60a52720-7456-4d84-91a0-7b9326d9ac23",
   "metadata": {},
   "outputs": [
    {
     "data": {
      "text/plain": [
       "(10, 'a', 'b', 3.14)"
      ]
     },
     "execution_count": 13,
     "metadata": {},
     "output_type": "execute_result"
    }
   ],
   "source": [
    "myTuple"
   ]
  },
  {
   "cell_type": "code",
   "execution_count": 14,
   "id": "2e6cb08e-769b-425d-92f5-ea4147058ca7",
   "metadata": {},
   "outputs": [
    {
     "data": {
      "text/plain": [
       "1"
      ]
     },
     "execution_count": 14,
     "metadata": {},
     "output_type": "execute_result"
    }
   ],
   "source": [
    "myTuple.index(\"a\")"
   ]
  },
  {
   "cell_type": "code",
   "execution_count": 15,
   "id": "b962d4bf-f5dc-4635-9e14-be52c14d0f3e",
   "metadata": {},
   "outputs": [
    {
     "data": {
      "text/plain": [
       "1"
      ]
     },
     "execution_count": 15,
     "metadata": {},
     "output_type": "execute_result"
    }
   ],
   "source": [
    "myTuple.count(\"a\")"
   ]
  },
  {
   "cell_type": "code",
   "execution_count": 19,
   "id": "dd0b292a-f159-4409-b4a6-8920910b5782",
   "metadata": {},
   "outputs": [],
   "source": [
    "resultTuple=(10,100,20)"
   ]
  },
  {
   "cell_type": "code",
   "execution_count": 21,
   "id": "c9f71e30-57fd-4e62-ae78-f4f518f2613a",
   "metadata": {},
   "outputs": [
    {
     "data": {
      "text/plain": [
       "(10, 100, 20)"
      ]
     },
     "execution_count": 21,
     "metadata": {},
     "output_type": "execute_result"
    }
   ],
   "source": [
    "resultTuple"
   ]
  },
  {
   "cell_type": "code",
   "execution_count": 22,
   "id": "b23ba1ec-e858-4c61-b28b-05071af37ebb",
   "metadata": {},
   "outputs": [],
   "source": [
    "resultList=list(resultTuple)"
   ]
  },
  {
   "cell_type": "code",
   "execution_count": 23,
   "id": "942b6b13-116b-46ff-ac1f-62958fa1c302",
   "metadata": {},
   "outputs": [
    {
     "data": {
      "text/plain": [
       "[10, 100, 20]"
      ]
     },
     "execution_count": 23,
     "metadata": {},
     "output_type": "execute_result"
    }
   ],
   "source": [
    "resultList"
   ]
  },
  {
   "cell_type": "code",
   "execution_count": null,
   "id": "1db3f371-cddc-49b1-b4ec-3515bc3c4712",
   "metadata": {},
   "outputs": [],
   "source": []
  }
 ],
 "metadata": {
  "kernelspec": {
   "display_name": "Python 3 (ipykernel)",
   "language": "python",
   "name": "python3"
  },
  "language_info": {
   "codemirror_mode": {
    "name": "ipython",
    "version": 3
   },
   "file_extension": ".py",
   "mimetype": "text/x-python",
   "name": "python",
   "nbconvert_exporter": "python",
   "pygments_lexer": "ipython3",
   "version": "3.12.7"
  }
 },
 "nbformat": 4,
 "nbformat_minor": 5
}
