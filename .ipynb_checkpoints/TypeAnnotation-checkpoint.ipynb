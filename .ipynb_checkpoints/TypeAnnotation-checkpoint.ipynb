{
 "cells": [
  {
   "cell_type": "code",
   "execution_count": 7,
   "id": "f0215290-0058-46a8-bc02-29049b4dba80",
   "metadata": {},
   "outputs": [],
   "source": [
    "name : str =\"Atıl\"\n",
    "age : int =30\n",
    "is_student: bool= False"
   ]
  },
  {
   "cell_type": "code",
   "execution_count": 12,
   "id": "558550ab-b9db-43b0-b52b-d94aa5cb12bd",
   "metadata": {},
   "outputs": [],
   "source": [
    "def add_numbers(a: int,b: int)->int:\n",
    "    return a+b"
   ]
  },
  {
   "cell_type": "code",
   "execution_count": 13,
   "id": "87024f0b-169f-44ff-8b02-f54382ab2c76",
   "metadata": {},
   "outputs": [
    {
     "data": {
      "text/plain": [
       "9"
      ]
     },
     "execution_count": 13,
     "metadata": {},
     "output_type": "execute_result"
    }
   ],
   "source": [
    "add_numbers(4,5)"
   ]
  },
  {
   "cell_type": "code",
   "execution_count": 21,
   "id": "5288b3ce-5cbb-4e2b-bac4-7be1df13f2a8",
   "metadata": {},
   "outputs": [],
   "source": [
    "#python 3.10\n",
    "def process_value(value: int | str )-> str :\n",
    "    if isinstance(value,int):\n",
    "        return f\"processed integer: {value}\"\n",
    "    else:\n",
    "        return f\"processed string: {value}\""
   ]
  },
  {
   "cell_type": "code",
   "execution_count": 22,
   "id": "53399880-0011-4462-8642-5cbd296a15c1",
   "metadata": {},
   "outputs": [
    {
     "data": {
      "text/plain": [
       "'processed integer: 50'"
      ]
     },
     "execution_count": 22,
     "metadata": {},
     "output_type": "execute_result"
    }
   ],
   "source": [
    "process_value(50)"
   ]
  },
  {
   "cell_type": "code",
   "execution_count": 23,
   "id": "92dede56-bdde-4ac7-a3d2-95c0ca78ed13",
   "metadata": {},
   "outputs": [
    {
     "data": {
      "text/plain": [
       "'processed string: jbhbj'"
      ]
     },
     "execution_count": 23,
     "metadata": {},
     "output_type": "execute_result"
    }
   ],
   "source": [
    "process_value(\"jbhbj\")"
   ]
  },
  {
   "cell_type": "code",
   "execution_count": 24,
   "id": "6fa1e756-4ccb-4f5d-8697-8918700c93db",
   "metadata": {},
   "outputs": [
    {
     "data": {
      "text/plain": [
       "'processed string: [10, 20, 30]'"
      ]
     },
     "execution_count": 24,
     "metadata": {},
     "output_type": "execute_result"
    }
   ],
   "source": [
    "process_value([10,20,30])"
   ]
  },
  {
   "cell_type": "code",
   "execution_count": 26,
   "id": "8fbc36d9-d924-41e0-b553-244043f5ec46",
   "metadata": {},
   "outputs": [],
   "source": [
    "#python 3.9\n",
    "from typing import List\n",
    "\n",
    "def sum_list(numbers: List [int])-> int:\n",
    "    return sum(numbers)"
   ]
  },
  {
   "cell_type": "code",
   "execution_count": 29,
   "id": "8297f332-7aa1-470c-978d-4f44fada2e2d",
   "metadata": {},
   "outputs": [],
   "source": [
    "numbers=[1,2,3,4]\n",
    "total= sum_list(numbers)"
   ]
  },
  {
   "cell_type": "code",
   "execution_count": 30,
   "id": "55d52bbb-b303-408c-9f8c-6b4f814c18ae",
   "metadata": {},
   "outputs": [
    {
     "data": {
      "text/plain": [
       "10"
      ]
     },
     "execution_count": 30,
     "metadata": {},
     "output_type": "execute_result"
    }
   ],
   "source": [
    "total"
   ]
  },
  {
   "cell_type": "code",
   "execution_count": null,
   "id": "3cc31e0e-4647-4c15-81c6-738112c780b5",
   "metadata": {},
   "outputs": [],
   "source": []
  }
 ],
 "metadata": {
  "kernelspec": {
   "display_name": "Python 3 (ipykernel)",
   "language": "python",
   "name": "python3"
  },
  "language_info": {
   "codemirror_mode": {
    "name": "ipython",
    "version": 3
   },
   "file_extension": ".py",
   "mimetype": "text/x-python",
   "name": "python",
   "nbconvert_exporter": "python",
   "pygments_lexer": "ipython3",
   "version": "3.12.7"
  }
 },
 "nbformat": 4,
 "nbformat_minor": 5
}
