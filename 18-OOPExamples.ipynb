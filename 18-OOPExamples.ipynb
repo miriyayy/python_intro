{
 "cells": [
  {
   "cell_type": "markdown",
   "id": "84bbadce-664a-4f4c-b963-32048c836623",
   "metadata": {},
   "source": [
    "INHERITANCE"
   ]
  },
  {
   "cell_type": "code",
   "execution_count": 2,
   "id": "9de0859a-1450-41f8-afee-8f7a81ac4cde",
   "metadata": {},
   "outputs": [],
   "source": [
    "class Musician():\n",
    "    def __init__(self,name):\n",
    "        self.name=name\n",
    "        print(\"musician class\")\n",
    "\n",
    "    def test1(self):\n",
    "        print(\"test1\")\n",
    "\n",
    "    def test2(self):\n",
    "        print(\"test2\")"
   ]
  },
  {
   "cell_type": "code",
   "execution_count": 3,
   "id": "eb4dce23-ac61-4504-b7fb-5a956ffeaa71",
   "metadata": {},
   "outputs": [
    {
     "name": "stdout",
     "output_type": "stream",
     "text": [
      "musician class\n"
     ]
    }
   ],
   "source": [
    "atil=Musician(\"atil\")"
   ]
  },
  {
   "cell_type": "code",
   "execution_count": 5,
   "id": "e436e335-e756-447e-b35d-a8abbd5335d6",
   "metadata": {},
   "outputs": [
    {
     "name": "stdout",
     "output_type": "stream",
     "text": [
      "test1\n"
     ]
    }
   ],
   "source": [
    "atil.test1()"
   ]
  },
  {
   "cell_type": "code",
   "execution_count": 6,
   "id": "2b42157b-bd20-4660-ae80-8efd098eaa0d",
   "metadata": {},
   "outputs": [
    {
     "name": "stdout",
     "output_type": "stream",
     "text": [
      "test2\n"
     ]
    }
   ],
   "source": [
    "atil.test2()"
   ]
  },
  {
   "cell_type": "code",
   "execution_count": 34,
   "id": "065f2025-7377-4cba-bff5-78c9aad45d04",
   "metadata": {},
   "outputs": [],
   "source": [
    "class MusicianPlus(Musician):\n",
    "\n",
    "    def __init__(self,name):\n",
    "        Musician.__init__(self,name)\n",
    "        print(\"musician plus\")\n",
    "        \n",
    "    def test3(self):\n",
    "         print(\"test3\")\n",
    "\n",
    "    def test1(self):\n",
    "        print(\"test1 test1 test1\")"
   ]
  },
  {
   "cell_type": "code",
   "execution_count": 35,
   "id": "43a19920-3a32-4b5a-b777-13f791233541",
   "metadata": {},
   "outputs": [
    {
     "name": "stdout",
     "output_type": "stream",
     "text": [
      "musician class\n",
      "musician plus\n"
     ]
    }
   ],
   "source": [
    "atlas=MusicianPlus(\"atlas\")"
   ]
  },
  {
   "cell_type": "code",
   "execution_count": 36,
   "id": "334d80ca-733e-40b2-aeef-7eeaf7ffd3e6",
   "metadata": {},
   "outputs": [
    {
     "name": "stdout",
     "output_type": "stream",
     "text": [
      "test1 test1 test1\n"
     ]
    }
   ],
   "source": [
    "atlas.test1()"
   ]
  },
  {
   "cell_type": "code",
   "execution_count": 37,
   "id": "abb887fe-22bc-4bbd-862e-191a3065dce0",
   "metadata": {},
   "outputs": [
    {
     "name": "stdout",
     "output_type": "stream",
     "text": [
      "test2\n"
     ]
    }
   ],
   "source": [
    "atlas.test2()"
   ]
  },
  {
   "cell_type": "code",
   "execution_count": 38,
   "id": "32bac48e-f33d-47e8-afbd-e32a4272ae37",
   "metadata": {},
   "outputs": [],
   "source": [
    "atlas.name=\"atlas samancioglu\""
   ]
  },
  {
   "cell_type": "code",
   "execution_count": 39,
   "id": "b0f7ae0c-c47f-46d8-a06c-8ce681b3059c",
   "metadata": {},
   "outputs": [
    {
     "data": {
      "text/plain": [
       "__main__.MusicianPlus"
      ]
     },
     "execution_count": 39,
     "metadata": {},
     "output_type": "execute_result"
    }
   ],
   "source": [
    "type(atlas)"
   ]
  },
  {
   "cell_type": "code",
   "execution_count": 40,
   "id": "e3ec2c1f-052d-46e2-b1a6-891fc78b6fc0",
   "metadata": {},
   "outputs": [
    {
     "name": "stdout",
     "output_type": "stream",
     "text": [
      "test3\n"
     ]
    }
   ],
   "source": [
    "atlas.test3()"
   ]
  },
  {
   "cell_type": "code",
   "execution_count": 41,
   "id": "8abb98b1-217c-4851-a71e-a1ab798e55c1",
   "metadata": {},
   "outputs": [
    {
     "data": {
      "text/plain": [
       "__main__.Musician"
      ]
     },
     "execution_count": 41,
     "metadata": {},
     "output_type": "execute_result"
    }
   ],
   "source": [
    "type(atil)"
   ]
  },
  {
   "cell_type": "code",
   "execution_count": 42,
   "id": "0f12c731-8feb-4639-9055-ed4e13a32dc3",
   "metadata": {},
   "outputs": [
    {
     "name": "stdout",
     "output_type": "stream",
     "text": [
      "test1\n"
     ]
    }
   ],
   "source": [
    "atil.test1()"
   ]
  },
  {
   "cell_type": "code",
   "execution_count": 43,
   "id": "83a5ebf4-e1df-427c-af77-bbc77d7e7652",
   "metadata": {},
   "outputs": [
    {
     "name": "stdout",
     "output_type": "stream",
     "text": [
      "test1 test1 test1\n"
     ]
    }
   ],
   "source": [
    "atlas.test1()"
   ]
  },
  {
   "cell_type": "markdown",
   "id": "b8f97029-ce84-49bb-92d7-c75a82f366ca",
   "metadata": {},
   "source": [
    "POLYMORPHİSM"
   ]
  },
  {
   "cell_type": "code",
   "execution_count": 56,
   "id": "2a9ebd75-be62-47ae-b397-9435f1e71677",
   "metadata": {},
   "outputs": [],
   "source": [
    "class Banana():\n",
    "\n",
    "    def __init__(self,name):\n",
    "        self.name=name\n",
    "\n",
    "    def info(self):\n",
    "        return f\"100 calories {self.name}\"\n",
    "\n",
    "class Apple():\n",
    "\n",
    "    def __init__(self,name):\n",
    "        self.name=name\n",
    "\n",
    "    def info(self):\n",
    "        return f\"150 calories {self.name}\"\n"
   ]
  },
  {
   "cell_type": "code",
   "execution_count": 57,
   "id": "f4fc1b49-2d56-4616-b143-daa19e8c2db5",
   "metadata": {},
   "outputs": [],
   "source": [
    "banana=Banana(\"banana\")"
   ]
  },
  {
   "cell_type": "code",
   "execution_count": 58,
   "id": "09be1784-32d8-4327-b1a1-bedcf6828726",
   "metadata": {},
   "outputs": [],
   "source": [
    "apple=Apple(\"apple\")"
   ]
  },
  {
   "cell_type": "code",
   "execution_count": 59,
   "id": "3625ffcd-15dc-4750-84bb-8753a9e04f28",
   "metadata": {},
   "outputs": [
    {
     "data": {
      "text/plain": [
       "'100 calories banana'"
      ]
     },
     "execution_count": 59,
     "metadata": {},
     "output_type": "execute_result"
    }
   ],
   "source": [
    "banana.info()"
   ]
  },
  {
   "cell_type": "code",
   "execution_count": 60,
   "id": "118edc5f-77dd-41e9-94f3-cb596466a910",
   "metadata": {},
   "outputs": [
    {
     "data": {
      "text/plain": [
       "'150 calories apple'"
      ]
     },
     "execution_count": 60,
     "metadata": {},
     "output_type": "execute_result"
    }
   ],
   "source": [
    "apple.info()"
   ]
  },
  {
   "cell_type": "code",
   "execution_count": 61,
   "id": "86c14b5d-630f-4d0f-8e35-0bc0e8a4d8d7",
   "metadata": {},
   "outputs": [],
   "source": [
    "fruitList=[banana,apple]"
   ]
  },
  {
   "cell_type": "code",
   "execution_count": 63,
   "id": "7c3961ae-7dc5-4c8e-b3d8-0c5935c14229",
   "metadata": {},
   "outputs": [
    {
     "name": "stdout",
     "output_type": "stream",
     "text": [
      "100 calories banana\n",
      "150 calories apple\n"
     ]
    }
   ],
   "source": [
    "for fruit in fruitList:\n",
    "    print(fruit.info())"
   ]
  },
  {
   "cell_type": "markdown",
   "id": "8418b7ac-dce0-418f-9eec-6659fb0e9a32",
   "metadata": {},
   "source": [
    "ENCAPSULATION"
   ]
  },
  {
   "cell_type": "code",
   "execution_count": 84,
   "id": "37ba6ad7-e182-48cd-8f07-5e304bd92891",
   "metadata": {},
   "outputs": [],
   "source": [
    "class Phone():\n",
    "\n",
    "    def __init__(self,name,price):\n",
    "        self.name=name\n",
    "        self.__price=price\n",
    "\n",
    "    def info(self):\n",
    "        print(f\"{self.name} price is: {self.__price}\")\n",
    "\n",
    "    def changePrice(self,price):\n",
    "        self.__price=price"
   ]
  },
  {
   "cell_type": "code",
   "execution_count": 85,
   "id": "2dccf5ef-2ee9-419e-b6d0-95228dca667c",
   "metadata": {},
   "outputs": [],
   "source": [
    "iphone=Phone(\"iphone 14\", 500)"
   ]
  },
  {
   "cell_type": "code",
   "execution_count": 86,
   "id": "dd4b7cff-6dfd-4d87-b5a9-2cdd631e9258",
   "metadata": {},
   "outputs": [
    {
     "name": "stdout",
     "output_type": "stream",
     "text": [
      "iphone 14 price is: 500\n"
     ]
    }
   ],
   "source": [
    "iphone.info()"
   ]
  },
  {
   "cell_type": "code",
   "execution_count": 87,
   "id": "000f8a8a-4187-4906-9727-4ef50cb3670d",
   "metadata": {},
   "outputs": [],
   "source": [
    "iphone.__price=400"
   ]
  },
  {
   "cell_type": "code",
   "execution_count": 88,
   "id": "524cdcd3-a2f7-468f-8695-c6b8e93d84f3",
   "metadata": {},
   "outputs": [
    {
     "name": "stdout",
     "output_type": "stream",
     "text": [
      "iphone 14 price is: 500\n"
     ]
    }
   ],
   "source": [
    "iphone.info()"
   ]
  },
  {
   "cell_type": "code",
   "execution_count": 89,
   "id": "601edb7b-5f93-4e30-8191-c017855c938e",
   "metadata": {},
   "outputs": [],
   "source": [
    "iphone.changePrice(300)"
   ]
  },
  {
   "cell_type": "code",
   "execution_count": 90,
   "id": "3fd4e7ad-7f1f-42db-9f13-1e32bcc7c93a",
   "metadata": {},
   "outputs": [
    {
     "name": "stdout",
     "output_type": "stream",
     "text": [
      "iphone 14 price is: 300\n"
     ]
    }
   ],
   "source": [
    "iphone.info()"
   ]
  },
  {
   "cell_type": "markdown",
   "id": "4aff6281-c8b6-45ff-888d-a6f0d51f70c6",
   "metadata": {},
   "source": [
    "ABSTRACTION"
   ]
  },
  {
   "cell_type": "code",
   "execution_count": 91,
   "id": "b5bd5c11-b7c3-4d5b-b389-52d61e790200",
   "metadata": {},
   "outputs": [],
   "source": [
    "from abc import ABC, abstractmethod"
   ]
  },
  {
   "cell_type": "code",
   "execution_count": 101,
   "id": "8cae7439-3342-47e8-8f81-9c549eb32311",
   "metadata": {},
   "outputs": [],
   "source": [
    "class Car(ABC):\n",
    "\n",
    "   @abstractmethod\n",
    "   def maxSpeed(self):\n",
    "       pass"
   ]
  },
  {
   "cell_type": "code",
   "execution_count": 102,
   "id": "58c10356-66c7-4542-abcd-66d98b3ed2b4",
   "metadata": {},
   "outputs": [],
   "source": [
    "#myCar=Car()"
   ]
  },
  {
   "cell_type": "code",
   "execution_count": 103,
   "id": "c5005e57-0285-4e98-a67a-933966602831",
   "metadata": {},
   "outputs": [],
   "source": [
    "class Tesla(Car):\n",
    "\n",
    "    def maxSpeed(self):\n",
    "        print(\"200km\")"
   ]
  },
  {
   "cell_type": "code",
   "execution_count": 104,
   "id": "bb54b3bf-39a2-4e18-90a3-e5ecfa92a748",
   "metadata": {},
   "outputs": [],
   "source": [
    "tesla=Tesla()"
   ]
  },
  {
   "cell_type": "code",
   "execution_count": 105,
   "id": "f369f6e0-c0e6-4bcb-878b-d01b41002444",
   "metadata": {},
   "outputs": [
    {
     "name": "stdout",
     "output_type": "stream",
     "text": [
      "200km\n"
     ]
    }
   ],
   "source": [
    "tesla.maxSpeed()"
   ]
  },
  {
   "cell_type": "code",
   "execution_count": 111,
   "id": "b094f286-ef1e-4fd7-af5a-2c1b8bde6542",
   "metadata": {},
   "outputs": [],
   "source": [
    "class Mercedes(Car):\n",
    "\n",
    "    def maxSpeed(self):\n",
    "        print(\"250km\")"
   ]
  },
  {
   "cell_type": "code",
   "execution_count": 112,
   "id": "c83e6ef2-a989-43af-88a3-d9225f1de851",
   "metadata": {},
   "outputs": [],
   "source": [
    "mercedes=Mercedes()"
   ]
  },
  {
   "cell_type": "code",
   "execution_count": 113,
   "id": "20a81b8f-b296-49af-9ce7-8f68176acad4",
   "metadata": {},
   "outputs": [
    {
     "name": "stdout",
     "output_type": "stream",
     "text": [
      "250km\n"
     ]
    }
   ],
   "source": [
    "mercedes.maxSpeed()"
   ]
  },
  {
   "cell_type": "code",
   "execution_count": 131,
   "id": "e098aaa7-330a-475d-8abc-f44fb5292e18",
   "metadata": {},
   "outputs": [],
   "source": [
    "class Fruit():\n",
    "\n",
    "    def __init__(self,name,calories):\n",
    "        self.name=name\n",
    "        self.calories=calories\n",
    "\n",
    "    def __str__(self):\n",
    "        return f\"{self.name}: {self.calories} calories\"\n",
    "\n",
    "    def __len__(self):\n",
    "        return self.calories"
   ]
  },
  {
   "cell_type": "code",
   "execution_count": 132,
   "id": "65d758fa-e64e-497f-b671-69f7c536f5f9",
   "metadata": {},
   "outputs": [],
   "source": [
    "myFruit=Fruit(\"Banana\",150)"
   ]
  },
  {
   "cell_type": "code",
   "execution_count": 133,
   "id": "026cac87-493f-4da1-9ae6-22c69cbb3e4d",
   "metadata": {},
   "outputs": [
    {
     "data": {
      "text/plain": [
       "150"
      ]
     },
     "execution_count": 133,
     "metadata": {},
     "output_type": "execute_result"
    }
   ],
   "source": [
    "myFruit.calories"
   ]
  },
  {
   "cell_type": "code",
   "execution_count": 134,
   "id": "ab0aca16-2ae0-4280-8496-45829bdd0d11",
   "metadata": {},
   "outputs": [
    {
     "data": {
      "text/plain": [
       "'Banana'"
      ]
     },
     "execution_count": 134,
     "metadata": {},
     "output_type": "execute_result"
    }
   ],
   "source": [
    "myFruit.name"
   ]
  },
  {
   "cell_type": "code",
   "execution_count": 135,
   "id": "31538053-8fd1-4838-bab1-f3827fe51f1c",
   "metadata": {},
   "outputs": [
    {
     "name": "stdout",
     "output_type": "stream",
     "text": [
      "Banana: 150 calories\n"
     ]
    }
   ],
   "source": [
    "print(myFruit)"
   ]
  },
  {
   "cell_type": "code",
   "execution_count": 136,
   "id": "5cc79af0-ca05-4155-bc7b-e95207269aa9",
   "metadata": {},
   "outputs": [],
   "source": [
    "myList=[10,20,30]"
   ]
  },
  {
   "cell_type": "code",
   "execution_count": 137,
   "id": "8d692b98-af4e-493f-889b-834b3c9dafa6",
   "metadata": {},
   "outputs": [
    {
     "data": {
      "text/plain": [
       "3"
      ]
     },
     "execution_count": 137,
     "metadata": {},
     "output_type": "execute_result"
    }
   ],
   "source": [
    "len(myList)"
   ]
  },
  {
   "cell_type": "code",
   "execution_count": 138,
   "id": "079ce0e6-e6e2-4d0c-a934-8c50a18c8af3",
   "metadata": {},
   "outputs": [
    {
     "data": {
      "text/plain": [
       "150"
      ]
     },
     "execution_count": 138,
     "metadata": {},
     "output_type": "execute_result"
    }
   ],
   "source": [
    "len(myFruit)"
   ]
  },
  {
   "cell_type": "code",
   "execution_count": 145,
   "id": "63a46a35-04f2-4f2a-99ac-f6272661d25b",
   "metadata": {},
   "outputs": [],
   "source": [
    "class Train():\n",
    "\n",
    "    def __init__(self,name):\n",
    "        self.name=name\n",
    "\n",
    "    def __getitem__(self,key):\n",
    "        if key==\"a\":\n",
    "          return self.name\n",
    "        else:\n",
    "          return \"Not Found\""
   ]
  },
  {
   "cell_type": "code",
   "execution_count": 146,
   "id": "97305870-e72b-482a-859d-3b0ee505dce8",
   "metadata": {},
   "outputs": [],
   "source": [
    "myTrain=Train(\"myTrain\")"
   ]
  },
  {
   "cell_type": "code",
   "execution_count": 147,
   "id": "312a7b50-12b0-4a39-a9fb-ec899e585074",
   "metadata": {},
   "outputs": [
    {
     "data": {
      "text/plain": [
       "'myTrain'"
      ]
     },
     "execution_count": 147,
     "metadata": {},
     "output_type": "execute_result"
    }
   ],
   "source": [
    "myTrain[\"a\"]"
   ]
  },
  {
   "cell_type": "code",
   "execution_count": 148,
   "id": "6513e670-5a45-4b7d-9885-3adb68f87fb2",
   "metadata": {},
   "outputs": [
    {
     "data": {
      "text/plain": [
       "'Not Found'"
      ]
     },
     "execution_count": 148,
     "metadata": {},
     "output_type": "execute_result"
    }
   ],
   "source": [
    "myTrain[\"b\"]"
   ]
  },
  {
   "cell_type": "code",
   "execution_count": 150,
   "id": "2ec76276-00a9-4d08-85f5-7712928fe83b",
   "metadata": {},
   "outputs": [],
   "source": [
    "#myFruit[\"a\"]"
   ]
  },
  {
   "cell_type": "code",
   "execution_count": null,
   "id": "c31d7b70-6472-4109-a1b6-8bc9bebecb2f",
   "metadata": {},
   "outputs": [],
   "source": []
  }
 ],
 "metadata": {
  "kernelspec": {
   "display_name": "Python 3 (ipykernel)",
   "language": "python",
   "name": "python3"
  },
  "language_info": {
   "codemirror_mode": {
    "name": "ipython",
    "version": 3
   },
   "file_extension": ".py",
   "mimetype": "text/x-python",
   "name": "python",
   "nbconvert_exporter": "python",
   "pygments_lexer": "ipython3",
   "version": "3.12.7"
  }
 },
 "nbformat": 4,
 "nbformat_minor": 5
}
