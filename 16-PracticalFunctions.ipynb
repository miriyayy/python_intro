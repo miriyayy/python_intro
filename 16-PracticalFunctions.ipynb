{
 "cells": [
  {
   "cell_type": "code",
   "execution_count": 1,
   "id": "87823bf8-b4ce-4cb5-b1a5-b7e828b49203",
   "metadata": {},
   "outputs": [],
   "source": [
    "def divideNumber(number):\n",
    "    return number/2"
   ]
  },
  {
   "cell_type": "code",
   "execution_count": 2,
   "id": "be7b2e60-9346-4b84-a246-8566883b3c10",
   "metadata": {},
   "outputs": [
    {
     "data": {
      "text/plain": [
       "10.0"
      ]
     },
     "execution_count": 2,
     "metadata": {},
     "output_type": "execute_result"
    }
   ],
   "source": [
    "divideNumber(20)"
   ]
  },
  {
   "cell_type": "code",
   "execution_count": 3,
   "id": "4871ae77-b5c5-47c9-a0dd-b20fe0a09c05",
   "metadata": {},
   "outputs": [],
   "source": [
    "myList=[3,5,7,10,20,30]"
   ]
  },
  {
   "cell_type": "code",
   "execution_count": 8,
   "id": "417cc836-a2ba-4384-a05f-cb15e686fa77",
   "metadata": {},
   "outputs": [
    {
     "name": "stdout",
     "output_type": "stream",
     "text": [
      "[1.5, 2.5, 3.5, 5.0, 10.0, 15.0]\n"
     ]
    }
   ],
   "source": [
    "myResultList=[]\n",
    "for x in myList:\n",
    "    myResultList.append(divideNumber(x))\n",
    "print(myResultList)"
   ]
  },
  {
   "cell_type": "code",
   "execution_count": 9,
   "id": "c82e4ba5-63a1-4580-9549-b33d7757a96e",
   "metadata": {},
   "outputs": [
    {
     "data": {
      "text/plain": [
       "[1.5, 2.5, 3.5, 5.0, 10.0, 15.0]"
      ]
     },
     "execution_count": 9,
     "metadata": {},
     "output_type": "execute_result"
    }
   ],
   "source": [
    "myResultList"
   ]
  },
  {
   "cell_type": "markdown",
   "id": "07415631-412c-4133-9854-7f20fb5e29a0",
   "metadata": {},
   "source": [
    "map\n"
   ]
  },
  {
   "cell_type": "code",
   "execution_count": 10,
   "id": "d5b66ccf-e4b8-4ed6-bc59-42736673f521",
   "metadata": {},
   "outputs": [
    {
     "name": "stdout",
     "output_type": "stream",
     "text": [
      "Help on class map in module builtins:\n",
      "\n",
      "class map(object)\n",
      " |  map(func, *iterables) --> map object\n",
      " |\n",
      " |  Make an iterator that computes the function using arguments from\n",
      " |  each of the iterables.  Stops when the shortest iterable is exhausted.\n",
      " |\n",
      " |  Methods defined here:\n",
      " |\n",
      " |  __getattribute__(self, name, /)\n",
      " |      Return getattr(self, name).\n",
      " |\n",
      " |  __iter__(self, /)\n",
      " |      Implement iter(self).\n",
      " |\n",
      " |  __next__(self, /)\n",
      " |      Implement next(self).\n",
      " |\n",
      " |  __reduce__(...)\n",
      " |      Return state information for pickling.\n",
      " |\n",
      " |  ----------------------------------------------------------------------\n",
      " |  Static methods defined here:\n",
      " |\n",
      " |  __new__(*args, **kwargs)\n",
      " |      Create and return a new object.  See help(type) for accurate signature.\n",
      "\n"
     ]
    }
   ],
   "source": [
    "help(map)"
   ]
  },
  {
   "cell_type": "code",
   "execution_count": 12,
   "id": "312d2334-46d9-4185-8bf2-81a1517d645e",
   "metadata": {},
   "outputs": [
    {
     "data": {
      "text/plain": [
       "[1.5, 2.5, 3.5, 5.0, 10.0, 15.0]"
      ]
     },
     "execution_count": 12,
     "metadata": {},
     "output_type": "execute_result"
    }
   ],
   "source": [
    "list(map(divideNumber,myList))"
   ]
  },
  {
   "cell_type": "code",
   "execution_count": 13,
   "id": "afc540cb-d62f-4917-9657-7317b865dbe0",
   "metadata": {},
   "outputs": [],
   "source": [
    "def controlString(string):\n",
    "    return \"Atil\" in string"
   ]
  },
  {
   "cell_type": "code",
   "execution_count": 16,
   "id": "57d60bff-1c2f-42c4-8cc8-d98045980574",
   "metadata": {},
   "outputs": [
    {
     "data": {
      "text/plain": [
       "False"
      ]
     },
     "execution_count": 16,
     "metadata": {},
     "output_type": "execute_result"
    }
   ],
   "source": [
    "controlString(\"Samancioglu\")"
   ]
  },
  {
   "cell_type": "code",
   "execution_count": 22,
   "id": "b97dd525-8270-4fa2-8e30-32003936f780",
   "metadata": {},
   "outputs": [],
   "source": [
    "myStringList=[\"Atil\",\"Atil Samancioglu\",\"Samancioglu\",\"Atlas\"]"
   ]
  },
  {
   "cell_type": "code",
   "execution_count": 23,
   "id": "d862f4a5-2c74-4b04-b285-5b95f4594234",
   "metadata": {},
   "outputs": [
    {
     "data": {
      "text/plain": [
       "[True, True, False, False]"
      ]
     },
     "execution_count": 23,
     "metadata": {},
     "output_type": "execute_result"
    }
   ],
   "source": [
    "list(map(controlString,myStringList))"
   ]
  },
  {
   "cell_type": "markdown",
   "id": "100747f6-7062-467d-ba60-5f20a4edac48",
   "metadata": {},
   "source": [
    "FİLTER"
   ]
  },
  {
   "cell_type": "code",
   "execution_count": 24,
   "id": "6e4129ea-4f22-4c22-b1fe-d47da5f150c7",
   "metadata": {},
   "outputs": [
    {
     "data": {
      "text/plain": [
       "['Atil', 'Atil Samancioglu']"
      ]
     },
     "execution_count": 24,
     "metadata": {},
     "output_type": "execute_result"
    }
   ],
   "source": [
    "list(filter(controlString,myStringList))"
   ]
  },
  {
   "cell_type": "markdown",
   "id": "b4cead67-5b80-409a-8911-3ab1a8a0f9a3",
   "metadata": {},
   "source": [
    "LAMBDA\n"
   ]
  },
  {
   "cell_type": "code",
   "execution_count": 25,
   "id": "b74752c6-c65d-41b9-871b-63b48902c4c1",
   "metadata": {},
   "outputs": [],
   "source": [
    "multiplyLambda= lambda num:num*3"
   ]
  },
  {
   "cell_type": "code",
   "execution_count": 26,
   "id": "74c98f59-5bed-46f1-afc0-4e20edc02ccd",
   "metadata": {},
   "outputs": [
    {
     "data": {
      "text/plain": [
       "function"
      ]
     },
     "execution_count": 26,
     "metadata": {},
     "output_type": "execute_result"
    }
   ],
   "source": [
    "type(multiplyLambda)"
   ]
  },
  {
   "cell_type": "code",
   "execution_count": 27,
   "id": "3e514946-8758-47ba-af3c-c9e9ba699cc4",
   "metadata": {},
   "outputs": [
    {
     "data": {
      "text/plain": [
       "60"
      ]
     },
     "execution_count": 27,
     "metadata": {},
     "output_type": "execute_result"
    }
   ],
   "source": [
    "multiplyLambda(20)"
   ]
  },
  {
   "cell_type": "code",
   "execution_count": 28,
   "id": "4dd7067d-416f-413d-915f-fb937d1df757",
   "metadata": {},
   "outputs": [],
   "source": [
    "result= multiplyLambda(10)"
   ]
  },
  {
   "cell_type": "code",
   "execution_count": 29,
   "id": "448dd353-ee67-4956-87f0-6d370151f4ed",
   "metadata": {},
   "outputs": [
    {
     "data": {
      "text/plain": [
       "30"
      ]
     },
     "execution_count": 29,
     "metadata": {},
     "output_type": "execute_result"
    }
   ],
   "source": [
    "result"
   ]
  },
  {
   "cell_type": "code",
   "execution_count": 33,
   "id": "df5e0e54-c97f-461b-bea0-7d989af7e273",
   "metadata": {},
   "outputs": [],
   "source": [
    "def multiply(num):\n",
    "    return num*3"
   ]
  },
  {
   "cell_type": "code",
   "execution_count": 34,
   "id": "bd574212-aa96-4192-8043-0e9202aac6e2",
   "metadata": {},
   "outputs": [
    {
     "data": {
      "text/plain": [
       "30"
      ]
     },
     "execution_count": 34,
     "metadata": {},
     "output_type": "execute_result"
    }
   ],
   "source": [
    "multiply(10)"
   ]
  },
  {
   "cell_type": "code",
   "execution_count": 36,
   "id": "b3333ea8-fcab-4e55-ae9c-8c0a32c32734",
   "metadata": {},
   "outputs": [],
   "source": [
    "numList=[10,20,30,40,50]"
   ]
  },
  {
   "cell_type": "code",
   "execution_count": 37,
   "id": "ccdcd0c2-ea70-4ec4-9193-3c25c825f822",
   "metadata": {},
   "outputs": [
    {
     "data": {
      "text/plain": [
       "[2.5, 5.0, 7.5, 10.0, 12.5]"
      ]
     },
     "execution_count": 37,
     "metadata": {},
     "output_type": "execute_result"
    }
   ],
   "source": [
    "list(map(lambda num: num/4,numList))"
   ]
  },
  {
   "cell_type": "markdown",
   "id": "bf4839a9-7138-4aea-89a1-da47b53f1c03",
   "metadata": {},
   "source": [
    "SCOPE\n"
   ]
  },
  {
   "cell_type": "code",
   "execution_count": 39,
   "id": "7eb5d847-8122-48f9-bb57-e946ca633f20",
   "metadata": {},
   "outputs": [],
   "source": [
    "x=20\n",
    "\n",
    "def multiply(num):\n",
    "    x=5\n",
    "    return num*x"
   ]
  },
  {
   "cell_type": "code",
   "execution_count": 40,
   "id": "55f46615-89b9-4092-b38d-88951afeb3f8",
   "metadata": {},
   "outputs": [
    {
     "data": {
      "text/plain": [
       "50"
      ]
     },
     "execution_count": 40,
     "metadata": {},
     "output_type": "execute_result"
    }
   ],
   "source": [
    "multiply(10)"
   ]
  },
  {
   "cell_type": "code",
   "execution_count": 41,
   "id": "4033bca7-d8ea-4e38-931c-6b1b693b4ca6",
   "metadata": {},
   "outputs": [
    {
     "name": "stdout",
     "output_type": "stream",
     "text": [
      "20\n"
     ]
    }
   ],
   "source": [
    "print(x)"
   ]
  },
  {
   "cell_type": "code",
   "execution_count": 42,
   "id": "2344c912-a433-47cb-834d-894c908829ad",
   "metadata": {},
   "outputs": [],
   "source": [
    "a=10"
   ]
  },
  {
   "cell_type": "code",
   "execution_count": 43,
   "id": "e4f3aa3a-a0d9-48a0-96f4-b356202e04d0",
   "metadata": {},
   "outputs": [
    {
     "data": {
      "text/plain": [
       "10"
      ]
     },
     "execution_count": 43,
     "metadata": {},
     "output_type": "execute_result"
    }
   ],
   "source": [
    "a"
   ]
  },
  {
   "cell_type": "code",
   "execution_count": 44,
   "id": "020c44af-0091-4059-98c9-029a59eba0a3",
   "metadata": {},
   "outputs": [],
   "source": [
    "a=20"
   ]
  },
  {
   "cell_type": "code",
   "execution_count": 45,
   "id": "430d4e08-850c-4247-be2e-be601a528700",
   "metadata": {},
   "outputs": [
    {
     "data": {
      "text/plain": [
       "20"
      ]
     },
     "execution_count": 45,
     "metadata": {},
     "output_type": "execute_result"
    }
   ],
   "source": [
    "a"
   ]
  },
  {
   "cell_type": "code",
   "execution_count": 46,
   "id": "9fb20a13-c96c-4299-9ca4-3c1fc5a932e3",
   "metadata": {},
   "outputs": [],
   "source": [
    "x=20\n",
    "\n",
    "def multiply(num):\n",
    "    x=5\n",
    "    return num*x\n",
    "\n",
    "x=10"
   ]
  },
  {
   "cell_type": "code",
   "execution_count": 47,
   "id": "aff2fb39-7eaf-4200-a3bf-4b92406942ef",
   "metadata": {},
   "outputs": [
    {
     "data": {
      "text/plain": [
       "10"
      ]
     },
     "execution_count": 47,
     "metadata": {},
     "output_type": "execute_result"
    }
   ],
   "source": [
    "x"
   ]
  },
  {
   "cell_type": "code",
   "execution_count": 48,
   "id": "5d581518-f146-4c90-9823-ea199dd9bcd2",
   "metadata": {},
   "outputs": [
    {
     "data": {
      "text/plain": [
       "15"
      ]
     },
     "execution_count": 48,
     "metadata": {},
     "output_type": "execute_result"
    }
   ],
   "source": [
    "multiply(3)"
   ]
  },
  {
   "cell_type": "code",
   "execution_count": 49,
   "id": "ea113726-3fd4-474f-99d8-5ccdbd1ba4bb",
   "metadata": {},
   "outputs": [],
   "source": [
    "x=20\n",
    "\n",
    "def multiply(num):\n",
    "    return num*x"
   ]
  },
  {
   "cell_type": "code",
   "execution_count": 50,
   "id": "5a79a504-90c8-4d00-966e-6cc90f4d62fb",
   "metadata": {},
   "outputs": [
    {
     "data": {
      "text/plain": [
       "200"
      ]
     },
     "execution_count": 50,
     "metadata": {},
     "output_type": "execute_result"
    }
   ],
   "source": [
    "multiply(10)"
   ]
  },
  {
   "cell_type": "markdown",
   "id": "12b3924e-ce41-4835-af0f-6e102084bf9d",
   "metadata": {},
   "source": [
    "#LEGB-> L->LOCAL,E->ENCLOSING,G->GLOBAL,B->BUILT-IN"
   ]
  },
  {
   "cell_type": "code",
   "execution_count": 87,
   "id": "f4786b85-aa69-492f-9df9-d9b86358923a",
   "metadata": {},
   "outputs": [],
   "source": [
    "#global\n",
    "myString=\"Atil\"\n",
    "\n",
    "def myFunction():\n",
    "    #enclosing\n",
    "    myString=\"Atil 2\"\n",
    "    print(myString)\n",
    "    \n",
    "    def myFunction2():\n",
    "        #local\n",
    "        myString= \"Atil 3\"\n",
    "        print(myString)\n",
    "    myFunction2()"
   ]
  },
  {
   "cell_type": "code",
   "execution_count": 88,
   "id": "72a8e828-3b7f-4572-ac83-5fbd3e923967",
   "metadata": {},
   "outputs": [
    {
     "data": {
      "text/plain": [
       "'Atil'"
      ]
     },
     "execution_count": 88,
     "metadata": {},
     "output_type": "execute_result"
    }
   ],
   "source": [
    "myString"
   ]
  },
  {
   "cell_type": "code",
   "execution_count": 89,
   "id": "ae588032-e0c1-46f1-9919-53c3f327a92b",
   "metadata": {},
   "outputs": [
    {
     "name": "stdout",
     "output_type": "stream",
     "text": [
      "Atil 2\n",
      "Atil 3\n"
     ]
    }
   ],
   "source": [
    "myFunction()"
   ]
  },
  {
   "cell_type": "code",
   "execution_count": 90,
   "id": "14840135-825a-4493-a97e-29a7e067f7e2",
   "metadata": {},
   "outputs": [
    {
     "data": {
      "text/plain": [
       "'Atil'"
      ]
     },
     "execution_count": 90,
     "metadata": {},
     "output_type": "execute_result"
    }
   ],
   "source": [
    "myString"
   ]
  },
  {
   "cell_type": "code",
   "execution_count": 107,
   "id": "9202ad49-0073-41f7-a808-d8c4cf776b7f",
   "metadata": {},
   "outputs": [],
   "source": [
    "#myVariable=10\n",
    "def test1():\n",
    "    myX=10\n",
    "    print(myX*2)\n",
    "\n",
    "def test2():\n",
    "    print(myX*3)"
   ]
  },
  {
   "cell_type": "code",
   "execution_count": 108,
   "id": "7795f5d3-745e-4943-b83b-e12b90ec3f07",
   "metadata": {},
   "outputs": [
    {
     "name": "stdout",
     "output_type": "stream",
     "text": [
      "20\n"
     ]
    }
   ],
   "source": [
    "test1()"
   ]
  },
  {
   "cell_type": "code",
   "execution_count": 110,
   "id": "736dff9c-3d1d-4c7c-a663-1e3c92f6334e",
   "metadata": {},
   "outputs": [],
   "source": [
    "#test2()"
   ]
  },
  {
   "cell_type": "code",
   "execution_count": 112,
   "id": "b966fb5e-963c-414e-b296-bedc83648365",
   "metadata": {},
   "outputs": [],
   "source": [
    "y=10\n",
    "def newFunction(y):\n",
    "    print(y)\n",
    "    y=5\n",
    "    print(y)\n",
    "    return y"
   ]
  },
  {
   "cell_type": "code",
   "execution_count": 113,
   "id": "11e42aa9-c625-441b-a6e7-e00907b2cf96",
   "metadata": {},
   "outputs": [
    {
     "name": "stdout",
     "output_type": "stream",
     "text": [
      "10\n",
      "5\n"
     ]
    },
    {
     "data": {
      "text/plain": [
       "5"
      ]
     },
     "execution_count": 113,
     "metadata": {},
     "output_type": "execute_result"
    }
   ],
   "source": [
    "newFunction(10)"
   ]
  },
  {
   "cell_type": "code",
   "execution_count": 114,
   "id": "f583fc25-c3ba-4328-b94b-62c403aeff47",
   "metadata": {},
   "outputs": [
    {
     "data": {
      "text/plain": [
       "10"
      ]
     },
     "execution_count": 114,
     "metadata": {},
     "output_type": "execute_result"
    }
   ],
   "source": [
    "y"
   ]
  },
  {
   "cell_type": "code",
   "execution_count": 115,
   "id": "36bce775-db3a-4c9f-b72e-44a619d802ff",
   "metadata": {},
   "outputs": [],
   "source": [
    "y=10\n",
    "def changeY():\n",
    "    global y\n",
    "    y=5\n",
    "    print(y)"
   ]
  },
  {
   "cell_type": "code",
   "execution_count": 116,
   "id": "8bfa99e0-b175-403f-b844-63a9a7e7c8ae",
   "metadata": {},
   "outputs": [
    {
     "name": "stdout",
     "output_type": "stream",
     "text": [
      "5\n"
     ]
    }
   ],
   "source": [
    "changeY()"
   ]
  },
  {
   "cell_type": "code",
   "execution_count": 117,
   "id": "8d7c64c8-47f0-4a15-913e-3f0128f52882",
   "metadata": {},
   "outputs": [
    {
     "data": {
      "text/plain": [
       "5"
      ]
     },
     "execution_count": 117,
     "metadata": {},
     "output_type": "execute_result"
    }
   ],
   "source": [
    "y"
   ]
  },
  {
   "cell_type": "code",
   "execution_count": null,
   "id": "1a29d6ff-0bcd-462f-81a1-164f2efe70d2",
   "metadata": {},
   "outputs": [],
   "source": []
  }
 ],
 "metadata": {
  "kernelspec": {
   "display_name": "Python 3 (ipykernel)",
   "language": "python",
   "name": "python3"
  },
  "language_info": {
   "codemirror_mode": {
    "name": "ipython",
    "version": 3
   },
   "file_extension": ".py",
   "mimetype": "text/x-python",
   "name": "python",
   "nbconvert_exporter": "python",
   "pygments_lexer": "ipython3",
   "version": "3.12.7"
  }
 },
 "nbformat": 4,
 "nbformat_minor": 5
}
