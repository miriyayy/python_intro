{
 "cells": [
  {
   "cell_type": "code",
   "execution_count": 1,
   "id": "17da512e-a6e4-48ad-a38c-5e46b4d68af7",
   "metadata": {},
   "outputs": [
    {
     "data": {
      "text/plain": [
       "5"
      ]
     },
     "execution_count": 1,
     "metadata": {},
     "output_type": "execute_result"
    }
   ],
   "source": [
    "3+2"
   ]
  },
  {
   "cell_type": "code",
   "execution_count": 2,
   "id": "11e881df-f678-486d-a236-ae797a52bcc9",
   "metadata": {},
   "outputs": [
    {
     "data": {
      "text/plain": [
       "8"
      ]
     },
     "execution_count": 2,
     "metadata": {},
     "output_type": "execute_result"
    }
   ],
   "source": [
    "3+5"
   ]
  },
  {
   "cell_type": "code",
   "execution_count": 3,
   "id": "875c00aa-da6b-4f0e-a49f-156c2348ca30",
   "metadata": {},
   "outputs": [
    {
     "data": {
      "text/plain": [
       "12"
      ]
     },
     "execution_count": 3,
     "metadata": {},
     "output_type": "execute_result"
    }
   ],
   "source": [
    "4*3\n"
   ]
  },
  {
   "cell_type": "code",
   "execution_count": 4,
   "id": "a03c8afe-2a7b-4865-9281-7f5677fe3b88",
   "metadata": {},
   "outputs": [],
   "source": [
    "#Variables\n"
   ]
  },
  {
   "cell_type": "code",
   "execution_count": 5,
   "id": "5f14627f-eaa3-4b92-9311-0afac3d2d21f",
   "metadata": {},
   "outputs": [
    {
     "data": {
      "text/plain": [
       "225.0"
      ]
     },
     "execution_count": 5,
     "metadata": {},
     "output_type": "execute_result"
    }
   ],
   "source": [
    "900/4"
   ]
  },
  {
   "cell_type": "code",
   "execution_count": 6,
   "id": "7e5f9901-7ef7-42fd-b9f3-4cff3585ed34",
   "metadata": {},
   "outputs": [
    {
     "data": {
      "text/plain": [
       "128.57142857142858"
      ]
     },
     "execution_count": 6,
     "metadata": {},
     "output_type": "execute_result"
    }
   ],
   "source": [
    "900/7"
   ]
  },
  {
   "cell_type": "code",
   "execution_count": 7,
   "id": "65bbaf13-9143-4e30-9b6b-6e859c2ec09f",
   "metadata": {},
   "outputs": [
    {
     "data": {
      "text/plain": [
       "-90"
      ]
     },
     "execution_count": 7,
     "metadata": {},
     "output_type": "execute_result"
    }
   ],
   "source": [
    "10-100"
   ]
  },
  {
   "cell_type": "code",
   "execution_count": 8,
   "id": "50824e4a-3ab0-472a-ac84-72099145bb52",
   "metadata": {},
   "outputs": [
    {
     "data": {
      "text/plain": [
       "3125"
      ]
     },
     "execution_count": 8,
     "metadata": {},
     "output_type": "execute_result"
    }
   ],
   "source": [
    "5*5*5*5*5"
   ]
  },
  {
   "cell_type": "code",
   "execution_count": 9,
   "id": "5f002592-307f-4da6-8cae-8bffd788d463",
   "metadata": {},
   "outputs": [
    {
     "data": {
      "text/plain": [
       "6"
      ]
     },
     "execution_count": 9,
     "metadata": {},
     "output_type": "execute_result"
    }
   ],
   "source": [
    "4+2\n"
   ]
  },
  {
   "cell_type": "code",
   "execution_count": 10,
   "id": "fb9c7e99-2408-4e23-aae7-6a7803c5900e",
   "metadata": {},
   "outputs": [
    {
     "data": {
      "text/plain": [
       "30.0"
      ]
     },
     "execution_count": 10,
     "metadata": {},
     "output_type": "execute_result"
    }
   ],
   "source": [
    "60/2"
   ]
  },
  {
   "cell_type": "code",
   "execution_count": 11,
   "id": "5f428563-1558-480b-9027-4809202496f8",
   "metadata": {},
   "outputs": [
    {
     "data": {
      "text/plain": [
       "300"
      ]
     },
     "execution_count": 11,
     "metadata": {},
     "output_type": "execute_result"
    }
   ],
   "source": [
    "60*5"
   ]
  },
  {
   "cell_type": "code",
   "execution_count": 12,
   "id": "6e01cb3d-78cf-4f5e-8859-ece210eae160",
   "metadata": {},
   "outputs": [],
   "source": [
    "age=50"
   ]
  },
  {
   "cell_type": "code",
   "execution_count": 13,
   "id": "b50e19fc-00ec-4cf8-8e6e-10d573a9f9a3",
   "metadata": {},
   "outputs": [
    {
     "data": {
      "text/plain": [
       "50"
      ]
     },
     "execution_count": 13,
     "metadata": {},
     "output_type": "execute_result"
    }
   ],
   "source": [
    "age"
   ]
  },
  {
   "cell_type": "code",
   "execution_count": 14,
   "id": "2fa95ba6-ed6d-4fed-84b5-8f0740810c68",
   "metadata": {},
   "outputs": [
    {
     "data": {
      "text/plain": [
       "250"
      ]
     },
     "execution_count": 14,
     "metadata": {},
     "output_type": "execute_result"
    }
   ],
   "source": [
    "age*5"
   ]
  },
  {
   "cell_type": "code",
   "execution_count": 15,
   "id": "694a46f2-5dce-46eb-b37b-465a7d3284c3",
   "metadata": {},
   "outputs": [
    {
     "data": {
      "text/plain": [
       "10.0"
      ]
     },
     "execution_count": 15,
     "metadata": {},
     "output_type": "execute_result"
    }
   ],
   "source": [
    "age/5"
   ]
  },
  {
   "cell_type": "code",
   "execution_count": 16,
   "id": "feabd698-06ea-41ec-80a4-a410d99f1102",
   "metadata": {},
   "outputs": [
    {
     "data": {
      "text/plain": [
       "25.0"
      ]
     },
     "execution_count": 16,
     "metadata": {},
     "output_type": "execute_result"
    }
   ],
   "source": [
    "age/2"
   ]
  },
  {
   "cell_type": "code",
   "execution_count": 17,
   "id": "b25d4009-4338-45f1-9c35-27e7d4d79442",
   "metadata": {},
   "outputs": [
    {
     "data": {
      "text/plain": [
       "150"
      ]
     },
     "execution_count": 17,
     "metadata": {},
     "output_type": "execute_result"
    }
   ],
   "source": [
    "age*3"
   ]
  },
  {
   "cell_type": "code",
   "execution_count": 18,
   "id": "3ff24ab2-57d4-4c30-bf93-628344a81a2d",
   "metadata": {},
   "outputs": [],
   "source": [
    "#data type"
   ]
  },
  {
   "cell_type": "code",
   "execution_count": 19,
   "id": "c97cdff7-317b-455d-891f-d4531b09bfa9",
   "metadata": {},
   "outputs": [
    {
     "data": {
      "text/plain": [
       "int"
      ]
     },
     "execution_count": 19,
     "metadata": {},
     "output_type": "execute_result"
    }
   ],
   "source": [
    "type(10)"
   ]
  },
  {
   "cell_type": "code",
   "execution_count": 20,
   "id": "14aac24c-3c2d-4562-a76f-743d5e445b9d",
   "metadata": {},
   "outputs": [
    {
     "data": {
      "text/plain": [
       "int"
      ]
     },
     "execution_count": 20,
     "metadata": {},
     "output_type": "execute_result"
    }
   ],
   "source": [
    "type(10*3)"
   ]
  },
  {
   "cell_type": "code",
   "execution_count": 21,
   "id": "91f57fb3-6c60-4e0e-80b7-bf81f61b4ae7",
   "metadata": {},
   "outputs": [
    {
     "data": {
      "text/plain": [
       "int"
      ]
     },
     "execution_count": 21,
     "metadata": {},
     "output_type": "execute_result"
    }
   ],
   "source": [
    "type(age* 5)"
   ]
  },
  {
   "cell_type": "code",
   "execution_count": 22,
   "id": "906f81ee-7455-405e-9ad4-ac40f453e5d1",
   "metadata": {},
   "outputs": [
    {
     "data": {
      "text/plain": [
       "int"
      ]
     },
     "execution_count": 22,
     "metadata": {},
     "output_type": "execute_result"
    }
   ],
   "source": [
    "type(-1000)"
   ]
  },
  {
   "cell_type": "code",
   "execution_count": 23,
   "id": "7003c73b-c5ea-429e-9630-ec068052aa79",
   "metadata": {},
   "outputs": [],
   "source": [
    "x=-100"
   ]
  },
  {
   "cell_type": "code",
   "execution_count": 24,
   "id": "2715c588-d2e5-4bd9-868d-1c21beafdb86",
   "metadata": {},
   "outputs": [
    {
     "data": {
      "text/plain": [
       "int"
      ]
     },
     "execution_count": 24,
     "metadata": {},
     "output_type": "execute_result"
    }
   ],
   "source": [
    "type(x)"
   ]
  },
  {
   "cell_type": "code",
   "execution_count": 25,
   "id": "f5c2b464-481a-46b9-889b-d89fd2402af9",
   "metadata": {},
   "outputs": [
    {
     "data": {
      "text/plain": [
       "float"
      ]
     },
     "execution_count": 25,
     "metadata": {},
     "output_type": "execute_result"
    }
   ],
   "source": [
    "type(3.14)"
   ]
  },
  {
   "cell_type": "code",
   "execution_count": 26,
   "id": "d5e47fb8-de8c-47ba-b106-7a350097134b",
   "metadata": {},
   "outputs": [],
   "source": [
    "pi=3.14"
   ]
  },
  {
   "cell_type": "code",
   "execution_count": 27,
   "id": "dfa1c669-49d0-4f8d-8993-91c30dc24748",
   "metadata": {},
   "outputs": [
    {
     "data": {
      "text/plain": [
       "6.28"
      ]
     },
     "execution_count": 27,
     "metadata": {},
     "output_type": "execute_result"
    }
   ],
   "source": [
    "pi*2"
   ]
  },
  {
   "cell_type": "code",
   "execution_count": 28,
   "id": "dfffd254-2657-4ee4-b3a8-995cc8463612",
   "metadata": {},
   "outputs": [
    {
     "data": {
      "text/plain": [
       "-100"
      ]
     },
     "execution_count": 28,
     "metadata": {},
     "output_type": "execute_result"
    }
   ],
   "source": [
    "x"
   ]
  },
  {
   "cell_type": "code",
   "execution_count": 29,
   "id": "fe5ab619-987e-4610-ad1c-4b7fe09e619a",
   "metadata": {},
   "outputs": [
    {
     "data": {
      "text/plain": [
       "-96.86"
      ]
     },
     "execution_count": 29,
     "metadata": {},
     "output_type": "execute_result"
    }
   ],
   "source": [
    "x+pi"
   ]
  },
  {
   "cell_type": "code",
   "execution_count": 30,
   "id": "449c60d0-3fad-4d1e-997b-6c33c472ef39",
   "metadata": {},
   "outputs": [
    {
     "data": {
      "text/plain": [
       "-31.84713375796178"
      ]
     },
     "execution_count": 30,
     "metadata": {},
     "output_type": "execute_result"
    }
   ],
   "source": [
    "x/pi"
   ]
  },
  {
   "cell_type": "code",
   "execution_count": 31,
   "id": "64f56449-c0e9-4021-88b8-15d15f9c96bc",
   "metadata": {},
   "outputs": [],
   "source": [
    "x=10"
   ]
  },
  {
   "cell_type": "code",
   "execution_count": 32,
   "id": "1499c011-608c-4d85-8e43-dc0ff79828d8",
   "metadata": {},
   "outputs": [],
   "source": [
    "x=20"
   ]
  },
  {
   "cell_type": "code",
   "execution_count": 33,
   "id": "fad2a4e6-bc28-4ca0-a2c7-5cd44e5567c6",
   "metadata": {},
   "outputs": [
    {
     "data": {
      "text/plain": [
       "30"
      ]
     },
     "execution_count": 33,
     "metadata": {},
     "output_type": "execute_result"
    }
   ],
   "source": [
    "x+10"
   ]
  },
  {
   "cell_type": "code",
   "execution_count": 34,
   "id": "61b818fb-dc35-44d5-b239-4d2548d1ecea",
   "metadata": {},
   "outputs": [],
   "source": [
    "myFloat=1.54564646"
   ]
  },
  {
   "cell_type": "code",
   "execution_count": 35,
   "id": "87bb6fb0-bf9b-42a5-abb8-1162e948b67a",
   "metadata": {},
   "outputs": [
    {
     "data": {
      "text/plain": [
       "float"
      ]
     },
     "execution_count": 35,
     "metadata": {},
     "output_type": "execute_result"
    }
   ],
   "source": [
    "type(myFloat)"
   ]
  },
  {
   "cell_type": "code",
   "execution_count": 36,
   "id": "9338fcfb-4cde-4ba7-8434-15cc83025ace",
   "metadata": {},
   "outputs": [],
   "source": [
    "#camelCase\n",
    "#snake_case"
   ]
  },
  {
   "cell_type": "code",
   "execution_count": 37,
   "id": "914fbaac-f3a6-414f-8cc3-c0e813240390",
   "metadata": {},
   "outputs": [
    {
     "data": {
      "text/plain": [
       "10.0"
      ]
     },
     "execution_count": 37,
     "metadata": {},
     "output_type": "execute_result"
    }
   ],
   "source": [
    "40/4"
   ]
  },
  {
   "cell_type": "code",
   "execution_count": 38,
   "id": "7e0ad34b-e260-4bf4-b431-51a4569b5866",
   "metadata": {},
   "outputs": [
    {
     "data": {
      "text/plain": [
       "float"
      ]
     },
     "execution_count": 38,
     "metadata": {},
     "output_type": "execute_result"
    }
   ],
   "source": [
    "type(40/4)"
   ]
  },
  {
   "cell_type": "code",
   "execution_count": 39,
   "id": "2fe35384-ed46-479e-877c-1da9fc89ad58",
   "metadata": {},
   "outputs": [
    {
     "data": {
      "text/plain": [
       "4.444444444444445"
      ]
     },
     "execution_count": 39,
     "metadata": {},
     "output_type": "execute_result"
    }
   ],
   "source": [
    "40/9"
   ]
  },
  {
   "cell_type": "code",
   "execution_count": 40,
   "id": "cc5fb390-284e-444c-b36a-f649899a1812",
   "metadata": {},
   "outputs": [
    {
     "data": {
      "text/plain": [
       "3.076923076923077"
      ]
     },
     "execution_count": 40,
     "metadata": {},
     "output_type": "execute_result"
    }
   ],
   "source": [
    "40/13"
   ]
  },
  {
   "cell_type": "code",
   "execution_count": 41,
   "id": "e6710faf-fee2-41c6-bd99-05ae21d56f09",
   "metadata": {},
   "outputs": [
    {
     "data": {
      "text/plain": [
       "1.3333333333333333"
      ]
     },
     "execution_count": 41,
     "metadata": {},
     "output_type": "execute_result"
    }
   ],
   "source": [
    "4.0/3.0"
   ]
  },
  {
   "cell_type": "code",
   "execution_count": 42,
   "id": "749b5740-c2d9-4e2f-b7a4-096adb15ec6e",
   "metadata": {},
   "outputs": [
    {
     "data": {
      "text/plain": [
       "1.3333333333333333"
      ]
     },
     "execution_count": 42,
     "metadata": {},
     "output_type": "execute_result"
    }
   ],
   "source": [
    "4/3"
   ]
  },
  {
   "cell_type": "code",
   "execution_count": 43,
   "id": "2e7ebc97-e945-4c0c-ba17-caf5a5a7e664",
   "metadata": {},
   "outputs": [
    {
     "data": {
      "text/plain": [
       "float"
      ]
     },
     "execution_count": 43,
     "metadata": {},
     "output_type": "execute_result"
    }
   ],
   "source": [
    "type(4.0)"
   ]
  },
  {
   "cell_type": "code",
   "execution_count": 44,
   "id": "38e512ff-1a9c-4de5-917d-9ab6a03783b5",
   "metadata": {},
   "outputs": [
    {
     "data": {
      "text/plain": [
       "8"
      ]
     },
     "execution_count": 44,
     "metadata": {},
     "output_type": "execute_result"
    }
   ],
   "source": [
    "4*2"
   ]
  },
  {
   "cell_type": "code",
   "execution_count": 45,
   "id": "3fa62deb-90a0-4db1-a1e9-502c1c2fa353",
   "metadata": {},
   "outputs": [
    {
     "data": {
      "text/plain": [
       "6"
      ]
     },
     "execution_count": 45,
     "metadata": {},
     "output_type": "execute_result"
    }
   ],
   "source": [
    "4+2"
   ]
  },
  {
   "cell_type": "code",
   "execution_count": 46,
   "id": "50d123c4-6023-45d9-9eb8-6e5b5941d1d6",
   "metadata": {},
   "outputs": [
    {
     "data": {
      "text/plain": [
       "2"
      ]
     },
     "execution_count": 46,
     "metadata": {},
     "output_type": "execute_result"
    }
   ],
   "source": [
    "4-2"
   ]
  },
  {
   "cell_type": "code",
   "execution_count": 47,
   "id": "5e229725-e8df-4195-bd98-85d3cd9a55c1",
   "metadata": {},
   "outputs": [
    {
     "data": {
      "text/plain": [
       "2.0"
      ]
     },
     "execution_count": 47,
     "metadata": {},
     "output_type": "execute_result"
    }
   ],
   "source": [
    "4.0-2"
   ]
  },
  {
   "cell_type": "code",
   "execution_count": 48,
   "id": "e8f416c0-0257-4ee9-8a10-01579cc8c1e0",
   "metadata": {},
   "outputs": [
    {
     "data": {
      "text/plain": [
       "2.2"
      ]
     },
     "execution_count": 48,
     "metadata": {},
     "output_type": "execute_result"
    }
   ],
   "source": [
    "4.2-2"
   ]
  },
  {
   "cell_type": "code",
   "execution_count": 49,
   "id": "d8af870f-505f-4cf3-ae0d-bc0ca288999f",
   "metadata": {},
   "outputs": [
    {
     "data": {
      "text/plain": [
       "2.5"
      ]
     },
     "execution_count": 49,
     "metadata": {},
     "output_type": "execute_result"
    }
   ],
   "source": [
    "4.5-2"
   ]
  },
  {
   "cell_type": "code",
   "execution_count": 50,
   "id": "90e754ac-1f0f-41d3-9a09-ada87a8c701b",
   "metadata": {},
   "outputs": [
    {
     "data": {
      "text/plain": [
       "float"
      ]
     },
     "execution_count": 50,
     "metadata": {},
     "output_type": "execute_result"
    }
   ],
   "source": [
    "type(4.5-2)"
   ]
  },
  {
   "cell_type": "code",
   "execution_count": 51,
   "id": "45891bf1-99ea-440e-8f3f-ea23448018f3",
   "metadata": {},
   "outputs": [
    {
     "data": {
      "text/plain": [
       "13.440000000000001"
      ]
     },
     "execution_count": 51,
     "metadata": {},
     "output_type": "execute_result"
    }
   ],
   "source": [
    "4.2*3.2"
   ]
  },
  {
   "cell_type": "code",
   "execution_count": 52,
   "id": "eda56874-b5c4-4c61-a378-1ed63fb2d6da",
   "metadata": {},
   "outputs": [
    {
     "data": {
      "text/plain": [
       "2.6000000000000014"
      ]
     },
     "execution_count": 52,
     "metadata": {},
     "output_type": "execute_result"
    }
   ],
   "source": [
    "4.2*3-10"
   ]
  },
  {
   "cell_type": "code",
   "execution_count": 53,
   "id": "bf4f04d8-5be0-4b71-b850-83b97ff404ba",
   "metadata": {},
   "outputs": [
    {
     "data": {
      "text/plain": [
       "-18"
      ]
     },
     "execution_count": 53,
     "metadata": {},
     "output_type": "execute_result"
    }
   ],
   "source": [
    "2-10*2"
   ]
  },
  {
   "cell_type": "code",
   "execution_count": 54,
   "id": "10470c41-ef22-419e-99ab-ae52ca5443f6",
   "metadata": {},
   "outputs": [
    {
     "data": {
      "text/plain": [
       "32"
      ]
     },
     "execution_count": 54,
     "metadata": {},
     "output_type": "execute_result"
    }
   ],
   "source": [
    "2*2*2*2*2"
   ]
  },
  {
   "cell_type": "code",
   "execution_count": 55,
   "id": "f03b6618-86e4-44c8-992b-db6f859ee508",
   "metadata": {},
   "outputs": [
    {
     "data": {
      "text/plain": [
       "32"
      ]
     },
     "execution_count": 55,
     "metadata": {},
     "output_type": "execute_result"
    }
   ],
   "source": [
    "2**5"
   ]
  },
  {
   "cell_type": "code",
   "execution_count": 56,
   "id": "f2ed956f-d080-4672-95e3-73bb7a011aa9",
   "metadata": {},
   "outputs": [
    {
     "data": {
      "text/plain": [
       "512"
      ]
     },
     "execution_count": 56,
     "metadata": {},
     "output_type": "execute_result"
    }
   ],
   "source": [
    "2**9"
   ]
  },
  {
   "cell_type": "code",
   "execution_count": 57,
   "id": "f91ce656-4329-48e4-9afb-e9f182333642",
   "metadata": {},
   "outputs": [
    {
     "data": {
      "text/plain": [
       "1"
      ]
     },
     "execution_count": 57,
     "metadata": {},
     "output_type": "execute_result"
    }
   ],
   "source": [
    "10%3 #remainder"
   ]
  },
  {
   "cell_type": "code",
   "execution_count": 58,
   "id": "78ed65ef-89cb-4b8d-ad29-6d130c021b3f",
   "metadata": {},
   "outputs": [
    {
     "data": {
      "text/plain": [
       "2"
      ]
     },
     "execution_count": 58,
     "metadata": {},
     "output_type": "execute_result"
    }
   ],
   "source": [
    "10%4"
   ]
  },
  {
   "cell_type": "code",
   "execution_count": 59,
   "id": "85988afd-2761-4bd3-84f5-ce77d6c8d237",
   "metadata": {},
   "outputs": [
    {
     "data": {
      "text/plain": [
       "0"
      ]
     },
     "execution_count": 59,
     "metadata": {},
     "output_type": "execute_result"
    }
   ],
   "source": [
    "10%2"
   ]
  },
  {
   "cell_type": "code",
   "execution_count": null,
   "id": "d81da90a-7438-4d2f-868f-e1ed843808fb",
   "metadata": {},
   "outputs": [],
   "source": []
  }
 ],
 "metadata": {
  "kernelspec": {
   "display_name": "Python 3 (ipykernel)",
   "language": "python",
   "name": "python3"
  },
  "language_info": {
   "codemirror_mode": {
    "name": "ipython",
    "version": 3
   },
   "file_extension": ".py",
   "mimetype": "text/x-python",
   "name": "python",
   "nbconvert_exporter": "python",
   "pygments_lexer": "ipython3",
   "version": "3.12.7"
  }
 },
 "nbformat": 4,
 "nbformat_minor": 5
}
